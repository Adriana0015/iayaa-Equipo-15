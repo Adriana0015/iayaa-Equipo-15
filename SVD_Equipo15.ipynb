{
  "nbformat": 4,
  "nbformat_minor": 0,
  "metadata": {
    "colab": {
      "provenance": [],
      "collapsed_sections": [
        "kHsXgq-hJbSb",
        "fBduUvh7IuHD",
        "2GPZVc9qA52_"
      ],
      "include_colab_link": true
    },
    "kernelspec": {
      "name": "python3",
      "display_name": "Python 3"
    },
    "language_info": {
      "name": "python"
    }
  },
  "cells": [
    {
      "cell_type": "markdown",
      "metadata": {
        "id": "view-in-github",
        "colab_type": "text"
      },
      "source": [
        "<a href=\"https://colab.research.google.com/github/Adriana0015/iayaa-Equipo-15/blob/main/SVD_Equipo15.ipynb\" target=\"_parent\"><img src=\"https://colab.research.google.com/assets/colab-badge.svg\" alt=\"Open In Colab\"/></a>"
      ]
    },
    {
      "cell_type": "markdown",
      "source": [
        "#**Maestría en Inteligencia Artificial Aplicada**\n",
        "##**Curso: Inteligencia Artificial y Aprendizaje Automático**\n",
        "###Tecnológico de Monterrey\n",
        "###Prof Luis Eduardo Falcón Morales\n",
        "\n",
        "## **Adtividad de la Semana 10**\n",
        "###**Reducción de Dimensionalidad - Descomposición en Valores Singulares (SVD) y Sistemas de Recomendación**\n"
      ],
      "metadata": {
        "id": "G5q8p0TKStA1"
      }
    },
    {
      "cell_type": "markdown",
      "source": [
        "**Nombres y matrículas de los integrantes del equipo:**\n",
        "\n",
        "*   Adriana Fernanda Jimenez Avalos - A01087695\n",
        "*  Vladimir Salazar Altamirano - A01793118 \n",
        "*  Pablo Alejandro Colunga Vázquez - A01793671 \n",
        "*  Julián Valera Juárez - A01793875 \n",
        "*  Luis Daniel Rivera Salinas - A01374997 "
      ],
      "metadata": {
        "id": "KYjrI8ufSxPt"
      }
    },
    {
      "cell_type": "code",
      "execution_count": 1,
      "metadata": {
        "id": "FEwCdanK3vIJ"
      },
      "outputs": [],
      "source": [
        "# Módulos, librerías y paquetes\n",
        "\n",
        "import pandas as pd\n",
        "import numpy as np\n",
        "import numpy as np\n",
        "import pandas as pd\n",
        "import matplotlib.pyplot as plt\n",
        "from sklearn.model_selection import train_test_split, GridSearchCV, KFold\n",
        "from sklearn.pipeline import Pipeline\n",
        "import seaborn as sns\n",
        "import requests, zipfile, io\n",
        "from io import BytesIO"
      ]
    },
    {
      "cell_type": "markdown",
      "source": [
        "# Ejercicio-1.\n",
        "Descarga los archivos y genera la matriz de utilidad en la cual los renglones son los usuarios\n",
        "(user_ID), las columnas los nombres de los restaurantes (name) y las entradas la evaluaciones generales dadas por los usuarios (rating). En particular indica el tamaño de dicha matriz y despliega sus primeros 10 renglones."
      ],
      "metadata": {
        "id": "KO1i8Bbc3-tE"
      }
    },
    {
      "cell_type": "code",
      "source": [
        "url = 'https://archive.ics.uci.edu/ml/machine-learning-databases/00232/RCdata.zip'\n",
        "file_name_rc = 'rating_final.csv'\n",
        "file_name_geo = 'geoplaces2.csv'\n",
        "r = requests.get(url)\n",
        "z = zipfile.ZipFile(io.BytesIO(r.content))\n",
        "z.extractall()\n",
        "df_rating = pd.read_csv(file_name_rc, sep=',', encoding = 'latin1')\n",
        "df_rating"
      ],
      "metadata": {
        "colab": {
          "base_uri": "https://localhost:8080/",
          "height": 424
        },
        "id": "4fRSi2EH37Ur",
        "outputId": "e8d4fd6d-2163-4d44-a1f2-565fe2e38f46"
      },
      "execution_count": 2,
      "outputs": [
        {
          "output_type": "execute_result",
          "data": {
            "text/plain": [
              "     userID  placeID  rating  food_rating  service_rating\n",
              "0     U1077   135085       2            2               2\n",
              "1     U1077   135038       2            2               1\n",
              "2     U1077   132825       2            2               2\n",
              "3     U1077   135060       1            2               2\n",
              "4     U1068   135104       1            1               2\n",
              "...     ...      ...     ...          ...             ...\n",
              "1156  U1043   132630       1            1               1\n",
              "1157  U1011   132715       1            1               0\n",
              "1158  U1068   132733       1            1               0\n",
              "1159  U1068   132594       1            1               1\n",
              "1160  U1068   132660       0            0               0\n",
              "\n",
              "[1161 rows x 5 columns]"
            ],
            "text/html": [
              "\n",
              "  <div id=\"df-307d33dc-a3f5-454d-a760-43dd31ff6bf0\">\n",
              "    <div class=\"colab-df-container\">\n",
              "      <div>\n",
              "<style scoped>\n",
              "    .dataframe tbody tr th:only-of-type {\n",
              "        vertical-align: middle;\n",
              "    }\n",
              "\n",
              "    .dataframe tbody tr th {\n",
              "        vertical-align: top;\n",
              "    }\n",
              "\n",
              "    .dataframe thead th {\n",
              "        text-align: right;\n",
              "    }\n",
              "</style>\n",
              "<table border=\"1\" class=\"dataframe\">\n",
              "  <thead>\n",
              "    <tr style=\"text-align: right;\">\n",
              "      <th></th>\n",
              "      <th>userID</th>\n",
              "      <th>placeID</th>\n",
              "      <th>rating</th>\n",
              "      <th>food_rating</th>\n",
              "      <th>service_rating</th>\n",
              "    </tr>\n",
              "  </thead>\n",
              "  <tbody>\n",
              "    <tr>\n",
              "      <th>0</th>\n",
              "      <td>U1077</td>\n",
              "      <td>135085</td>\n",
              "      <td>2</td>\n",
              "      <td>2</td>\n",
              "      <td>2</td>\n",
              "    </tr>\n",
              "    <tr>\n",
              "      <th>1</th>\n",
              "      <td>U1077</td>\n",
              "      <td>135038</td>\n",
              "      <td>2</td>\n",
              "      <td>2</td>\n",
              "      <td>1</td>\n",
              "    </tr>\n",
              "    <tr>\n",
              "      <th>2</th>\n",
              "      <td>U1077</td>\n",
              "      <td>132825</td>\n",
              "      <td>2</td>\n",
              "      <td>2</td>\n",
              "      <td>2</td>\n",
              "    </tr>\n",
              "    <tr>\n",
              "      <th>3</th>\n",
              "      <td>U1077</td>\n",
              "      <td>135060</td>\n",
              "      <td>1</td>\n",
              "      <td>2</td>\n",
              "      <td>2</td>\n",
              "    </tr>\n",
              "    <tr>\n",
              "      <th>4</th>\n",
              "      <td>U1068</td>\n",
              "      <td>135104</td>\n",
              "      <td>1</td>\n",
              "      <td>1</td>\n",
              "      <td>2</td>\n",
              "    </tr>\n",
              "    <tr>\n",
              "      <th>...</th>\n",
              "      <td>...</td>\n",
              "      <td>...</td>\n",
              "      <td>...</td>\n",
              "      <td>...</td>\n",
              "      <td>...</td>\n",
              "    </tr>\n",
              "    <tr>\n",
              "      <th>1156</th>\n",
              "      <td>U1043</td>\n",
              "      <td>132630</td>\n",
              "      <td>1</td>\n",
              "      <td>1</td>\n",
              "      <td>1</td>\n",
              "    </tr>\n",
              "    <tr>\n",
              "      <th>1157</th>\n",
              "      <td>U1011</td>\n",
              "      <td>132715</td>\n",
              "      <td>1</td>\n",
              "      <td>1</td>\n",
              "      <td>0</td>\n",
              "    </tr>\n",
              "    <tr>\n",
              "      <th>1158</th>\n",
              "      <td>U1068</td>\n",
              "      <td>132733</td>\n",
              "      <td>1</td>\n",
              "      <td>1</td>\n",
              "      <td>0</td>\n",
              "    </tr>\n",
              "    <tr>\n",
              "      <th>1159</th>\n",
              "      <td>U1068</td>\n",
              "      <td>132594</td>\n",
              "      <td>1</td>\n",
              "      <td>1</td>\n",
              "      <td>1</td>\n",
              "    </tr>\n",
              "    <tr>\n",
              "      <th>1160</th>\n",
              "      <td>U1068</td>\n",
              "      <td>132660</td>\n",
              "      <td>0</td>\n",
              "      <td>0</td>\n",
              "      <td>0</td>\n",
              "    </tr>\n",
              "  </tbody>\n",
              "</table>\n",
              "<p>1161 rows × 5 columns</p>\n",
              "</div>\n",
              "      <button class=\"colab-df-convert\" onclick=\"convertToInteractive('df-307d33dc-a3f5-454d-a760-43dd31ff6bf0')\"\n",
              "              title=\"Convert this dataframe to an interactive table.\"\n",
              "              style=\"display:none;\">\n",
              "        \n",
              "  <svg xmlns=\"http://www.w3.org/2000/svg\" height=\"24px\"viewBox=\"0 0 24 24\"\n",
              "       width=\"24px\">\n",
              "    <path d=\"M0 0h24v24H0V0z\" fill=\"none\"/>\n",
              "    <path d=\"M18.56 5.44l.94 2.06.94-2.06 2.06-.94-2.06-.94-.94-2.06-.94 2.06-2.06.94zm-11 1L8.5 8.5l.94-2.06 2.06-.94-2.06-.94L8.5 2.5l-.94 2.06-2.06.94zm10 10l.94 2.06.94-2.06 2.06-.94-2.06-.94-.94-2.06-.94 2.06-2.06.94z\"/><path d=\"M17.41 7.96l-1.37-1.37c-.4-.4-.92-.59-1.43-.59-.52 0-1.04.2-1.43.59L10.3 9.45l-7.72 7.72c-.78.78-.78 2.05 0 2.83L4 21.41c.39.39.9.59 1.41.59.51 0 1.02-.2 1.41-.59l7.78-7.78 2.81-2.81c.8-.78.8-2.07 0-2.86zM5.41 20L4 18.59l7.72-7.72 1.47 1.35L5.41 20z\"/>\n",
              "  </svg>\n",
              "      </button>\n",
              "      \n",
              "  <style>\n",
              "    .colab-df-container {\n",
              "      display:flex;\n",
              "      flex-wrap:wrap;\n",
              "      gap: 12px;\n",
              "    }\n",
              "\n",
              "    .colab-df-convert {\n",
              "      background-color: #E8F0FE;\n",
              "      border: none;\n",
              "      border-radius: 50%;\n",
              "      cursor: pointer;\n",
              "      display: none;\n",
              "      fill: #1967D2;\n",
              "      height: 32px;\n",
              "      padding: 0 0 0 0;\n",
              "      width: 32px;\n",
              "    }\n",
              "\n",
              "    .colab-df-convert:hover {\n",
              "      background-color: #E2EBFA;\n",
              "      box-shadow: 0px 1px 2px rgba(60, 64, 67, 0.3), 0px 1px 3px 1px rgba(60, 64, 67, 0.15);\n",
              "      fill: #174EA6;\n",
              "    }\n",
              "\n",
              "    [theme=dark] .colab-df-convert {\n",
              "      background-color: #3B4455;\n",
              "      fill: #D2E3FC;\n",
              "    }\n",
              "\n",
              "    [theme=dark] .colab-df-convert:hover {\n",
              "      background-color: #434B5C;\n",
              "      box-shadow: 0px 1px 3px 1px rgba(0, 0, 0, 0.15);\n",
              "      filter: drop-shadow(0px 1px 2px rgba(0, 0, 0, 0.3));\n",
              "      fill: #FFFFFF;\n",
              "    }\n",
              "  </style>\n",
              "\n",
              "      <script>\n",
              "        const buttonEl =\n",
              "          document.querySelector('#df-307d33dc-a3f5-454d-a760-43dd31ff6bf0 button.colab-df-convert');\n",
              "        buttonEl.style.display =\n",
              "          google.colab.kernel.accessAllowed ? 'block' : 'none';\n",
              "\n",
              "        async function convertToInteractive(key) {\n",
              "          const element = document.querySelector('#df-307d33dc-a3f5-454d-a760-43dd31ff6bf0');\n",
              "          const dataTable =\n",
              "            await google.colab.kernel.invokeFunction('convertToInteractive',\n",
              "                                                     [key], {});\n",
              "          if (!dataTable) return;\n",
              "\n",
              "          const docLinkHtml = 'Like what you see? Visit the ' +\n",
              "            '<a target=\"_blank\" href=https://colab.research.google.com/notebooks/data_table.ipynb>data table notebook</a>'\n",
              "            + ' to learn more about interactive tables.';\n",
              "          element.innerHTML = '';\n",
              "          dataTable['output_type'] = 'display_data';\n",
              "          await google.colab.output.renderOutput(dataTable, element);\n",
              "          const docLink = document.createElement('div');\n",
              "          docLink.innerHTML = docLinkHtml;\n",
              "          element.appendChild(docLink);\n",
              "        }\n",
              "      </script>\n",
              "    </div>\n",
              "  </div>\n",
              "  "
            ]
          },
          "metadata": {},
          "execution_count": 2
        }
      ]
    },
    {
      "cell_type": "code",
      "source": [
        "#Leemos el archivo geoplaces2.csv\n",
        "dfg2_restaurante = pd.read_csv(file_name_geo, sep=',', on_bad_lines='skip', encoding='latin-1')\n",
        "dfg2_restaurante"
      ],
      "metadata": {
        "colab": {
          "base_uri": "https://localhost:8080/",
          "height": 835
        },
        "id": "YCWt9TvsADn5",
        "outputId": "5e72fbbe-ece1-4ec6-b285-25ad24b485fc"
      },
      "execution_count": 3,
      "outputs": [
        {
          "output_type": "execute_result",
          "data": {
            "text/plain": [
              "     placeID   latitude   longitude  \\\n",
              "0     134999  18.915421  -99.184871   \n",
              "1     132825  22.147392 -100.983092   \n",
              "2     135106  22.149709 -100.976093   \n",
              "3     132667  23.752697  -99.163359   \n",
              "4     132613  23.752903  -99.165076   \n",
              "..       ...        ...         ...   \n",
              "125   132866  22.141220 -100.931311   \n",
              "126   135072  22.149192 -101.002936   \n",
              "127   135109  18.921785  -99.235350   \n",
              "128   135019  18.875011  -99.159422   \n",
              "129   132877  22.135364 -100.934948   \n",
              "\n",
              "                                        the_geom_meter  \\\n",
              "0    0101000020957F000088568DE356715AC138C0A525FC46...   \n",
              "1    0101000020957F00001AD016568C4858C1243261274BA5...   \n",
              "2    0101000020957F0000649D6F21634858C119AE9BF528A3...   \n",
              "3    0101000020957F00005D67BCDDED8157C1222A2DC8D84D...   \n",
              "4    0101000020957F00008EBA2D06DC8157C194E03B7B504E...   \n",
              "..                                                 ...   \n",
              "125  0101000020957F000013871838EC4A58C1B5DF74F8E396...   \n",
              "126  0101000020957F0000E7B79B1DB94758C1D29BC363D8AA...   \n",
              "127  0101000020957F0000A6BF695F136F5AC1DADF87B20556...   \n",
              "128  0101000020957F0000B49B2E5C6E785AC12F9D58435241...   \n",
              "129  0101000020957F000090735015B84B58C1AF0DC0414698...   \n",
              "\n",
              "                               name  \\\n",
              "0                   Kiku Cuernavaca   \n",
              "1                   puesto de tacos   \n",
              "2        El Rincón de San Francisco   \n",
              "3    little pizza Emilio Portes Gil   \n",
              "4                     carnitas_mata   \n",
              "..                              ...   \n",
              "125                         Chaires   \n",
              "126                      Sushi Itto   \n",
              "127                       Paniroles   \n",
              "128     Restaurant Bar Coty y Pablo   \n",
              "129                sirloin stockade   \n",
              "\n",
              "                                             address             city  \\\n",
              "0                                         Revolucion       Cuernavaca   \n",
              "1             esquina santos degollado y leon guzman           s.l.p.   \n",
              "2                                    Universidad 169  San Luis Potosi   \n",
              "3                            calle emilio portes gil        victoria    \n",
              "4                             lic. Emilio portes gil         victoria   \n",
              "..                                               ...              ...   \n",
              "125                                 Ricardo B. Anaya  San Luis Potosi   \n",
              "126               Venustiano Carranza 1809 C Polanco  San Luis Potosi   \n",
              "127                                                ?                ?   \n",
              "128  Paseo de Las Fuentes 24 Pedregal de Las Fuentes         Jiutepec   \n",
              "129                                                ?                ?   \n",
              "\n",
              "               state country fax  ...            alcohol   smoking_area  \\\n",
              "0            Morelos  Mexico   ?  ...  No_Alcohol_Served           none   \n",
              "1             s.l.p.  mexico   ?  ...  No_Alcohol_Served           none   \n",
              "2    San Luis Potosi  Mexico   ?  ...          Wine-Beer    only at bar   \n",
              "3         tamaulipas       ?   ?  ...  No_Alcohol_Served           none   \n",
              "4         Tamaulipas  Mexico   ?  ...  No_Alcohol_Served      permitted   \n",
              "..               ...     ...  ..  ...                ...            ...   \n",
              "125  San Luis Potosi  Mexico   ?  ...  No_Alcohol_Served  not permitted   \n",
              "126              SLP  Mexico   ?  ...  No_Alcohol_Served           none   \n",
              "127                ?       ?   ?  ...          Wine-Beer  not permitted   \n",
              "128          Morelos  Mexico   ?  ...  No_Alcohol_Served           none   \n",
              "129                ?       ?   ?  ...  No_Alcohol_Served           none   \n",
              "\n",
              "    dress_code     accessibility   price                    url Rambience  \\\n",
              "0     informal  no_accessibility  medium  kikucuernavaca.com.mx  familiar   \n",
              "1     informal        completely     low                      ?  familiar   \n",
              "2     informal         partially  medium                      ?  familiar   \n",
              "3     informal        completely     low                      ?  familiar   \n",
              "4     informal        completely  medium                      ?  familiar   \n",
              "..         ...               ...     ...                    ...       ...   \n",
              "125   informal        completely  medium                      ?  familiar   \n",
              "126   informal  no_accessibility  medium      sushi-itto.com.mx  familiar   \n",
              "127   informal  no_accessibility  medium                      ?     quiet   \n",
              "128   informal        completely     low                      ?  familiar   \n",
              "129   informal        completely     low                      ?  familiar   \n",
              "\n",
              "    franchise    area other_services  \n",
              "0           f  closed           none  \n",
              "1           f    open           none  \n",
              "2           f    open           none  \n",
              "3           t  closed           none  \n",
              "4           t  closed           none  \n",
              "..        ...     ...            ...  \n",
              "125         f  closed           none  \n",
              "126         f  closed           none  \n",
              "127         f  closed       Internet  \n",
              "128         f  closed           none  \n",
              "129         f  closed           none  \n",
              "\n",
              "[130 rows x 21 columns]"
            ],
            "text/html": [
              "\n",
              "  <div id=\"df-0ea0508d-0214-473d-a5e0-a1eb656ee2ae\">\n",
              "    <div class=\"colab-df-container\">\n",
              "      <div>\n",
              "<style scoped>\n",
              "    .dataframe tbody tr th:only-of-type {\n",
              "        vertical-align: middle;\n",
              "    }\n",
              "\n",
              "    .dataframe tbody tr th {\n",
              "        vertical-align: top;\n",
              "    }\n",
              "\n",
              "    .dataframe thead th {\n",
              "        text-align: right;\n",
              "    }\n",
              "</style>\n",
              "<table border=\"1\" class=\"dataframe\">\n",
              "  <thead>\n",
              "    <tr style=\"text-align: right;\">\n",
              "      <th></th>\n",
              "      <th>placeID</th>\n",
              "      <th>latitude</th>\n",
              "      <th>longitude</th>\n",
              "      <th>the_geom_meter</th>\n",
              "      <th>name</th>\n",
              "      <th>address</th>\n",
              "      <th>city</th>\n",
              "      <th>state</th>\n",
              "      <th>country</th>\n",
              "      <th>fax</th>\n",
              "      <th>...</th>\n",
              "      <th>alcohol</th>\n",
              "      <th>smoking_area</th>\n",
              "      <th>dress_code</th>\n",
              "      <th>accessibility</th>\n",
              "      <th>price</th>\n",
              "      <th>url</th>\n",
              "      <th>Rambience</th>\n",
              "      <th>franchise</th>\n",
              "      <th>area</th>\n",
              "      <th>other_services</th>\n",
              "    </tr>\n",
              "  </thead>\n",
              "  <tbody>\n",
              "    <tr>\n",
              "      <th>0</th>\n",
              "      <td>134999</td>\n",
              "      <td>18.915421</td>\n",
              "      <td>-99.184871</td>\n",
              "      <td>0101000020957F000088568DE356715AC138C0A525FC46...</td>\n",
              "      <td>Kiku Cuernavaca</td>\n",
              "      <td>Revolucion</td>\n",
              "      <td>Cuernavaca</td>\n",
              "      <td>Morelos</td>\n",
              "      <td>Mexico</td>\n",
              "      <td>?</td>\n",
              "      <td>...</td>\n",
              "      <td>No_Alcohol_Served</td>\n",
              "      <td>none</td>\n",
              "      <td>informal</td>\n",
              "      <td>no_accessibility</td>\n",
              "      <td>medium</td>\n",
              "      <td>kikucuernavaca.com.mx</td>\n",
              "      <td>familiar</td>\n",
              "      <td>f</td>\n",
              "      <td>closed</td>\n",
              "      <td>none</td>\n",
              "    </tr>\n",
              "    <tr>\n",
              "      <th>1</th>\n",
              "      <td>132825</td>\n",
              "      <td>22.147392</td>\n",
              "      <td>-100.983092</td>\n",
              "      <td>0101000020957F00001AD016568C4858C1243261274BA5...</td>\n",
              "      <td>puesto de tacos</td>\n",
              "      <td>esquina santos degollado y leon guzman</td>\n",
              "      <td>s.l.p.</td>\n",
              "      <td>s.l.p.</td>\n",
              "      <td>mexico</td>\n",
              "      <td>?</td>\n",
              "      <td>...</td>\n",
              "      <td>No_Alcohol_Served</td>\n",
              "      <td>none</td>\n",
              "      <td>informal</td>\n",
              "      <td>completely</td>\n",
              "      <td>low</td>\n",
              "      <td>?</td>\n",
              "      <td>familiar</td>\n",
              "      <td>f</td>\n",
              "      <td>open</td>\n",
              "      <td>none</td>\n",
              "    </tr>\n",
              "    <tr>\n",
              "      <th>2</th>\n",
              "      <td>135106</td>\n",
              "      <td>22.149709</td>\n",
              "      <td>-100.976093</td>\n",
              "      <td>0101000020957F0000649D6F21634858C119AE9BF528A3...</td>\n",
              "      <td>El Rincón de San Francisco</td>\n",
              "      <td>Universidad 169</td>\n",
              "      <td>San Luis Potosi</td>\n",
              "      <td>San Luis Potosi</td>\n",
              "      <td>Mexico</td>\n",
              "      <td>?</td>\n",
              "      <td>...</td>\n",
              "      <td>Wine-Beer</td>\n",
              "      <td>only at bar</td>\n",
              "      <td>informal</td>\n",
              "      <td>partially</td>\n",
              "      <td>medium</td>\n",
              "      <td>?</td>\n",
              "      <td>familiar</td>\n",
              "      <td>f</td>\n",
              "      <td>open</td>\n",
              "      <td>none</td>\n",
              "    </tr>\n",
              "    <tr>\n",
              "      <th>3</th>\n",
              "      <td>132667</td>\n",
              "      <td>23.752697</td>\n",
              "      <td>-99.163359</td>\n",
              "      <td>0101000020957F00005D67BCDDED8157C1222A2DC8D84D...</td>\n",
              "      <td>little pizza Emilio Portes Gil</td>\n",
              "      <td>calle emilio portes gil</td>\n",
              "      <td>victoria</td>\n",
              "      <td>tamaulipas</td>\n",
              "      <td>?</td>\n",
              "      <td>?</td>\n",
              "      <td>...</td>\n",
              "      <td>No_Alcohol_Served</td>\n",
              "      <td>none</td>\n",
              "      <td>informal</td>\n",
              "      <td>completely</td>\n",
              "      <td>low</td>\n",
              "      <td>?</td>\n",
              "      <td>familiar</td>\n",
              "      <td>t</td>\n",
              "      <td>closed</td>\n",
              "      <td>none</td>\n",
              "    </tr>\n",
              "    <tr>\n",
              "      <th>4</th>\n",
              "      <td>132613</td>\n",
              "      <td>23.752903</td>\n",
              "      <td>-99.165076</td>\n",
              "      <td>0101000020957F00008EBA2D06DC8157C194E03B7B504E...</td>\n",
              "      <td>carnitas_mata</td>\n",
              "      <td>lic. Emilio portes gil</td>\n",
              "      <td>victoria</td>\n",
              "      <td>Tamaulipas</td>\n",
              "      <td>Mexico</td>\n",
              "      <td>?</td>\n",
              "      <td>...</td>\n",
              "      <td>No_Alcohol_Served</td>\n",
              "      <td>permitted</td>\n",
              "      <td>informal</td>\n",
              "      <td>completely</td>\n",
              "      <td>medium</td>\n",
              "      <td>?</td>\n",
              "      <td>familiar</td>\n",
              "      <td>t</td>\n",
              "      <td>closed</td>\n",
              "      <td>none</td>\n",
              "    </tr>\n",
              "    <tr>\n",
              "      <th>...</th>\n",
              "      <td>...</td>\n",
              "      <td>...</td>\n",
              "      <td>...</td>\n",
              "      <td>...</td>\n",
              "      <td>...</td>\n",
              "      <td>...</td>\n",
              "      <td>...</td>\n",
              "      <td>...</td>\n",
              "      <td>...</td>\n",
              "      <td>...</td>\n",
              "      <td>...</td>\n",
              "      <td>...</td>\n",
              "      <td>...</td>\n",
              "      <td>...</td>\n",
              "      <td>...</td>\n",
              "      <td>...</td>\n",
              "      <td>...</td>\n",
              "      <td>...</td>\n",
              "      <td>...</td>\n",
              "      <td>...</td>\n",
              "      <td>...</td>\n",
              "    </tr>\n",
              "    <tr>\n",
              "      <th>125</th>\n",
              "      <td>132866</td>\n",
              "      <td>22.141220</td>\n",
              "      <td>-100.931311</td>\n",
              "      <td>0101000020957F000013871838EC4A58C1B5DF74F8E396...</td>\n",
              "      <td>Chaires</td>\n",
              "      <td>Ricardo B. Anaya</td>\n",
              "      <td>San Luis Potosi</td>\n",
              "      <td>San Luis Potosi</td>\n",
              "      <td>Mexico</td>\n",
              "      <td>?</td>\n",
              "      <td>...</td>\n",
              "      <td>No_Alcohol_Served</td>\n",
              "      <td>not permitted</td>\n",
              "      <td>informal</td>\n",
              "      <td>completely</td>\n",
              "      <td>medium</td>\n",
              "      <td>?</td>\n",
              "      <td>familiar</td>\n",
              "      <td>f</td>\n",
              "      <td>closed</td>\n",
              "      <td>none</td>\n",
              "    </tr>\n",
              "    <tr>\n",
              "      <th>126</th>\n",
              "      <td>135072</td>\n",
              "      <td>22.149192</td>\n",
              "      <td>-101.002936</td>\n",
              "      <td>0101000020957F0000E7B79B1DB94758C1D29BC363D8AA...</td>\n",
              "      <td>Sushi Itto</td>\n",
              "      <td>Venustiano Carranza 1809 C Polanco</td>\n",
              "      <td>San Luis Potosi</td>\n",
              "      <td>SLP</td>\n",
              "      <td>Mexico</td>\n",
              "      <td>?</td>\n",
              "      <td>...</td>\n",
              "      <td>No_Alcohol_Served</td>\n",
              "      <td>none</td>\n",
              "      <td>informal</td>\n",
              "      <td>no_accessibility</td>\n",
              "      <td>medium</td>\n",
              "      <td>sushi-itto.com.mx</td>\n",
              "      <td>familiar</td>\n",
              "      <td>f</td>\n",
              "      <td>closed</td>\n",
              "      <td>none</td>\n",
              "    </tr>\n",
              "    <tr>\n",
              "      <th>127</th>\n",
              "      <td>135109</td>\n",
              "      <td>18.921785</td>\n",
              "      <td>-99.235350</td>\n",
              "      <td>0101000020957F0000A6BF695F136F5AC1DADF87B20556...</td>\n",
              "      <td>Paniroles</td>\n",
              "      <td>?</td>\n",
              "      <td>?</td>\n",
              "      <td>?</td>\n",
              "      <td>?</td>\n",
              "      <td>?</td>\n",
              "      <td>...</td>\n",
              "      <td>Wine-Beer</td>\n",
              "      <td>not permitted</td>\n",
              "      <td>informal</td>\n",
              "      <td>no_accessibility</td>\n",
              "      <td>medium</td>\n",
              "      <td>?</td>\n",
              "      <td>quiet</td>\n",
              "      <td>f</td>\n",
              "      <td>closed</td>\n",
              "      <td>Internet</td>\n",
              "    </tr>\n",
              "    <tr>\n",
              "      <th>128</th>\n",
              "      <td>135019</td>\n",
              "      <td>18.875011</td>\n",
              "      <td>-99.159422</td>\n",
              "      <td>0101000020957F0000B49B2E5C6E785AC12F9D58435241...</td>\n",
              "      <td>Restaurant Bar Coty y Pablo</td>\n",
              "      <td>Paseo de Las Fuentes 24 Pedregal de Las Fuentes</td>\n",
              "      <td>Jiutepec</td>\n",
              "      <td>Morelos</td>\n",
              "      <td>Mexico</td>\n",
              "      <td>?</td>\n",
              "      <td>...</td>\n",
              "      <td>No_Alcohol_Served</td>\n",
              "      <td>none</td>\n",
              "      <td>informal</td>\n",
              "      <td>completely</td>\n",
              "      <td>low</td>\n",
              "      <td>?</td>\n",
              "      <td>familiar</td>\n",
              "      <td>f</td>\n",
              "      <td>closed</td>\n",
              "      <td>none</td>\n",
              "    </tr>\n",
              "    <tr>\n",
              "      <th>129</th>\n",
              "      <td>132877</td>\n",
              "      <td>22.135364</td>\n",
              "      <td>-100.934948</td>\n",
              "      <td>0101000020957F000090735015B84B58C1AF0DC0414698...</td>\n",
              "      <td>sirloin stockade</td>\n",
              "      <td>?</td>\n",
              "      <td>?</td>\n",
              "      <td>?</td>\n",
              "      <td>?</td>\n",
              "      <td>?</td>\n",
              "      <td>...</td>\n",
              "      <td>No_Alcohol_Served</td>\n",
              "      <td>none</td>\n",
              "      <td>informal</td>\n",
              "      <td>completely</td>\n",
              "      <td>low</td>\n",
              "      <td>?</td>\n",
              "      <td>familiar</td>\n",
              "      <td>f</td>\n",
              "      <td>closed</td>\n",
              "      <td>none</td>\n",
              "    </tr>\n",
              "  </tbody>\n",
              "</table>\n",
              "<p>130 rows × 21 columns</p>\n",
              "</div>\n",
              "      <button class=\"colab-df-convert\" onclick=\"convertToInteractive('df-0ea0508d-0214-473d-a5e0-a1eb656ee2ae')\"\n",
              "              title=\"Convert this dataframe to an interactive table.\"\n",
              "              style=\"display:none;\">\n",
              "        \n",
              "  <svg xmlns=\"http://www.w3.org/2000/svg\" height=\"24px\"viewBox=\"0 0 24 24\"\n",
              "       width=\"24px\">\n",
              "    <path d=\"M0 0h24v24H0V0z\" fill=\"none\"/>\n",
              "    <path d=\"M18.56 5.44l.94 2.06.94-2.06 2.06-.94-2.06-.94-.94-2.06-.94 2.06-2.06.94zm-11 1L8.5 8.5l.94-2.06 2.06-.94-2.06-.94L8.5 2.5l-.94 2.06-2.06.94zm10 10l.94 2.06.94-2.06 2.06-.94-2.06-.94-.94-2.06-.94 2.06-2.06.94z\"/><path d=\"M17.41 7.96l-1.37-1.37c-.4-.4-.92-.59-1.43-.59-.52 0-1.04.2-1.43.59L10.3 9.45l-7.72 7.72c-.78.78-.78 2.05 0 2.83L4 21.41c.39.39.9.59 1.41.59.51 0 1.02-.2 1.41-.59l7.78-7.78 2.81-2.81c.8-.78.8-2.07 0-2.86zM5.41 20L4 18.59l7.72-7.72 1.47 1.35L5.41 20z\"/>\n",
              "  </svg>\n",
              "      </button>\n",
              "      \n",
              "  <style>\n",
              "    .colab-df-container {\n",
              "      display:flex;\n",
              "      flex-wrap:wrap;\n",
              "      gap: 12px;\n",
              "    }\n",
              "\n",
              "    .colab-df-convert {\n",
              "      background-color: #E8F0FE;\n",
              "      border: none;\n",
              "      border-radius: 50%;\n",
              "      cursor: pointer;\n",
              "      display: none;\n",
              "      fill: #1967D2;\n",
              "      height: 32px;\n",
              "      padding: 0 0 0 0;\n",
              "      width: 32px;\n",
              "    }\n",
              "\n",
              "    .colab-df-convert:hover {\n",
              "      background-color: #E2EBFA;\n",
              "      box-shadow: 0px 1px 2px rgba(60, 64, 67, 0.3), 0px 1px 3px 1px rgba(60, 64, 67, 0.15);\n",
              "      fill: #174EA6;\n",
              "    }\n",
              "\n",
              "    [theme=dark] .colab-df-convert {\n",
              "      background-color: #3B4455;\n",
              "      fill: #D2E3FC;\n",
              "    }\n",
              "\n",
              "    [theme=dark] .colab-df-convert:hover {\n",
              "      background-color: #434B5C;\n",
              "      box-shadow: 0px 1px 3px 1px rgba(0, 0, 0, 0.15);\n",
              "      filter: drop-shadow(0px 1px 2px rgba(0, 0, 0, 0.3));\n",
              "      fill: #FFFFFF;\n",
              "    }\n",
              "  </style>\n",
              "\n",
              "      <script>\n",
              "        const buttonEl =\n",
              "          document.querySelector('#df-0ea0508d-0214-473d-a5e0-a1eb656ee2ae button.colab-df-convert');\n",
              "        buttonEl.style.display =\n",
              "          google.colab.kernel.accessAllowed ? 'block' : 'none';\n",
              "\n",
              "        async function convertToInteractive(key) {\n",
              "          const element = document.querySelector('#df-0ea0508d-0214-473d-a5e0-a1eb656ee2ae');\n",
              "          const dataTable =\n",
              "            await google.colab.kernel.invokeFunction('convertToInteractive',\n",
              "                                                     [key], {});\n",
              "          if (!dataTable) return;\n",
              "\n",
              "          const docLinkHtml = 'Like what you see? Visit the ' +\n",
              "            '<a target=\"_blank\" href=https://colab.research.google.com/notebooks/data_table.ipynb>data table notebook</a>'\n",
              "            + ' to learn more about interactive tables.';\n",
              "          element.innerHTML = '';\n",
              "          dataTable['output_type'] = 'display_data';\n",
              "          await google.colab.output.renderOutput(dataTable, element);\n",
              "          const docLink = document.createElement('div');\n",
              "          docLink.innerHTML = docLinkHtml;\n",
              "          element.appendChild(docLink);\n",
              "        }\n",
              "      </script>\n",
              "    </div>\n",
              "  </div>\n",
              "  "
            ]
          },
          "metadata": {},
          "execution_count": 3
        }
      ]
    },
    {
      "cell_type": "code",
      "source": [
        "#Vemos nombre de las columnas\n",
        "dfg2_restaurante.columns"
      ],
      "metadata": {
        "colab": {
          "base_uri": "https://localhost:8080/"
        },
        "id": "vqpeSydoAEPY",
        "outputId": "cb79566b-a2fe-462d-8cf5-cb12409b1290"
      },
      "execution_count": 4,
      "outputs": [
        {
          "output_type": "execute_result",
          "data": {
            "text/plain": [
              "Index(['placeID', 'latitude', 'longitude', 'the_geom_meter', 'name', 'address',\n",
              "       'city', 'state', 'country', 'fax', 'zip', 'alcohol', 'smoking_area',\n",
              "       'dress_code', 'accessibility', 'price', 'url', 'Rambience', 'franchise',\n",
              "       'area', 'other_services'],\n",
              "      dtype='object')"
            ]
          },
          "metadata": {},
          "execution_count": 4
        }
      ]
    },
    {
      "cell_type": "code",
      "source": [
        "#Creamos dataframe con el placeID y name\n",
        "dfname_restaurante = dfg2_restaurante[[\"placeID\", \"name\"]]"
      ],
      "metadata": {
        "id": "TRpGHbwZAuqg"
      },
      "execution_count": 5,
      "outputs": []
    },
    {
      "cell_type": "code",
      "source": [
        "#Vemos el dataframe\n",
        "dfname_restaurante"
      ],
      "metadata": {
        "colab": {
          "base_uri": "https://localhost:8080/",
          "height": 424
        },
        "id": "gsbZl9X8A4ZY",
        "outputId": "164e6b73-5d79-487a-f2ce-4b38dd178b11"
      },
      "execution_count": 6,
      "outputs": [
        {
          "output_type": "execute_result",
          "data": {
            "text/plain": [
              "     placeID                            name\n",
              "0     134999                 Kiku Cuernavaca\n",
              "1     132825                 puesto de tacos\n",
              "2     135106      El Rincón de San Francisco\n",
              "3     132667  little pizza Emilio Portes Gil\n",
              "4     132613                   carnitas_mata\n",
              "..       ...                             ...\n",
              "125   132866                         Chaires\n",
              "126   135072                      Sushi Itto\n",
              "127   135109                       Paniroles\n",
              "128   135019     Restaurant Bar Coty y Pablo\n",
              "129   132877                sirloin stockade\n",
              "\n",
              "[130 rows x 2 columns]"
            ],
            "text/html": [
              "\n",
              "  <div id=\"df-2af59ded-7842-4a7d-a80a-9efad24dedc4\">\n",
              "    <div class=\"colab-df-container\">\n",
              "      <div>\n",
              "<style scoped>\n",
              "    .dataframe tbody tr th:only-of-type {\n",
              "        vertical-align: middle;\n",
              "    }\n",
              "\n",
              "    .dataframe tbody tr th {\n",
              "        vertical-align: top;\n",
              "    }\n",
              "\n",
              "    .dataframe thead th {\n",
              "        text-align: right;\n",
              "    }\n",
              "</style>\n",
              "<table border=\"1\" class=\"dataframe\">\n",
              "  <thead>\n",
              "    <tr style=\"text-align: right;\">\n",
              "      <th></th>\n",
              "      <th>placeID</th>\n",
              "      <th>name</th>\n",
              "    </tr>\n",
              "  </thead>\n",
              "  <tbody>\n",
              "    <tr>\n",
              "      <th>0</th>\n",
              "      <td>134999</td>\n",
              "      <td>Kiku Cuernavaca</td>\n",
              "    </tr>\n",
              "    <tr>\n",
              "      <th>1</th>\n",
              "      <td>132825</td>\n",
              "      <td>puesto de tacos</td>\n",
              "    </tr>\n",
              "    <tr>\n",
              "      <th>2</th>\n",
              "      <td>135106</td>\n",
              "      <td>El Rincón de San Francisco</td>\n",
              "    </tr>\n",
              "    <tr>\n",
              "      <th>3</th>\n",
              "      <td>132667</td>\n",
              "      <td>little pizza Emilio Portes Gil</td>\n",
              "    </tr>\n",
              "    <tr>\n",
              "      <th>4</th>\n",
              "      <td>132613</td>\n",
              "      <td>carnitas_mata</td>\n",
              "    </tr>\n",
              "    <tr>\n",
              "      <th>...</th>\n",
              "      <td>...</td>\n",
              "      <td>...</td>\n",
              "    </tr>\n",
              "    <tr>\n",
              "      <th>125</th>\n",
              "      <td>132866</td>\n",
              "      <td>Chaires</td>\n",
              "    </tr>\n",
              "    <tr>\n",
              "      <th>126</th>\n",
              "      <td>135072</td>\n",
              "      <td>Sushi Itto</td>\n",
              "    </tr>\n",
              "    <tr>\n",
              "      <th>127</th>\n",
              "      <td>135109</td>\n",
              "      <td>Paniroles</td>\n",
              "    </tr>\n",
              "    <tr>\n",
              "      <th>128</th>\n",
              "      <td>135019</td>\n",
              "      <td>Restaurant Bar Coty y Pablo</td>\n",
              "    </tr>\n",
              "    <tr>\n",
              "      <th>129</th>\n",
              "      <td>132877</td>\n",
              "      <td>sirloin stockade</td>\n",
              "    </tr>\n",
              "  </tbody>\n",
              "</table>\n",
              "<p>130 rows × 2 columns</p>\n",
              "</div>\n",
              "      <button class=\"colab-df-convert\" onclick=\"convertToInteractive('df-2af59ded-7842-4a7d-a80a-9efad24dedc4')\"\n",
              "              title=\"Convert this dataframe to an interactive table.\"\n",
              "              style=\"display:none;\">\n",
              "        \n",
              "  <svg xmlns=\"http://www.w3.org/2000/svg\" height=\"24px\"viewBox=\"0 0 24 24\"\n",
              "       width=\"24px\">\n",
              "    <path d=\"M0 0h24v24H0V0z\" fill=\"none\"/>\n",
              "    <path d=\"M18.56 5.44l.94 2.06.94-2.06 2.06-.94-2.06-.94-.94-2.06-.94 2.06-2.06.94zm-11 1L8.5 8.5l.94-2.06 2.06-.94-2.06-.94L8.5 2.5l-.94 2.06-2.06.94zm10 10l.94 2.06.94-2.06 2.06-.94-2.06-.94-.94-2.06-.94 2.06-2.06.94z\"/><path d=\"M17.41 7.96l-1.37-1.37c-.4-.4-.92-.59-1.43-.59-.52 0-1.04.2-1.43.59L10.3 9.45l-7.72 7.72c-.78.78-.78 2.05 0 2.83L4 21.41c.39.39.9.59 1.41.59.51 0 1.02-.2 1.41-.59l7.78-7.78 2.81-2.81c.8-.78.8-2.07 0-2.86zM5.41 20L4 18.59l7.72-7.72 1.47 1.35L5.41 20z\"/>\n",
              "  </svg>\n",
              "      </button>\n",
              "      \n",
              "  <style>\n",
              "    .colab-df-container {\n",
              "      display:flex;\n",
              "      flex-wrap:wrap;\n",
              "      gap: 12px;\n",
              "    }\n",
              "\n",
              "    .colab-df-convert {\n",
              "      background-color: #E8F0FE;\n",
              "      border: none;\n",
              "      border-radius: 50%;\n",
              "      cursor: pointer;\n",
              "      display: none;\n",
              "      fill: #1967D2;\n",
              "      height: 32px;\n",
              "      padding: 0 0 0 0;\n",
              "      width: 32px;\n",
              "    }\n",
              "\n",
              "    .colab-df-convert:hover {\n",
              "      background-color: #E2EBFA;\n",
              "      box-shadow: 0px 1px 2px rgba(60, 64, 67, 0.3), 0px 1px 3px 1px rgba(60, 64, 67, 0.15);\n",
              "      fill: #174EA6;\n",
              "    }\n",
              "\n",
              "    [theme=dark] .colab-df-convert {\n",
              "      background-color: #3B4455;\n",
              "      fill: #D2E3FC;\n",
              "    }\n",
              "\n",
              "    [theme=dark] .colab-df-convert:hover {\n",
              "      background-color: #434B5C;\n",
              "      box-shadow: 0px 1px 3px 1px rgba(0, 0, 0, 0.15);\n",
              "      filter: drop-shadow(0px 1px 2px rgba(0, 0, 0, 0.3));\n",
              "      fill: #FFFFFF;\n",
              "    }\n",
              "  </style>\n",
              "\n",
              "      <script>\n",
              "        const buttonEl =\n",
              "          document.querySelector('#df-2af59ded-7842-4a7d-a80a-9efad24dedc4 button.colab-df-convert');\n",
              "        buttonEl.style.display =\n",
              "          google.colab.kernel.accessAllowed ? 'block' : 'none';\n",
              "\n",
              "        async function convertToInteractive(key) {\n",
              "          const element = document.querySelector('#df-2af59ded-7842-4a7d-a80a-9efad24dedc4');\n",
              "          const dataTable =\n",
              "            await google.colab.kernel.invokeFunction('convertToInteractive',\n",
              "                                                     [key], {});\n",
              "          if (!dataTable) return;\n",
              "\n",
              "          const docLinkHtml = 'Like what you see? Visit the ' +\n",
              "            '<a target=\"_blank\" href=https://colab.research.google.com/notebooks/data_table.ipynb>data table notebook</a>'\n",
              "            + ' to learn more about interactive tables.';\n",
              "          element.innerHTML = '';\n",
              "          dataTable['output_type'] = 'display_data';\n",
              "          await google.colab.output.renderOutput(dataTable, element);\n",
              "          const docLink = document.createElement('div');\n",
              "          docLink.innerHTML = docLinkHtml;\n",
              "          element.appendChild(docLink);\n",
              "        }\n",
              "      </script>\n",
              "    </div>\n",
              "  </div>\n",
              "  "
            ]
          },
          "metadata": {},
          "execution_count": 6
        }
      ]
    },
    {
      "cell_type": "code",
      "source": [
        "#Mezclamos el dataframe con placeID y name con el dataframe que solamente tiene ID\n",
        "df_rating = pd.merge(df_rating, dfname_restaurante, on = \"placeID\", how = \"outer\")"
      ],
      "metadata": {
        "id": "77QDfZLjA7zY"
      },
      "execution_count": 7,
      "outputs": []
    },
    {
      "cell_type": "code",
      "source": [
        "#Visualizamos cómo quedó el dataframe\n",
        "print(df_rating.head())"
      ],
      "metadata": {
        "colab": {
          "base_uri": "https://localhost:8080/"
        },
        "id": "iy3JZE8UBBag",
        "outputId": "15cf248c-4f5c-4083-f665-bc2eb3095cee"
      },
      "execution_count": 8,
      "outputs": [
        {
          "output_type": "stream",
          "name": "stdout",
          "text": [
            "  userID  placeID  rating  food_rating  service_rating                    name\n",
            "0  U1077   135085       2            2               2  Tortas Locas Hipocampo\n",
            "1  U1108   135085       1            2               1  Tortas Locas Hipocampo\n",
            "2  U1081   135085       1            2               1  Tortas Locas Hipocampo\n",
            "3  U1056   135085       2            2               2  Tortas Locas Hipocampo\n",
            "4  U1134   135085       2            1               2  Tortas Locas Hipocampo\n"
          ]
        }
      ]
    },
    {
      "cell_type": "code",
      "source": [
        "#Creamos una tabla que como renglones tenga a los usuarios, como columnas los nombres del restaurante, y como valores la calificación\n",
        "table = pd.pivot_table(df_rating, values='rating', index= 'userID', columns=\"name\")"
      ],
      "metadata": {
        "id": "S43W_5KoBFHI"
      },
      "execution_count": 9,
      "outputs": []
    },
    {
      "cell_type": "code",
      "source": [
        "#Visualizamos la tabla\n",
        "print(table.head(10))"
      ],
      "metadata": {
        "colab": {
          "base_uri": "https://localhost:8080/"
        },
        "id": "7L1rMm8DBIW4",
        "outputId": "1c10d600-5f19-4def-ad3b-1f8706f7833a"
      },
      "execution_count": 10,
      "outputs": [
        {
          "output_type": "stream",
          "name": "stdout",
          "text": [
            "name    Abondance Restaurante Bar  Arrachela Grill  Cabana Huasteca  \\\n",
            "userID                                                                \n",
            "U1001                         NaN              NaN              NaN   \n",
            "U1002                         NaN              NaN              NaN   \n",
            "U1003                         NaN              NaN              2.0   \n",
            "U1004                         NaN              NaN              NaN   \n",
            "U1005                         NaN              NaN              NaN   \n",
            "U1006                         NaN              NaN              NaN   \n",
            "U1007                         NaN              NaN              NaN   \n",
            "U1008                         1.0              NaN              NaN   \n",
            "U1009                         NaN              NaN              1.0   \n",
            "U1010                         NaN              NaN              NaN   \n",
            "\n",
            "name    Cafe Chaires  Cafeteria cenidet  Cafeteria y Restaurant El Pacifico  \\\n",
            "userID                                                                        \n",
            "U1001            NaN                NaN                                 NaN   \n",
            "U1002            NaN                NaN                                 NaN   \n",
            "U1003            NaN                NaN                                 NaN   \n",
            "U1004            NaN                NaN                                 2.0   \n",
            "U1005            NaN                NaN                                 2.0   \n",
            "U1006            1.0                NaN                                 NaN   \n",
            "U1007            1.0                NaN                                 1.0   \n",
            "U1008            NaN                NaN                                 NaN   \n",
            "U1009            NaN                NaN                                 NaN   \n",
            "U1010            NaN                NaN                                 NaN   \n",
            "\n",
            "name    Carls Jr  Carnitas Mata  Calle 16 de Septiembre  \\\n",
            "userID                                                    \n",
            "U1001        NaN                                    NaN   \n",
            "U1002        NaN                                    NaN   \n",
            "U1003        NaN                                    NaN   \n",
            "U1004        NaN                                    NaN   \n",
            "U1005        NaN                                    NaN   \n",
            "U1006        NaN                                    NaN   \n",
            "U1007        NaN                                    NaN   \n",
            "U1008        NaN                                    NaN   \n",
            "U1009        NaN                                    NaN   \n",
            "U1010        NaN                                    NaN   \n",
            "\n",
            "name    Carreton de Flautas y Migadas  Cenaduria El RincÃ³n de Tlaquepaque  \\\n",
            "userID                                                                       \n",
            "U1001                             NaN                                  NaN   \n",
            "U1002                             NaN                                  NaN   \n",
            "U1003                             NaN                                  NaN   \n",
            "U1004                             NaN                                  NaN   \n",
            "U1005                             NaN                                  NaN   \n",
            "U1006                             NaN                                  NaN   \n",
            "U1007                             NaN                                  NaN   \n",
            "U1008                             NaN                                  NaN   \n",
            "U1009                             NaN                                  NaN   \n",
            "U1010                             NaN                                  NaN   \n",
            "\n",
            "name    ...  puesto de tacos  rockabilly   shi ro ie  sirloin stockade  \\\n",
            "userID  ...                                                              \n",
            "U1001   ...              2.0          NaN        NaN               NaN   \n",
            "U1002   ...              2.0          NaN        NaN               NaN   \n",
            "U1003   ...              2.0          2.0        NaN               NaN   \n",
            "U1004   ...              NaN          NaN        NaN               NaN   \n",
            "U1005   ...              NaN          NaN        NaN               NaN   \n",
            "U1006   ...              1.0          NaN        2.0               NaN   \n",
            "U1007   ...              NaN          NaN        NaN               NaN   \n",
            "U1008   ...              NaN          NaN        NaN               NaN   \n",
            "U1009   ...              1.0          NaN        NaN               NaN   \n",
            "U1010   ...              NaN          NaN        NaN               NaN   \n",
            "\n",
            "name    tacos abi  tacos de barbacoa enfrente del Tec  tacos de la estacion  \\\n",
            "userID                                                                        \n",
            "U1001         NaN                                 NaN                   NaN   \n",
            "U1002         NaN                                 NaN                   NaN   \n",
            "U1003         NaN                                 NaN                   NaN   \n",
            "U1004         NaN                                 NaN                   NaN   \n",
            "U1005         NaN                                 NaN                   NaN   \n",
            "U1006         NaN                                 NaN                   NaN   \n",
            "U1007         NaN                                 NaN                   NaN   \n",
            "U1008         NaN                                 NaN                   NaN   \n",
            "U1009         NaN                                 NaN                   NaN   \n",
            "U1010         NaN                                 NaN                   NaN   \n",
            "\n",
            "name    tacos los volcanes  tortas hawai  vips  \n",
            "userID                                          \n",
            "U1001                  NaN           NaN   NaN  \n",
            "U1002                  NaN           NaN   NaN  \n",
            "U1003                  NaN           NaN   NaN  \n",
            "U1004                  2.0           NaN   NaN  \n",
            "U1005                  NaN           NaN   NaN  \n",
            "U1006                  NaN           NaN   NaN  \n",
            "U1007                  NaN           NaN   NaN  \n",
            "U1008                  NaN           NaN   NaN  \n",
            "U1009                  NaN           NaN   NaN  \n",
            "U1010                  NaN           NaN   NaN  \n",
            "\n",
            "[10 rows x 129 columns]\n"
          ]
        }
      ]
    },
    {
      "cell_type": "code",
      "source": [
        "list (table.columns)"
      ],
      "metadata": {
        "colab": {
          "base_uri": "https://localhost:8080/"
        },
        "id": "5Rx62qZ1BMjg",
        "outputId": "cff540ba-c4e1-4046-fd89-064fcbc92cae"
      },
      "execution_count": 11,
      "outputs": [
        {
          "output_type": "execute_result",
          "data": {
            "text/plain": [
              "['Abondance Restaurante Bar',\n",
              " 'Arrachela Grill',\n",
              " 'Cabana Huasteca',\n",
              " 'Cafe Chaires',\n",
              " 'Cafeteria cenidet',\n",
              " 'Cafeteria y Restaurant El Pacifico',\n",
              " 'Carls Jr',\n",
              " 'Carnitas Mata  Calle 16 de Septiembre',\n",
              " 'Carreton de Flautas y Migadas',\n",
              " 'Cenaduria El RincÃ³n de Tlaquepaque',\n",
              " 'Chaires',\n",
              " 'Chilis Cuernavaca',\n",
              " 'Dominos Pizza',\n",
              " 'El Club',\n",
              " 'El Herradero Restaurante and Bar',\n",
              " 'El Mundo de la Pasta',\n",
              " 'El Oceano Dorado',\n",
              " 'El Rincon de San Francisco',\n",
              " 'El Rincón de San Francisco',\n",
              " 'El angel Restaurante',\n",
              " 'El cotorreo',\n",
              " 'Giovannis',\n",
              " 'Gordas de morales',\n",
              " 'Gorditas Doa Gloria',\n",
              " 'Gorditas Dona Tota',\n",
              " 'Hamburguesas La perica',\n",
              " 'Hamburguesas Valle Dorado',\n",
              " 'Hamburguesas saul',\n",
              " 'KFC',\n",
              " 'Kiku Cuernavaca',\n",
              " 'Koye Sushi',\n",
              " 'La Cantina Restaurante',\n",
              " 'La Estrella de Dimas',\n",
              " 'La Fontana Pizza Restaurante and Cafe',\n",
              " 'La Posada del Virrey',\n",
              " 'La Virreina',\n",
              " 'Little Cesarz',\n",
              " 'Log Yin',\n",
              " 'Los Vikingos',\n",
              " 'Luna Cafe',\n",
              " 'Mariscos El Pescador',\n",
              " 'Mariscos Tia Licha',\n",
              " 'McDonalds Centro',\n",
              " 'Mcdonalds Parque Tangamanga',\n",
              " 'Michiko Restaurant Japones',\n",
              " 'Mikasa',\n",
              " 'Paniroles',\n",
              " 'Pizzeria Julios',\n",
              " 'Pollo_Frito_Buenos_Aires',\n",
              " 'Potzocalli',\n",
              " 'Preambulo Wifi Zone Cafe',\n",
              " 'Restaurant Bar Coty y Pablo',\n",
              " 'Restaurant Bar Hacienda los Martinez',\n",
              " 'Restaurant El Muladar de Calzada',\n",
              " 'Restaurant Familiar El Chino',\n",
              " 'Restaurant Las Mananitas',\n",
              " 'Restaurant Oriental Express',\n",
              " 'Restaurant Orizatlan',\n",
              " 'Restaurant Teely',\n",
              " 'Restaurant Wu Zhuo Yi',\n",
              " 'Restaurant and Bar and Clothesline Carlos N Charlies',\n",
              " 'Restaurant de Mariscos de Picon',\n",
              " 'Restaurant la Chalita',\n",
              " 'Restaurant los Compadres',\n",
              " 'Restaurant los Pinos',\n",
              " 'Restaurante 75',\n",
              " 'Restaurante Alhondiga',\n",
              " 'Restaurante Bar El Gallinero',\n",
              " 'Restaurante Bar Fu-hao',\n",
              " 'Restaurante Casa de las Flores',\n",
              " 'Restaurante El Chivero S.A. de C.V.',\n",
              " 'Restaurante El Cielo Potosino',\n",
              " 'Restaurante El Reyecito',\n",
              " 'Restaurante Guerra',\n",
              " 'Restaurante Marisco Sam',\n",
              " 'Restaurante Pueblo Bonito',\n",
              " 'Restaurante Tiberius',\n",
              " 'Restaurante Versalles',\n",
              " 'Restaurante de Mariscos la Langosta',\n",
              " 'Restaurante la Cantina',\n",
              " 'Restaurante la Estrella de Dima',\n",
              " 'Restaurante la Gran Via',\n",
              " 'Restaurante la Parroquia Potosina',\n",
              " 'Restaurante y Pescaderia Tampico',\n",
              " 'Rincon Huasteco',\n",
              " 'Rincon del Bife',\n",
              " 'Sanborns Casa Piedra',\n",
              " 'Sirlone',\n",
              " 'Subway',\n",
              " 'Sushi Itto',\n",
              " 'TACOS CORRECAMINOS',\n",
              " 'TACOS EL GUERO',\n",
              " 'Taqueria EL amigo ',\n",
              " 'Tortas Locas Hipocampo',\n",
              " 'Tortas y hamburguesas el gordo',\n",
              " 'Unicols Pizza',\n",
              " 'VIPS',\n",
              " 'Vips',\n",
              " 'cafe ambar',\n",
              " 'cafe punta del cielo',\n",
              " 'carnitas mata calle Emilio Portes Gil',\n",
              " 'carnitas_mata',\n",
              " 'churchs',\n",
              " 'crudalia',\n",
              " 'dairy queen',\n",
              " 'don burguers',\n",
              " 'el lechon potosino ',\n",
              " 'el pueblito',\n",
              " 'emilianos',\n",
              " 'la Cantina',\n",
              " 'la Cochinita Pibil Restaurante Yucateco',\n",
              " 'la Estrella de Dimas',\n",
              " 'la parroquia',\n",
              " 'la perica hamburguesa',\n",
              " 'little pizza Emilio Portes Gil',\n",
              " 'los Toneles',\n",
              " 'palomo tec',\n",
              " 'pizza clasica',\n",
              " 'puesto de gorditas',\n",
              " 'puesto de tacos',\n",
              " 'rockabilly ',\n",
              " 'shi ro ie',\n",
              " 'sirloin stockade',\n",
              " 'tacos abi',\n",
              " 'tacos de barbacoa enfrente del Tec',\n",
              " 'tacos de la estacion',\n",
              " 'tacos los volcanes',\n",
              " 'tortas hawai',\n",
              " 'vips']"
            ]
          },
          "metadata": {},
          "execution_count": 11
        }
      ]
    },
    {
      "cell_type": "markdown",
      "source": [
        "# Ejercicio-2.\n",
        "Con el objetivo de obtener la información con respecto a los vectores latentes de los restaurantes,\n",
        "obtener dicha factorización SVD utilizando todas las componentes posibles, es decir, usando todos sus valores singulares. En particular indica la cantidad de valores singulares obtenidos."
      ],
      "metadata": {
        "id": "djac0BA1BX27"
      }
    },
    {
      "cell_type": "code",
      "source": [
        "import numpy as np\n",
        "import sklearn\n",
        "from sklearn.decomposition import TruncatedSVD"
      ],
      "metadata": {
        "id": "ZjG2nV3eBSHo"
      },
      "execution_count": 12,
      "outputs": []
    },
    {
      "cell_type": "code",
      "source": [
        "#En el ejercicio anterior se muestran muchos datos NA, aqui se llenan con cero.\n",
        "table = table.fillna(0)"
      ],
      "metadata": {
        "id": "p08Ry38MBck5"
      },
      "execution_count": 13,
      "outputs": []
    },
    {
      "cell_type": "code",
      "source": [
        "#Aplicamos la factorización SVD utilizando todas las componentes.\n",
        "X = table.values.T\n",
        "SVD = TruncatedSVD(n_components=129, random_state=0)\n",
        "matrix = SVD.fit_transform(X)"
      ],
      "metadata": {
        "id": "q5JNJUxhBelQ"
      },
      "execution_count": 14,
      "outputs": []
    },
    {
      "cell_type": "code",
      "source": [
        "#Visualizamos el tamaño de la matriz.\n",
        "X.shape"
      ],
      "metadata": {
        "colab": {
          "base_uri": "https://localhost:8080/"
        },
        "id": "7qR6FSzKBgWR",
        "outputId": "0e4ac084-a91c-404e-fab4-3f2c0c598515"
      },
      "execution_count": 15,
      "outputs": [
        {
          "output_type": "execute_result",
          "data": {
            "text/plain": [
              "(129, 138)"
            ]
          },
          "metadata": {},
          "execution_count": 15
        }
      ]
    },
    {
      "cell_type": "code",
      "source": [
        "#Imprimimos la cantidad de valores singulares obtenidos.\n",
        "print(\"La cantidad de valores singulares obtenidos es\", len(SVD.singular_values_))"
      ],
      "metadata": {
        "colab": {
          "base_uri": "https://localhost:8080/"
        },
        "id": "kK7F7eYjBiRA",
        "outputId": "a33e9aab-d42b-46fe-8e8b-f7da62e4aaa1"
      },
      "execution_count": 16,
      "outputs": [
        {
          "output_type": "stream",
          "name": "stdout",
          "text": [
            "La cantidad de valores singulares obtenidos es 129\n"
          ]
        }
      ]
    },
    {
      "cell_type": "markdown",
      "source": [
        "# Ejercicio-3.\n",
        "Usando la métrica de correlación de Pearson, obtener las 10 mejores recomendaciones de este modelo no supervisado con base a la información de alguien que evaluó bien de manera general al “Subway”. Despliega también el valor numérico de la correlación de Pearson de cada una de estas 10 recomendaciones. NOTA: No debe estar incluido “Subway” dentro de las recomendaciones."
      ],
      "metadata": {
        "id": "xag85jQ6BpDL"
      }
    },
    {
      "cell_type": "code",
      "source": [
        "#Obtenemos la corrrelación de cada restaurante respecto a los demás.\n",
        "corr = np.corrcoef(matrix)\n",
        "restaurantes = table.columns\n",
        "print(corr)"
      ],
      "metadata": {
        "colab": {
          "base_uri": "https://localhost:8080/"
        },
        "id": "HMJKmnglBkhR",
        "outputId": "3a70059c-a051-45cc-fd49-7af344b27710"
      },
      "execution_count": 17,
      "outputs": [
        {
          "output_type": "stream",
          "name": "stdout",
          "text": [
            "[[ 1.00000000e+00 -6.11069671e-05 -4.09021196e-03 ... -2.23463297e-03\n",
            "  -1.48314619e-03  6.49857137e-04]\n",
            " [-6.11069671e-05  1.00000000e+00 -4.19017007e-04 ... -2.28924375e-04\n",
            "  -1.51939186e-04  6.65738585e-05]\n",
            " [-4.09021196e-03 -4.19017007e-04  1.00000000e+00 ...  1.46935027e-01\n",
            "  -1.01700920e-02  4.45613987e-03]\n",
            " ...\n",
            " [-2.23463297e-03 -2.28924375e-04  1.46935027e-01 ...  1.00000000e+00\n",
            "  -5.55629465e-03  2.43455282e-03]\n",
            " [-1.48314619e-03 -1.51939186e-04 -1.01700920e-02 ... -5.55629465e-03\n",
            "   1.00000000e+00  1.61583481e-03]\n",
            " [ 6.49857137e-04  6.65738585e-05  4.45613987e-03 ...  2.43455282e-03\n",
            "   1.61583481e-03  1.00000000e+00]]\n"
          ]
        }
      ]
    },
    {
      "cell_type": "code",
      "source": [
        "#Hacemos una lista con los restaurantes.\n",
        "restaurantes_list = list(restaurantes)"
      ],
      "metadata": {
        "id": "Kbyjit8IBsZh"
      },
      "execution_count": 18,
      "outputs": []
    },
    {
      "cell_type": "code",
      "source": [
        "#Buscamos la correlación de los demás restaurantes con \"Subway\".\n",
        "subway = restaurantes_list.index('Subway')\n",
        "corr_subway = corr[subway]"
      ],
      "metadata": {
        "id": "-z5Pa1NqBu7B"
      },
      "execution_count": 19,
      "outputs": []
    },
    {
      "cell_type": "code",
      "source": [
        "#Imprimimos las correlaciones de los demás restaurantes con Subway.\n",
        "print(corr_subway)"
      ],
      "metadata": {
        "colab": {
          "base_uri": "https://localhost:8080/"
        },
        "id": "C5y9C8_GBx0R",
        "outputId": "ab190094-e9c0-4e6c-deb6-80fa8149124b"
      },
      "execution_count": 20,
      "outputs": [
        {
          "output_type": "stream",
          "name": "stdout",
          "text": [
            "[-7.69028369e-04 -7.87822168e-05 -5.27330975e-03  8.58511349e-04\n",
            " -3.03891148e-03  3.97495832e-05 -1.54820208e-03 -5.29347145e-03\n",
            "  7.27520383e-04 -1.55098452e-03 -1.84483094e-03  3.01090491e-01\n",
            " -3.06938616e-05 -3.66639157e-03 -2.28024815e-03 -1.70971180e-03\n",
            "  2.66961340e-03  4.58467365e-04 -2.11449533e-03 -6.20445134e-03\n",
            "  3.34268563e-03  1.16598607e-01  1.87080102e-03  2.53682556e-03\n",
            " -5.48801141e-03 -2.91288266e-03  2.02825342e-03 -1.36607265e-03\n",
            " -2.01695899e-03  1.12058244e-01 -2.36235727e-03  6.52159239e-04\n",
            "  3.53495770e-03 -3.62793330e-03  1.69065407e-03 -4.51837401e-03\n",
            " -2.09301342e-03  2.34634298e-01 -3.80413494e-03 -5.11845710e-04\n",
            " -2.27148704e-03  3.88178002e-01 -2.07427108e-03 -2.29428835e-03\n",
            "  1.32565455e-03  3.01002479e-01  1.71433518e-01 -3.29715354e-03\n",
            " -4.74480596e-03 -8.02527884e-04 -2.65071452e-03  1.12018889e-01\n",
            " -3.91080724e-03 -2.06369812e-03  1.16008629e-01  2.27855804e-01\n",
            "  4.28342495e-04 -8.69739761e-04  6.09520875e-01 -6.43364064e-03\n",
            "  4.25467169e-01 -2.27256171e-03  4.45920939e-05  5.11279379e-04\n",
            "  2.85149220e-01 -1.90010302e-03 -4.16115194e-03 -5.61375368e-03\n",
            " -2.57693978e-03 -3.72881676e-03 -6.05992942e-03  1.41047150e-03\n",
            " -1.58675476e-04 -1.94116490e-03  2.09955125e-03 -2.10171395e-03\n",
            " -4.38985616e-03 -2.29468299e-03  7.76009788e-04 -2.96124143e-03\n",
            " -2.82046690e-03 -8.57374506e-04 -1.50259308e-03 -3.19597534e-03\n",
            " -2.56400020e-03  4.29823831e-01  4.17218501e-01  3.89064434e-03\n",
            "  1.00000000e+00 -9.93812832e-04  8.60361345e-04 -2.79531559e-03\n",
            "  2.37442956e-04 -3.06216758e-03  1.36462717e-03  2.66480676e-04\n",
            "  2.92661192e-03  5.06277680e-01 -3.20853148e-03 -8.36332065e-04\n",
            " -3.72003822e-03  1.60652886e-03 -1.25997089e-03 -2.57629937e-03\n",
            "  1.70432198e-03 -2.43624453e-03 -1.13863819e-03  1.91200064e-03\n",
            " -3.57766463e-03 -2.41086958e-03 -8.60077590e-03  3.33763511e-03\n",
            "  3.00375655e-03  2.47765536e-03  1.38274830e-03 -1.59646437e-05\n",
            " -8.37066511e-04 -1.73990894e-03 -1.20344221e-03 -3.56656608e-03\n",
            " -2.38089550e-03 -4.91396372e-06 -3.20025066e-03  1.81536303e-03\n",
            "  2.45429531e-03 -2.56625850e-03 -2.88100273e-03 -1.91214767e-03\n",
            "  8.37828947e-04]\n"
          ]
        }
      ]
    },
    {
      "cell_type": "code",
      "source": [
        "#Generamos las 10 mejores recomendaciones para alguien a quien le gusta \"Subway\"\n",
        "recomendaciones = list(restaurantes[(corr_subway > 0.23) & (corr_subway < 1.0)])\n",
        "\n",
        "\n",
        "recomendaciones"
      ],
      "metadata": {
        "colab": {
          "base_uri": "https://localhost:8080/"
        },
        "id": "nSnkkCe4B0vR",
        "outputId": "0b122d90-b9ee-4527-ee66-913a0d5c46df"
      },
      "execution_count": 21,
      "outputs": [
        {
          "output_type": "execute_result",
          "data": {
            "text/plain": [
              "['Chilis Cuernavaca',\n",
              " 'Log Yin',\n",
              " 'Mariscos Tia Licha',\n",
              " 'Mikasa',\n",
              " 'Restaurant Teely',\n",
              " 'Restaurant and Bar and Clothesline Carlos N Charlies',\n",
              " 'Restaurant los Pinos',\n",
              " 'Rincon del Bife',\n",
              " 'Sanborns Casa Piedra',\n",
              " 'Vips']"
            ]
          },
          "metadata": {},
          "execution_count": 21
        }
      ]
    },
    {
      "cell_type": "code",
      "source": [
        "#Imprimimos las correlaciones de los ratings de los usarios de cada restaurante respecto a \"Subway\"\n",
        "for r in recomendaciones:\n",
        "  print(\"El restaurante recomendado es -----\",r)\n",
        "  ind = restaurantes_list.index(r)\n",
        "  c = corr_subway[ind]\n",
        "  print(\"Su correlación es de\", c)"
      ],
      "metadata": {
        "colab": {
          "base_uri": "https://localhost:8080/"
        },
        "id": "MEy35C30B3gh",
        "outputId": "0fe515d0-89be-485b-832f-7fd5dea164d0"
      },
      "execution_count": 22,
      "outputs": [
        {
          "output_type": "stream",
          "name": "stdout",
          "text": [
            "El restaurante recomendado es ----- Chilis Cuernavaca\n",
            "Su correlación es de 0.3010904910449609\n",
            "El restaurante recomendado es ----- Log Yin\n",
            "Su correlación es de 0.23463429773399927\n",
            "El restaurante recomendado es ----- Mariscos Tia Licha\n",
            "Su correlación es de 0.3881780018525819\n",
            "El restaurante recomendado es ----- Mikasa\n",
            "Su correlación es de 0.3010024785497635\n",
            "El restaurante recomendado es ----- Restaurant Teely\n",
            "Su correlación es de 0.6095208746935307\n",
            "El restaurante recomendado es ----- Restaurant and Bar and Clothesline Carlos N Charlies\n",
            "Su correlación es de 0.4254671689089252\n",
            "El restaurante recomendado es ----- Restaurant los Pinos\n",
            "Su correlación es de 0.28514921973296764\n",
            "El restaurante recomendado es ----- Rincon del Bife\n",
            "Su correlación es de 0.4298238308559112\n",
            "El restaurante recomendado es ----- Sanborns Casa Piedra\n",
            "Su correlación es de 0.41721850134793675\n",
            "El restaurante recomendado es ----- Vips\n",
            "Su correlación es de 0.5062776799761124\n"
          ]
        }
      ]
    },
    {
      "cell_type": "markdown",
      "source": [
        "# Ejercicio-4.\n",
        "Disminuye ahora la dimensión de la factorización con un número de componentes tal, que las\n",
        "recomendaciones con esta menor cantidad de información coincidan en al menos 9 de las 10 recomendaciones dadas con todos los valores singulares. Indica la cantidad de valores singulares encontrado y la cantidad de información que contienen."
      ],
      "metadata": {
        "id": "mcOvf-1QB9Fa"
      }
    },
    {
      "cell_type": "code",
      "source": [
        "#Replicamos el ejercicio anterior pero cambiamos el número de componentes de forma tal,\n",
        "#que solamente 9 de las 10 recomendaciones anteriores se parezcan\n",
        "X = table.values.T\n",
        "SVD = TruncatedSVD(n_components=45, random_state=0)\n",
        "matrix = SVD.fit_transform(X)\n",
        "\n",
        "print(\"La cantidad de valores singulares obtenidos es\", len(SVD.singular_values_))\n",
        "\n",
        "corr = np.corrcoef(matrix)\n",
        "restaurantes = table.columns\n",
        "\n",
        "subway = restaurantes_list.index('Subway')\n",
        "corr_subway = corr[subway]\n",
        "\n",
        "recomendaciones = list(restaurantes[(corr_subway > 0.23) & (corr_subway < 1.0)])\n",
        "recomendaciones\n",
        "\n",
        "print(recomendaciones)"
      ],
      "metadata": {
        "colab": {
          "base_uri": "https://localhost:8080/"
        },
        "id": "6-XxepJBB50R",
        "outputId": "a4d0828e-4a75-404a-9bb0-da2da5c044fb"
      },
      "execution_count": 23,
      "outputs": [
        {
          "output_type": "stream",
          "name": "stdout",
          "text": [
            "La cantidad de valores singulares obtenidos es 45\n",
            "['Chilis Cuernavaca', 'Mariscos Tia Licha', 'Mikasa', 'Paniroles', 'Restaurant Teely', 'Restaurant and Bar and Clothesline Carlos N Charlies', 'Restaurant los Pinos', 'Rincon del Bife', 'Sanborns Casa Piedra', 'Vips']\n"
          ]
        }
      ]
    },
    {
      "cell_type": "code",
      "source": [
        "for r in recomendaciones:\n",
        "  print(\"El restaurante recomendado es -----\",r)\n",
        "  ind = restaurantes_list.index(r)\n",
        "  c = corr_subway[ind]\n",
        "  print(\"Su correlación es de\", c)"
      ],
      "metadata": {
        "colab": {
          "base_uri": "https://localhost:8080/"
        },
        "id": "b30RWyidCC54",
        "outputId": "864d79aa-1b99-4bda-ae1c-204becb02ec2"
      },
      "execution_count": 24,
      "outputs": [
        {
          "output_type": "stream",
          "name": "stdout",
          "text": [
            "El restaurante recomendado es ----- Chilis Cuernavaca\n",
            "Su correlación es de 0.41584719366756684\n",
            "El restaurante recomendado es ----- Mariscos Tia Licha\n",
            "Su correlación es de 0.4225700518648886\n",
            "El restaurante recomendado es ----- Mikasa\n",
            "Su correlación es de 0.46222318160656467\n",
            "El restaurante recomendado es ----- Paniroles\n",
            "Su correlación es de 0.4001890324750223\n",
            "El restaurante recomendado es ----- Restaurant Teely\n",
            "Su correlación es de 0.8575787444612241\n",
            "El restaurante recomendado es ----- Restaurant and Bar and Clothesline Carlos N Charlies\n",
            "Su correlación es de 0.7839249983312028\n",
            "El restaurante recomendado es ----- Restaurant los Pinos\n",
            "Su correlación es de 0.3124218102050947\n",
            "El restaurante recomendado es ----- Rincon del Bife\n",
            "Su correlación es de 0.9359264565209313\n",
            "El restaurante recomendado es ----- Sanborns Casa Piedra\n",
            "Su correlación es de 0.566338017165665\n",
            "El restaurante recomendado es ----- Vips\n",
            "Su correlación es de 0.6810978608827118\n"
          ]
        }
      ]
    },
    {
      "cell_type": "markdown",
      "source": [
        "# Ejercicio 5\n",
        "Repite el ejercicio con el restaurante “\"tacos de barbacoa enfrente del Tec\". Incluye tus conclusiones. "
      ],
      "metadata": {
        "id": "bFewDT9iCQby"
      }
    },
    {
      "cell_type": "code",
      "source": [
        "#Replicamos el ejercicio 4, buscando la correlación de los demás restaurantes con \"tacos de barbacoa enfrente del Tec\".\n",
        "tacos = restaurantes_list.index('tacos de barbacoa enfrente del Tec')\n",
        "corr_tacos = corr[tacos]"
      ],
      "metadata": {
        "id": "6fwZXIxxCF3R"
      },
      "execution_count": 25,
      "outputs": []
    },
    {
      "cell_type": "code",
      "source": [
        "#Imprimimos las correlaciones de los demás restaurantes con \"tacos de barbacoa enfrente del Tec\".\n",
        "print(corr_tacos)"
      ],
      "metadata": {
        "colab": {
          "base_uri": "https://localhost:8080/"
        },
        "id": "5RdzWGQcHhQC",
        "outputId": "400033a1-ad76-45b8-8ae2-9c9dd49e2ad6"
      },
      "execution_count": 26,
      "outputs": [
        {
          "output_type": "stream",
          "name": "stdout",
          "text": [
            "[-7.94324443e-04 -3.78479174e-02  6.50712915e-06 -2.84940567e-03\n",
            " -1.38059986e-02 -9.97414809e-04 -2.00937949e-03 -1.88231927e-02\n",
            "  7.04538456e-01 -8.14588992e-03 -1.40618911e-02 -1.70830863e-02\n",
            " -7.70533542e-03  8.25650883e-03 -5.59743147e-03  5.99103968e-03\n",
            " -6.91974923e-03 -1.44021277e-03  3.62345535e-03 -4.09469259e-04\n",
            " -1.86639639e-02 -2.80533674e-03 -1.15219140e-03  3.68115188e-03\n",
            "  3.47358722e-01  7.29117632e-01  2.89480121e-03 -2.85684768e-02\n",
            "  8.28589008e-04 -7.64683205e-05 -3.05341192e-03 -3.21553813e-04\n",
            " -5.77073008e-03  1.63614663e-04 -1.01835934e-03  3.67273947e-03\n",
            "  3.12625721e-01  4.52921096e-03 -9.19731341e-03 -1.84503582e-04\n",
            "  1.05881762e-03  2.46339795e-03  3.37084067e-03  1.47108073e-02\n",
            "  1.84095726e-03 -7.69815998e-03 -3.47964662e-03 -6.64778327e-03\n",
            "  8.93350048e-01  5.52400609e-03 -1.79537109e-03 -7.26812244e-04\n",
            "  3.61576394e-03 -9.59956526e-03  1.96521849e-03 -8.06198720e-04\n",
            " -2.18764528e-03 -4.10273742e-04 -9.71346250e-03 -3.18845970e-03\n",
            " -7.16157528e-03  2.47266113e-03  4.56854447e-03 -3.90236398e-03\n",
            "  2.59109348e-03 -3.96727100e-04  8.37231785e-03 -6.81752891e-03\n",
            "  1.02945487e-03  1.21274446e-02  2.99624083e-03 -4.84238136e-03\n",
            " -2.66457269e-03  7.36823528e-03 -3.79466962e-03 -4.72815303e-03\n",
            "  7.41170034e-04  1.86580753e-03  4.88653294e-03 -4.73505345e-03\n",
            "  6.47628784e-03  1.94064935e-04  8.85232817e-03  7.70902430e-03\n",
            "  8.40827462e-03 -1.30331113e-02  1.02308446e-02  6.41880392e-03\n",
            " -6.39552066e-03  5.78569171e-04 -3.48429546e-02  3.33317139e-01\n",
            "  9.81991477e-01  3.27028701e-03 -5.51350664e-03  2.88825379e-03\n",
            " -4.30812299e-03  7.94691735e-03 -2.05776120e-02  1.02793390e-02\n",
            "  4.12920949e-01  7.38836165e-01 -1.36088449e-01 -2.92739122e-04\n",
            "  7.79302731e-03  2.74708947e-03 -1.83792785e-03 -1.01179300e-02\n",
            "  3.13951274e-03 -2.32883755e-03  6.79571261e-03 -1.48593921e-02\n",
            " -6.61174973e-03 -4.42527908e-02  9.60939437e-01 -6.97105410e-03\n",
            "  6.16709714e-01 -7.83485687e-03  9.33286094e-01 -2.02111378e-03\n",
            "  1.37722748e-02  8.32339098e-04 -5.10970009e-03  9.25759129e-01\n",
            "  1.00000000e+00  2.36889269e-01  6.89863672e-03 -2.36331397e-01\n",
            "  9.50110430e-01]\n"
          ]
        }
      ]
    },
    {
      "cell_type": "code",
      "source": [
        "#Generamos las 10 mejores recomendaciones para alguien a quien le gusta \"tacos de barbacoa enfrente del Tec\"\n",
        "recomendaciones_tacos = list(restaurantes[(corr_tacos >= 0.42)& (corr_tacos < 1.0)])\n",
        "recomendaciones_tacos"
      ],
      "metadata": {
        "colab": {
          "base_uri": "https://localhost:8080/"
        },
        "id": "s3ZqNk2KHnGS",
        "outputId": "77736784-1109-483d-b090-b1bc9912304d"
      },
      "execution_count": 27,
      "outputs": [
        {
          "output_type": "execute_result",
          "data": {
            "text/plain": [
              "['Carreton de Flautas y Migadas',\n",
              " 'Hamburguesas La perica',\n",
              " 'Pollo_Frito_Buenos_Aires',\n",
              " 'Taqueria EL amigo ',\n",
              " 'carnitas_mata',\n",
              " 'little pizza Emilio Portes Gil',\n",
              " 'palomo tec',\n",
              " 'puesto de gorditas',\n",
              " 'tacos abi',\n",
              " 'vips']"
            ]
          },
          "metadata": {},
          "execution_count": 27
        }
      ]
    },
    {
      "cell_type": "code",
      "source": [
        "#Imprimimos las correlaciones de los ratings de los uusarios de cada restaurante respecto a \"tacos de barbacoa enfrente del Tec\"\n",
        "for r in recomendaciones_tacos:\n",
        "  print(\"El restaurante recomendado es -----\",r)\n",
        "  ind = restaurantes_list.index(r)\n",
        "  c = corr_tacos[ind]\n",
        "  print(\"Su correlación es de\", c)"
      ],
      "metadata": {
        "colab": {
          "base_uri": "https://localhost:8080/"
        },
        "id": "YuBReZZXHxjR",
        "outputId": "18fa4be6-ff6d-488f-ddac-2dca6038f608"
      },
      "execution_count": 28,
      "outputs": [
        {
          "output_type": "stream",
          "name": "stdout",
          "text": [
            "El restaurante recomendado es ----- Carreton de Flautas y Migadas\n",
            "Su correlación es de 0.7045384559273856\n",
            "El restaurante recomendado es ----- Hamburguesas La perica\n",
            "Su correlación es de 0.7291176315485874\n",
            "El restaurante recomendado es ----- Pollo_Frito_Buenos_Aires\n",
            "Su correlación es de 0.8933500478095733\n",
            "El restaurante recomendado es ----- Taqueria EL amigo \n",
            "Su correlación es de 0.981991476572627\n",
            "El restaurante recomendado es ----- carnitas_mata\n",
            "Su correlación es de 0.73883616459321\n",
            "El restaurante recomendado es ----- little pizza Emilio Portes Gil\n",
            "Su correlación es de 0.9609394366160514\n",
            "El restaurante recomendado es ----- palomo tec\n",
            "Su correlación es de 0.6167097141973037\n",
            "El restaurante recomendado es ----- puesto de gorditas\n",
            "Su correlación es de 0.9332860938037153\n",
            "El restaurante recomendado es ----- tacos abi\n",
            "Su correlación es de 0.9257591288360351\n",
            "El restaurante recomendado es ----- vips\n",
            "Su correlación es de 0.9501104300472196\n"
          ]
        }
      ]
    },
    {
      "cell_type": "code",
      "source": [
        "#Replicamos el ejercicio anterior pero cambiamos el número de componentes de forma tal,\n",
        "#que solamente 9 de las 10 recomendaciones anteriores se parezcan\n",
        "X = table.values.T\n",
        "SVD = TruncatedSVD(n_components=45, random_state=0)\n",
        "matrix = SVD.fit_transform(X)\n",
        "\n",
        "print(\"La cantidad de valores singulares obtenidos es\", len(SVD.singular_values_))\n",
        "\n",
        "corr = np.corrcoef(matrix)\n",
        "restaurantes = table.columns\n",
        "\n",
        "tacos = restaurantes_list.index('tacos de barbacoa enfrente del Tec')\n",
        "corr_tacos = corr[tacos]\n",
        "\n",
        "recomendaciones_tacos = list(restaurantes[(corr_tacos >= 0.42)& (corr_tacos < 1.0)])\n",
        "recomendaciones_tacos\n",
        "\n",
        "print(recomendaciones_tacos)"
      ],
      "metadata": {
        "colab": {
          "base_uri": "https://localhost:8080/"
        },
        "id": "yXOz0vpMIHOp",
        "outputId": "c0a5e5d5-3694-4712-fa44-700f1f75ea1f"
      },
      "execution_count": 29,
      "outputs": [
        {
          "output_type": "stream",
          "name": "stdout",
          "text": [
            "La cantidad de valores singulares obtenidos es 45\n",
            "['Carreton de Flautas y Migadas', 'Hamburguesas La perica', 'Pollo_Frito_Buenos_Aires', 'Taqueria EL amigo ', 'carnitas_mata', 'little pizza Emilio Portes Gil', 'palomo tec', 'puesto de gorditas', 'tacos abi', 'vips']\n"
          ]
        }
      ]
    },
    {
      "cell_type": "code",
      "source": [
        "for r in recomendaciones_tacos:\n",
        "  print(\"El restaurante recomendado es -----\",r)\n",
        "  ind = restaurantes_list.index(r)\n",
        "  c = corr_tacos[ind]\n",
        "  print(\"Su correlación es de\", c)"
      ],
      "metadata": {
        "colab": {
          "base_uri": "https://localhost:8080/"
        },
        "id": "aESedLwjQjK7",
        "outputId": "8996fa60-80d6-47e6-8a24-3dec90a1a446"
      },
      "execution_count": 30,
      "outputs": [
        {
          "output_type": "stream",
          "name": "stdout",
          "text": [
            "El restaurante recomendado es ----- Carreton de Flautas y Migadas\n",
            "Su correlación es de 0.7045384559273856\n",
            "El restaurante recomendado es ----- Hamburguesas La perica\n",
            "Su correlación es de 0.7291176315485874\n",
            "El restaurante recomendado es ----- Pollo_Frito_Buenos_Aires\n",
            "Su correlación es de 0.8933500478095733\n",
            "El restaurante recomendado es ----- Taqueria EL amigo \n",
            "Su correlación es de 0.981991476572627\n",
            "El restaurante recomendado es ----- carnitas_mata\n",
            "Su correlación es de 0.73883616459321\n",
            "El restaurante recomendado es ----- little pizza Emilio Portes Gil\n",
            "Su correlación es de 0.9609394366160514\n",
            "El restaurante recomendado es ----- palomo tec\n",
            "Su correlación es de 0.6167097141973037\n",
            "El restaurante recomendado es ----- puesto de gorditas\n",
            "Su correlación es de 0.9332860938037153\n",
            "El restaurante recomendado es ----- tacos abi\n",
            "Su correlación es de 0.9257591288360351\n",
            "El restaurante recomendado es ----- vips\n",
            "Su correlación es de 0.9501104300472196\n"
          ]
        }
      ]
    },
    {
      "cell_type": "markdown",
      "source": [
        "#Conclusiones:\n",
        "De acuerdo a lo realizado para este ejercicio se cuenta con un desempeño distinto del modelo para quienes eligieron los \"Tacos de barbacoa enfrente del Tec\", muestran las recomendaciones algunos restaurantes con un giro similar.\n",
        "\n",
        "Se muestra en este ejercicio que aunque se obtengan la misma cantidad de valores singulares entre ambos ejemplos 'subway' vs ' tacos de barbacoa enfrente del Tec' sus recomendaciones son diferentes. Ya que en la de tacos se muestran mas recomendaciones con la descripcion tacos. En comparacion de subway donde dan opciones de restaurantes."
      ],
      "metadata": {
        "id": "kHsXgq-hJbSb"
      }
    },
    {
      "cell_type": "markdown",
      "source": [
        "# Ejercicio 6\n",
        "Repite los ejercicios 1 a 4 generando ahora la matriz de utilidad en la cual los renglones son los\n",
        "usuarios (user_ID), las columnas los nombres de los restaurantes (name) y las entradas la\n",
        "evaluación dada a la comida (food_rating). Incluye tus conclusiones. "
      ],
      "metadata": {
        "id": "KZ6jEwmWRL0V"
      }
    },
    {
      "cell_type": "code",
      "source": [
        "#Ejercicio 1\n",
        "#Se reciclan los datos existentes y se actualiza el values por food_rating\n",
        "#Creamos una tabla que como renglones tenga a los usuarios, como solumnas los nombres del restaurante, y como valores la calificación\n",
        "table = pd.pivot_table(df_rating, values='food_rating', index= 'userID', columns=\"name\")"
      ],
      "metadata": {
        "id": "RWMCVebUQ76q"
      },
      "execution_count": 31,
      "outputs": []
    },
    {
      "cell_type": "code",
      "source": [
        "#Visualizamos la tabla\n",
        "print(table.head(10))"
      ],
      "metadata": {
        "colab": {
          "base_uri": "https://localhost:8080/"
        },
        "id": "8JLz1LEsRht7",
        "outputId": "4b7f7e1a-9a6e-4556-d63d-95bc76144bbc"
      },
      "execution_count": 32,
      "outputs": [
        {
          "output_type": "stream",
          "name": "stdout",
          "text": [
            "name    Abondance Restaurante Bar  Arrachela Grill  Cabana Huasteca  \\\n",
            "userID                                                                \n",
            "U1001                         NaN              NaN              NaN   \n",
            "U1002                         NaN              NaN              NaN   \n",
            "U1003                         NaN              NaN              2.0   \n",
            "U1004                         NaN              NaN              NaN   \n",
            "U1005                         NaN              NaN              NaN   \n",
            "U1006                         NaN              NaN              NaN   \n",
            "U1007                         NaN              NaN              NaN   \n",
            "U1008                         1.0              NaN              NaN   \n",
            "U1009                         NaN              NaN              2.0   \n",
            "U1010                         NaN              NaN              NaN   \n",
            "\n",
            "name    Cafe Chaires  Cafeteria cenidet  Cafeteria y Restaurant El Pacifico  \\\n",
            "userID                                                                        \n",
            "U1001            NaN                NaN                                 NaN   \n",
            "U1002            NaN                NaN                                 NaN   \n",
            "U1003            NaN                NaN                                 NaN   \n",
            "U1004            NaN                NaN                                 2.0   \n",
            "U1005            NaN                NaN                                 1.0   \n",
            "U1006            0.0                NaN                                 NaN   \n",
            "U1007            1.0                NaN                                 1.0   \n",
            "U1008            NaN                NaN                                 NaN   \n",
            "U1009            NaN                NaN                                 NaN   \n",
            "U1010            NaN                NaN                                 NaN   \n",
            "\n",
            "name    Carls Jr  Carnitas Mata  Calle 16 de Septiembre  \\\n",
            "userID                                                    \n",
            "U1001        NaN                                    NaN   \n",
            "U1002        NaN                                    NaN   \n",
            "U1003        NaN                                    NaN   \n",
            "U1004        NaN                                    NaN   \n",
            "U1005        NaN                                    NaN   \n",
            "U1006        NaN                                    NaN   \n",
            "U1007        NaN                                    NaN   \n",
            "U1008        NaN                                    NaN   \n",
            "U1009        NaN                                    NaN   \n",
            "U1010        NaN                                    NaN   \n",
            "\n",
            "name    Carreton de Flautas y Migadas  Cenaduria El RincÃ³n de Tlaquepaque  \\\n",
            "userID                                                                       \n",
            "U1001                             NaN                                  NaN   \n",
            "U1002                             NaN                                  NaN   \n",
            "U1003                             NaN                                  NaN   \n",
            "U1004                             NaN                                  NaN   \n",
            "U1005                             NaN                                  NaN   \n",
            "U1006                             NaN                                  NaN   \n",
            "U1007                             NaN                                  NaN   \n",
            "U1008                             NaN                                  NaN   \n",
            "U1009                             NaN                                  NaN   \n",
            "U1010                             NaN                                  NaN   \n",
            "\n",
            "name    ...  puesto de tacos  rockabilly   shi ro ie  sirloin stockade  \\\n",
            "userID  ...                                                              \n",
            "U1001   ...              2.0          NaN        NaN               NaN   \n",
            "U1002   ...              2.0          NaN        NaN               NaN   \n",
            "U1003   ...              2.0          2.0        NaN               NaN   \n",
            "U1004   ...              NaN          NaN        NaN               NaN   \n",
            "U1005   ...              NaN          NaN        NaN               NaN   \n",
            "U1006   ...              1.0          NaN        2.0               NaN   \n",
            "U1007   ...              NaN          NaN        NaN               NaN   \n",
            "U1008   ...              NaN          NaN        NaN               NaN   \n",
            "U1009   ...              1.0          NaN        NaN               NaN   \n",
            "U1010   ...              NaN          NaN        NaN               NaN   \n",
            "\n",
            "name    tacos abi  tacos de barbacoa enfrente del Tec  tacos de la estacion  \\\n",
            "userID                                                                        \n",
            "U1001         NaN                                 NaN                   NaN   \n",
            "U1002         NaN                                 NaN                   NaN   \n",
            "U1003         NaN                                 NaN                   NaN   \n",
            "U1004         NaN                                 NaN                   NaN   \n",
            "U1005         NaN                                 NaN                   NaN   \n",
            "U1006         NaN                                 NaN                   NaN   \n",
            "U1007         NaN                                 NaN                   NaN   \n",
            "U1008         NaN                                 NaN                   NaN   \n",
            "U1009         NaN                                 NaN                   NaN   \n",
            "U1010         NaN                                 NaN                   NaN   \n",
            "\n",
            "name    tacos los volcanes  tortas hawai  vips  \n",
            "userID                                          \n",
            "U1001                  NaN           NaN   NaN  \n",
            "U1002                  NaN           NaN   NaN  \n",
            "U1003                  NaN           NaN   NaN  \n",
            "U1004                  2.0           NaN   NaN  \n",
            "U1005                  NaN           NaN   NaN  \n",
            "U1006                  NaN           NaN   NaN  \n",
            "U1007                  NaN           NaN   NaN  \n",
            "U1008                  NaN           NaN   NaN  \n",
            "U1009                  NaN           NaN   NaN  \n",
            "U1010                  NaN           NaN   NaN  \n",
            "\n",
            "[10 rows x 129 columns]\n"
          ]
        }
      ]
    },
    {
      "cell_type": "code",
      "source": [
        "list (table.columns)"
      ],
      "metadata": {
        "colab": {
          "base_uri": "https://localhost:8080/"
        },
        "id": "7ksLUS6WRsOC",
        "outputId": "f86e9548-9881-4677-86ac-341974660fb1"
      },
      "execution_count": 33,
      "outputs": [
        {
          "output_type": "execute_result",
          "data": {
            "text/plain": [
              "['Abondance Restaurante Bar',\n",
              " 'Arrachela Grill',\n",
              " 'Cabana Huasteca',\n",
              " 'Cafe Chaires',\n",
              " 'Cafeteria cenidet',\n",
              " 'Cafeteria y Restaurant El Pacifico',\n",
              " 'Carls Jr',\n",
              " 'Carnitas Mata  Calle 16 de Septiembre',\n",
              " 'Carreton de Flautas y Migadas',\n",
              " 'Cenaduria El RincÃ³n de Tlaquepaque',\n",
              " 'Chaires',\n",
              " 'Chilis Cuernavaca',\n",
              " 'Dominos Pizza',\n",
              " 'El Club',\n",
              " 'El Herradero Restaurante and Bar',\n",
              " 'El Mundo de la Pasta',\n",
              " 'El Oceano Dorado',\n",
              " 'El Rincon de San Francisco',\n",
              " 'El Rincón de San Francisco',\n",
              " 'El angel Restaurante',\n",
              " 'El cotorreo',\n",
              " 'Giovannis',\n",
              " 'Gordas de morales',\n",
              " 'Gorditas Doa Gloria',\n",
              " 'Gorditas Dona Tota',\n",
              " 'Hamburguesas La perica',\n",
              " 'Hamburguesas Valle Dorado',\n",
              " 'Hamburguesas saul',\n",
              " 'KFC',\n",
              " 'Kiku Cuernavaca',\n",
              " 'Koye Sushi',\n",
              " 'La Cantina Restaurante',\n",
              " 'La Estrella de Dimas',\n",
              " 'La Fontana Pizza Restaurante and Cafe',\n",
              " 'La Posada del Virrey',\n",
              " 'La Virreina',\n",
              " 'Little Cesarz',\n",
              " 'Log Yin',\n",
              " 'Los Vikingos',\n",
              " 'Luna Cafe',\n",
              " 'Mariscos El Pescador',\n",
              " 'Mariscos Tia Licha',\n",
              " 'McDonalds Centro',\n",
              " 'Mcdonalds Parque Tangamanga',\n",
              " 'Michiko Restaurant Japones',\n",
              " 'Mikasa',\n",
              " 'Paniroles',\n",
              " 'Pizzeria Julios',\n",
              " 'Pollo_Frito_Buenos_Aires',\n",
              " 'Potzocalli',\n",
              " 'Preambulo Wifi Zone Cafe',\n",
              " 'Restaurant Bar Coty y Pablo',\n",
              " 'Restaurant Bar Hacienda los Martinez',\n",
              " 'Restaurant El Muladar de Calzada',\n",
              " 'Restaurant Familiar El Chino',\n",
              " 'Restaurant Las Mananitas',\n",
              " 'Restaurant Oriental Express',\n",
              " 'Restaurant Orizatlan',\n",
              " 'Restaurant Teely',\n",
              " 'Restaurant Wu Zhuo Yi',\n",
              " 'Restaurant and Bar and Clothesline Carlos N Charlies',\n",
              " 'Restaurant de Mariscos de Picon',\n",
              " 'Restaurant la Chalita',\n",
              " 'Restaurant los Compadres',\n",
              " 'Restaurant los Pinos',\n",
              " 'Restaurante 75',\n",
              " 'Restaurante Alhondiga',\n",
              " 'Restaurante Bar El Gallinero',\n",
              " 'Restaurante Bar Fu-hao',\n",
              " 'Restaurante Casa de las Flores',\n",
              " 'Restaurante El Chivero S.A. de C.V.',\n",
              " 'Restaurante El Cielo Potosino',\n",
              " 'Restaurante El Reyecito',\n",
              " 'Restaurante Guerra',\n",
              " 'Restaurante Marisco Sam',\n",
              " 'Restaurante Pueblo Bonito',\n",
              " 'Restaurante Tiberius',\n",
              " 'Restaurante Versalles',\n",
              " 'Restaurante de Mariscos la Langosta',\n",
              " 'Restaurante la Cantina',\n",
              " 'Restaurante la Estrella de Dima',\n",
              " 'Restaurante la Gran Via',\n",
              " 'Restaurante la Parroquia Potosina',\n",
              " 'Restaurante y Pescaderia Tampico',\n",
              " 'Rincon Huasteco',\n",
              " 'Rincon del Bife',\n",
              " 'Sanborns Casa Piedra',\n",
              " 'Sirlone',\n",
              " 'Subway',\n",
              " 'Sushi Itto',\n",
              " 'TACOS CORRECAMINOS',\n",
              " 'TACOS EL GUERO',\n",
              " 'Taqueria EL amigo ',\n",
              " 'Tortas Locas Hipocampo',\n",
              " 'Tortas y hamburguesas el gordo',\n",
              " 'Unicols Pizza',\n",
              " 'VIPS',\n",
              " 'Vips',\n",
              " 'cafe ambar',\n",
              " 'cafe punta del cielo',\n",
              " 'carnitas mata calle Emilio Portes Gil',\n",
              " 'carnitas_mata',\n",
              " 'churchs',\n",
              " 'crudalia',\n",
              " 'dairy queen',\n",
              " 'don burguers',\n",
              " 'el lechon potosino ',\n",
              " 'el pueblito',\n",
              " 'emilianos',\n",
              " 'la Cantina',\n",
              " 'la Cochinita Pibil Restaurante Yucateco',\n",
              " 'la Estrella de Dimas',\n",
              " 'la parroquia',\n",
              " 'la perica hamburguesa',\n",
              " 'little pizza Emilio Portes Gil',\n",
              " 'los Toneles',\n",
              " 'palomo tec',\n",
              " 'pizza clasica',\n",
              " 'puesto de gorditas',\n",
              " 'puesto de tacos',\n",
              " 'rockabilly ',\n",
              " 'shi ro ie',\n",
              " 'sirloin stockade',\n",
              " 'tacos abi',\n",
              " 'tacos de barbacoa enfrente del Tec',\n",
              " 'tacos de la estacion',\n",
              " 'tacos los volcanes',\n",
              " 'tortas hawai',\n",
              " 'vips']"
            ]
          },
          "metadata": {},
          "execution_count": 33
        }
      ]
    },
    {
      "cell_type": "code",
      "source": [
        "#Ejercicio 2\n",
        "# obtener dicha factorización SVD utilizando todas las componentes posibles, es decir, usando todos sus valores singulares. En particular indica la cantidad de valores singulares obtenidos.\n",
        "#Como hay muchos datos vacíos, llenamos con cero.\n",
        "table = table.fillna(0)"
      ],
      "metadata": {
        "id": "WheX2ZYlR_3C"
      },
      "execution_count": 34,
      "outputs": []
    },
    {
      "cell_type": "code",
      "source": [
        "#Aplicamos la factorización SVD utilizando todas las componentes.\n",
        "X = table.values.T\n",
        "SVD = TruncatedSVD(n_components=129, random_state=0)\n",
        "matrix = SVD.fit_transform(X)"
      ],
      "metadata": {
        "id": "GUwIWEaVSfRJ"
      },
      "execution_count": 35,
      "outputs": []
    },
    {
      "cell_type": "code",
      "source": [
        "#Visualizamos el tamaño de la matriz.\n",
        "X.shape"
      ],
      "metadata": {
        "colab": {
          "base_uri": "https://localhost:8080/"
        },
        "id": "kKmPnUz3SraS",
        "outputId": "30d2e400-9ce0-40ff-8fe0-de3b2ddba7ed"
      },
      "execution_count": 36,
      "outputs": [
        {
          "output_type": "execute_result",
          "data": {
            "text/plain": [
              "(129, 138)"
            ]
          },
          "metadata": {},
          "execution_count": 36
        }
      ]
    },
    {
      "cell_type": "code",
      "source": [
        "#Imprimimos la cantidad de valores singulares obtenidos.\n",
        "print(\"La cantidad de valores singulares obtenidos es\", len(SVD.singular_values_))"
      ],
      "metadata": {
        "colab": {
          "base_uri": "https://localhost:8080/"
        },
        "id": "xjMv8IG6SwRi",
        "outputId": "dc263596-5e9c-4548-97fa-30bc6bf23e40"
      },
      "execution_count": 37,
      "outputs": [
        {
          "output_type": "stream",
          "name": "stdout",
          "text": [
            "La cantidad de valores singulares obtenidos es 129\n"
          ]
        }
      ]
    },
    {
      "cell_type": "code",
      "source": [
        "#Ejercicio 3\n",
        "# Usando la métrica de correlación de Pearson, obtener las 10 mejores recomendaciones de este modelo no supervisado con base a la información de alguien que evaluó bien de manera general al “Subway”. Despliega también el valor numérico de la correlación de Pearson de cada una de estas 10 recomendaciones. NOTA: No debe estar incluido “Subway” dentro de las recomendaciones.\n",
        "#Obtenemos la corrrelación de cada restaurante respecto a los demás.\n",
        "corr = np.corrcoef(matrix)\n",
        "restaurantes = table.columns\n",
        "print(corr)"
      ],
      "metadata": {
        "colab": {
          "base_uri": "https://localhost:8080/"
        },
        "id": "Hmup32cUSzna",
        "outputId": "c32afc28-b4f0-46db-a5ca-e5332afe2e1d"
      },
      "execution_count": 38,
      "outputs": [
        {
          "output_type": "stream",
          "name": "stdout",
          "text": [
            "[[ 1.          0.00253439 -0.01178669 ... -0.01263291  0.01043083\n",
            "  -0.0042341 ]\n",
            " [ 0.00253439  1.          0.00358177 ...  0.00383892 -0.00316975\n",
            "   0.00128667]\n",
            " [-0.01178669  0.00358177  1.         ...  0.14906495  0.01474158\n",
            "  -0.00598393]\n",
            " ...\n",
            " [-0.01263291  0.00383892  0.14906495 ...  1.          0.01579994\n",
            "  -0.00641354]\n",
            " [ 0.01043083 -0.00316975  0.01474158 ...  0.01579994  1.\n",
            "   0.00529558]\n",
            " [-0.0042341   0.00128667 -0.00598393 ... -0.00641354  0.00529558\n",
            "   1.        ]]\n"
          ]
        }
      ]
    },
    {
      "cell_type": "code",
      "source": [
        "#Hacemos una lista con los restaurantes.\n",
        "restaurantes_list = list(restaurantes)"
      ],
      "metadata": {
        "id": "9lbKHoRWTDn6"
      },
      "execution_count": 39,
      "outputs": []
    },
    {
      "cell_type": "code",
      "source": [
        "#Buscamos la correlación de los demás restaurantes con \"Subway\".\n",
        "subway = restaurantes_list.index('Subway')\n",
        "corr_subway = corr[subway]"
      ],
      "metadata": {
        "id": "hvTG-Z-VTN0a"
      },
      "execution_count": 40,
      "outputs": []
    },
    {
      "cell_type": "code",
      "source": [
        "#Imprimimos las correlaciones de los demás restaurantes con Subway.\n",
        "print(corr_subway)"
      ],
      "metadata": {
        "colab": {
          "base_uri": "https://localhost:8080/"
        },
        "id": "GwtdncGkTP-i",
        "outputId": "42ebffeb-29c5-4f70-da1f-2eadde2b22ed"
      },
      "execution_count": 41,
      "outputs": [
        {
          "output_type": "stream",
          "name": "stdout",
          "text": [
            "[-5.06418108e-03  1.53891772e-03 -7.15705294e-03 -7.51437349e-04\n",
            "  3.57844065e-04 -4.27908953e-03 -4.10491062e-03 -8.72391553e-03\n",
            " -5.80659154e-03 -7.37551348e-03 -6.29677017e-03  1.19529006e-03\n",
            " -5.49056441e-03 -6.25106315e-03 -2.26808294e-04  2.26784575e-03\n",
            " -4.97923491e-03 -7.33491870e-03 -5.49091909e-05 -6.54487708e-03\n",
            " -7.17291384e-04  2.31333734e-01 -9.42653806e-04  1.15809414e-03\n",
            " -2.44343966e-03 -2.46720616e-03 -8.43368969e-04 -2.05629573e-03\n",
            " -3.70288596e-03  2.50357400e-01 -5.28927854e-03  2.72981977e-03\n",
            "  4.14365709e-04 -9.51153872e-03  2.32009229e-03 -9.29532082e-03\n",
            " -4.03970901e-03  1.31858098e-01 -8.36645261e-03 -2.30125601e-03\n",
            " -2.61409620e-03  4.15222053e-01  4.25538306e-03  3.02880631e-03\n",
            " -2.46282020e-03  2.09493113e-01  3.12082362e-01 -3.01154158e-03\n",
            " -3.10972278e-04 -1.11824996e-03  8.07121501e-04  2.24213782e-01\n",
            "  2.65096107e-04  6.44807197e-04  2.32708368e-01  3.31706780e-01\n",
            "  6.95063851e-04  3.47994174e-04  8.16413374e-01  1.04699730e-04\n",
            "  4.68949686e-01  4.43119191e-03 -2.79083259e-03 -4.74310321e-03\n",
            "  9.45625400e-02 -4.32375633e-03 -9.91593839e-03  6.59128482e-03\n",
            " -5.26009411e-03 -8.53125476e-03 -1.08456080e-02  5.80519412e-03\n",
            "  3.26361206e-03  1.18239199e-03  1.50584868e-04 -6.05677040e-03\n",
            " -8.57964598e-04 -5.47089297e-04  1.30496863e-03  1.14112586e-03\n",
            " -3.15094052e-03  1.03603724e-02  2.95398913e-03 -9.38144208e-03\n",
            " -6.29169520e-04  3.81819463e-01  3.65656688e-01  4.28784461e-04\n",
            "  1.00000000e+00 -1.99936321e-03 -4.29943952e-03 -9.95112702e-03\n",
            " -6.58885162e-03 -4.81048142e-03 -5.63718446e-03 -1.74366758e-03\n",
            "  3.01538197e-03  4.42147702e-01 -5.86019551e-03 -1.52653108e-03\n",
            " -8.54349820e-03  3.15606317e-03  2.45599865e-04 -4.60337555e-03\n",
            " -7.91423599e-04  8.56988031e-04  1.98632124e-03 -9.14149262e-04\n",
            " -9.63185863e-03 -6.59421891e-03 -3.61768796e-03 -4.98574218e-03\n",
            " -2.08219907e-03 -8.12719293e-04 -2.93115223e-03 -2.83804692e-03\n",
            "  2.86699454e-03 -2.84151084e-04 -6.54974706e-03 -8.56547287e-03\n",
            "  1.73284166e-04 -9.40493206e-03 -7.95661685e-03 -1.05138327e-02\n",
            " -5.78915963e-03 -5.39973770e-03 -7.67089017e-03  6.33375557e-03\n",
            " -2.57101052e-03]\n"
          ]
        }
      ]
    },
    {
      "cell_type": "code",
      "source": [
        "#Generamos las 10 mejores recomendaciones para alguien a quien le gusta Subway\n",
        "recomendaciones = list(restaurantes[(corr_subway > 0.232) & (corr_subway < 1.0)])\n",
        "\n",
        "recomendaciones"
      ],
      "metadata": {
        "colab": {
          "base_uri": "https://localhost:8080/"
        },
        "id": "bbu7Sqq6Tagj",
        "outputId": "c0fcc081-86be-4d51-9684-9dfc379c5974"
      },
      "execution_count": 42,
      "outputs": [
        {
          "output_type": "execute_result",
          "data": {
            "text/plain": [
              "['Kiku Cuernavaca',\n",
              " 'Mariscos Tia Licha',\n",
              " 'Paniroles',\n",
              " 'Restaurant Familiar El Chino',\n",
              " 'Restaurant Las Mananitas',\n",
              " 'Restaurant Teely',\n",
              " 'Restaurant and Bar and Clothesline Carlos N Charlies',\n",
              " 'Rincon del Bife',\n",
              " 'Sanborns Casa Piedra',\n",
              " 'Vips']"
            ]
          },
          "metadata": {},
          "execution_count": 42
        }
      ]
    },
    {
      "cell_type": "code",
      "source": [
        "#Imprimimos las correlaciones de los ratings de los uusarios de cada restaurante respecto a Subway\n",
        "for r in recomendaciones:\n",
        "  print(\"El restaurante recomendado es -----\",r)\n",
        "  ind = restaurantes_list.index(r)\n",
        "  c = corr_subway[ind]\n",
        "  print(\"Su correlación es de\", c)"
      ],
      "metadata": {
        "colab": {
          "base_uri": "https://localhost:8080/"
        },
        "id": "q2-_oO5GTewU",
        "outputId": "b214cea5-20e6-403c-c2c3-e3f35c4d85b5"
      },
      "execution_count": 43,
      "outputs": [
        {
          "output_type": "stream",
          "name": "stdout",
          "text": [
            "El restaurante recomendado es ----- Kiku Cuernavaca\n",
            "Su correlación es de 0.2503574000343764\n",
            "El restaurante recomendado es ----- Mariscos Tia Licha\n",
            "Su correlación es de 0.41522205267775525\n",
            "El restaurante recomendado es ----- Paniroles\n",
            "Su correlación es de 0.3120823620746048\n",
            "El restaurante recomendado es ----- Restaurant Familiar El Chino\n",
            "Su correlación es de 0.23270836834909936\n",
            "El restaurante recomendado es ----- Restaurant Las Mananitas\n",
            "Su correlación es de 0.3317067803395002\n",
            "El restaurante recomendado es ----- Restaurant Teely\n",
            "Su correlación es de 0.816413373740804\n",
            "El restaurante recomendado es ----- Restaurant and Bar and Clothesline Carlos N Charlies\n",
            "Su correlación es de 0.4689496858109321\n",
            "El restaurante recomendado es ----- Rincon del Bife\n",
            "Su correlación es de 0.38181946304071435\n",
            "El restaurante recomendado es ----- Sanborns Casa Piedra\n",
            "Su correlación es de 0.3656566879992979\n",
            "El restaurante recomendado es ----- Vips\n",
            "Su correlación es de 0.4421477019057177\n"
          ]
        }
      ]
    },
    {
      "cell_type": "code",
      "source": [
        "# Ejercicio 4\n",
        "# Disminuye ahora la dimensión de la factorización con un número de componentes tal, que las recomendaciones con esta menor cantidad de información coincidan en al menos 9 de las 10 recomendaciones dadas con todos los valores singulares. Indica la cantidad de valores singulares encontrado y la cantidad de información que contienen.\n",
        "# Replicamos el ejercicio anterior pero cambiamos el número de componentes de forma tal que solamente 9 de las 10 recomendaciones anteriores se parezcan\n",
        "X = table.values.T\n",
        "SVD = TruncatedSVD(n_components=45, random_state=0)\n",
        "matrix = SVD.fit_transform(X)\n",
        "\n",
        "print(\"La cantidad de valores singulares obtenidos es\", len(SVD.singular_values_))\n",
        "\n",
        "corr = np.corrcoef(matrix)\n",
        "restaurantes = table.columns\n",
        "\n",
        "subway = restaurantes_list.index('Subway')\n",
        "corr_subway = corr[subway]\n",
        "\n",
        "recomendaciones = list(restaurantes[(corr_subway >= 0.25) & (corr_subway < 1.0)])\n",
        "recomendaciones\n",
        "\n",
        "print(recomendaciones)"
      ],
      "metadata": {
        "colab": {
          "base_uri": "https://localhost:8080/"
        },
        "id": "FWHh_s_bThv7",
        "outputId": "64f1a697-a4e7-4389-bfca-4714d4b4803b"
      },
      "execution_count": 44,
      "outputs": [
        {
          "output_type": "stream",
          "name": "stdout",
          "text": [
            "La cantidad de valores singulares obtenidos es 45\n",
            "['Mariscos Tia Licha', 'Mikasa', 'Paniroles', 'Restaurant Bar Coty y Pablo', 'Restaurant Las Mananitas', 'Restaurant Teely', 'Restaurant and Bar and Clothesline Carlos N Charlies', 'Rincon del Bife', 'Sanborns Casa Piedra', 'Vips']\n"
          ]
        }
      ]
    },
    {
      "cell_type": "code",
      "source": [
        "for r in recomendaciones:\n",
        "  print(\"El restaurante recomendado es -----\",r)\n",
        "  ind = restaurantes_list.index(r)\n",
        "  c = corr_subway[ind]\n",
        "  print(\"Su correlación es de\", c)"
      ],
      "metadata": {
        "colab": {
          "base_uri": "https://localhost:8080/"
        },
        "id": "9ticN3K_Tr1b",
        "outputId": "a4fd7481-9e08-40e1-f076-932ceef704b0"
      },
      "execution_count": 45,
      "outputs": [
        {
          "output_type": "stream",
          "name": "stdout",
          "text": [
            "El restaurante recomendado es ----- Mariscos Tia Licha\n",
            "Su correlación es de 0.47687266848288073\n",
            "El restaurante recomendado es ----- Mikasa\n",
            "Su correlación es de 0.45090511319519766\n",
            "El restaurante recomendado es ----- Paniroles\n",
            "Su correlación es de 0.5960469081626261\n",
            "El restaurante recomendado es ----- Restaurant Bar Coty y Pablo\n",
            "Su correlación es de 0.4309770270873549\n",
            "El restaurante recomendado es ----- Restaurant Las Mananitas\n",
            "Su correlación es de 0.3428308245860642\n",
            "El restaurante recomendado es ----- Restaurant Teely\n",
            "Su correlación es de 0.9637130510923078\n",
            "El restaurante recomendado es ----- Restaurant and Bar and Clothesline Carlos N Charlies\n",
            "Su correlación es de 0.8944084275460509\n",
            "El restaurante recomendado es ----- Rincon del Bife\n",
            "Su correlación es de 0.8711204487507012\n",
            "El restaurante recomendado es ----- Sanborns Casa Piedra\n",
            "Su correlación es de 0.47520529989058935\n",
            "El restaurante recomendado es ----- Vips\n",
            "Su correlación es de 0.6308815309521514\n"
          ]
        }
      ]
    },
    {
      "cell_type": "markdown",
      "source": [
        "#Conclusiones:\n",
        "\n",
        "Para este ejercicio donde estamos evaluando \"food_rating\" se tiene un comportamiento distinto que al evaluar \"rating\", ya que se tienen opiniones distintas para cada una de la columnas.\n",
        "\n",
        "A diferencia del primer ejercicio donde se utiliza la correlacion de Pearson para obtener las 10 mejores recomendaciones esta se basa en que Subway fue evaluado de manera general y con SVD establece una similaridad entre vectores relacionados entre si. En contraste este ejercicio los valores analizados son 'food rating' en lugar de evaluacion general ' rating' lo cual nos lanza diferentes restaurantes evaluados en mejor rating de comida, y no en rating general o similar a subway."
      ],
      "metadata": {
        "id": "fBduUvh7IuHD"
      }
    },
    {
      "cell_type": "markdown",
      "source": [
        "# Ejercicio 7\n",
        "Repite los ejercicios 1 a 4 generando ahora la matriz de utilidad en la cual los renglones son los\n",
        "usuarios (user_ID), las columnas los nombres de los restaurantes (name) y las entradas la\n",
        "evaluación dada al servicio (service_rating). Incluye tus conclusiones. "
      ],
      "metadata": {
        "id": "xHn4Y3EkZ88n"
      }
    },
    {
      "cell_type": "code",
      "source": [
        "#Ejercicio 1\n",
        "#Se reciclan los datos existentes y se actualiza el values por service_rating\n",
        "#Creamos una tabla que como renglones tenga a los usuarios, como solumnas los nombres del restaurante, y como valores la calificación\n",
        "table = pd.pivot_table(df_rating, values='service_rating', index= 'userID', columns=\"name\")"
      ],
      "metadata": {
        "id": "_cAJTpohT33K"
      },
      "execution_count": 46,
      "outputs": []
    },
    {
      "cell_type": "code",
      "source": [
        "#Visualizamos la tabla\n",
        "print(table.head(10))"
      ],
      "metadata": {
        "colab": {
          "base_uri": "https://localhost:8080/"
        },
        "id": "4CC8jQvyaMQs",
        "outputId": "095708d4-e13c-4eeb-869e-4d9dada35719"
      },
      "execution_count": 47,
      "outputs": [
        {
          "output_type": "stream",
          "name": "stdout",
          "text": [
            "name    Abondance Restaurante Bar  Arrachela Grill  Cabana Huasteca  \\\n",
            "userID                                                                \n",
            "U1001                         NaN              NaN              NaN   \n",
            "U1002                         NaN              NaN              NaN   \n",
            "U1003                         NaN              NaN              2.0   \n",
            "U1004                         NaN              NaN              NaN   \n",
            "U1005                         NaN              NaN              NaN   \n",
            "U1006                         NaN              NaN              NaN   \n",
            "U1007                         NaN              NaN              NaN   \n",
            "U1008                         1.0              NaN              NaN   \n",
            "U1009                         NaN              NaN              1.0   \n",
            "U1010                         NaN              NaN              NaN   \n",
            "\n",
            "name    Cafe Chaires  Cafeteria cenidet  Cafeteria y Restaurant El Pacifico  \\\n",
            "userID                                                                        \n",
            "U1001            NaN                NaN                                 NaN   \n",
            "U1002            NaN                NaN                                 NaN   \n",
            "U1003            NaN                NaN                                 NaN   \n",
            "U1004            NaN                NaN                                 2.0   \n",
            "U1005            NaN                NaN                                 2.0   \n",
            "U1006            1.0                NaN                                 NaN   \n",
            "U1007            1.0                NaN                                 0.0   \n",
            "U1008            NaN                NaN                                 NaN   \n",
            "U1009            NaN                NaN                                 NaN   \n",
            "U1010            NaN                NaN                                 NaN   \n",
            "\n",
            "name    Carls Jr  Carnitas Mata  Calle 16 de Septiembre  \\\n",
            "userID                                                    \n",
            "U1001        NaN                                    NaN   \n",
            "U1002        NaN                                    NaN   \n",
            "U1003        NaN                                    NaN   \n",
            "U1004        NaN                                    NaN   \n",
            "U1005        NaN                                    NaN   \n",
            "U1006        NaN                                    NaN   \n",
            "U1007        NaN                                    NaN   \n",
            "U1008        NaN                                    NaN   \n",
            "U1009        NaN                                    NaN   \n",
            "U1010        NaN                                    NaN   \n",
            "\n",
            "name    Carreton de Flautas y Migadas  Cenaduria El RincÃ³n de Tlaquepaque  \\\n",
            "userID                                                                       \n",
            "U1001                             NaN                                  NaN   \n",
            "U1002                             NaN                                  NaN   \n",
            "U1003                             NaN                                  NaN   \n",
            "U1004                             NaN                                  NaN   \n",
            "U1005                             NaN                                  NaN   \n",
            "U1006                             NaN                                  NaN   \n",
            "U1007                             NaN                                  NaN   \n",
            "U1008                             NaN                                  NaN   \n",
            "U1009                             NaN                                  NaN   \n",
            "U1010                             NaN                                  NaN   \n",
            "\n",
            "name    ...  puesto de tacos  rockabilly   shi ro ie  sirloin stockade  \\\n",
            "userID  ...                                                              \n",
            "U1001   ...              1.0          NaN        NaN               NaN   \n",
            "U1002   ...              0.0          NaN        NaN               NaN   \n",
            "U1003   ...              1.0          1.0        NaN               NaN   \n",
            "U1004   ...              NaN          NaN        NaN               NaN   \n",
            "U1005   ...              NaN          NaN        NaN               NaN   \n",
            "U1006   ...              1.0          NaN        2.0               NaN   \n",
            "U1007   ...              NaN          NaN        NaN               NaN   \n",
            "U1008   ...              NaN          NaN        NaN               NaN   \n",
            "U1009   ...              0.0          NaN        NaN               NaN   \n",
            "U1010   ...              NaN          NaN        NaN               NaN   \n",
            "\n",
            "name    tacos abi  tacos de barbacoa enfrente del Tec  tacos de la estacion  \\\n",
            "userID                                                                        \n",
            "U1001         NaN                                 NaN                   NaN   \n",
            "U1002         NaN                                 NaN                   NaN   \n",
            "U1003         NaN                                 NaN                   NaN   \n",
            "U1004         NaN                                 NaN                   NaN   \n",
            "U1005         NaN                                 NaN                   NaN   \n",
            "U1006         NaN                                 NaN                   NaN   \n",
            "U1007         NaN                                 NaN                   NaN   \n",
            "U1008         NaN                                 NaN                   NaN   \n",
            "U1009         NaN                                 NaN                   NaN   \n",
            "U1010         NaN                                 NaN                   NaN   \n",
            "\n",
            "name    tacos los volcanes  tortas hawai  vips  \n",
            "userID                                          \n",
            "U1001                  NaN           NaN   NaN  \n",
            "U1002                  NaN           NaN   NaN  \n",
            "U1003                  NaN           NaN   NaN  \n",
            "U1004                  2.0           NaN   NaN  \n",
            "U1005                  NaN           NaN   NaN  \n",
            "U1006                  NaN           NaN   NaN  \n",
            "U1007                  NaN           NaN   NaN  \n",
            "U1008                  NaN           NaN   NaN  \n",
            "U1009                  NaN           NaN   NaN  \n",
            "U1010                  NaN           NaN   NaN  \n",
            "\n",
            "[10 rows x 129 columns]\n"
          ]
        }
      ]
    },
    {
      "cell_type": "code",
      "source": [
        "list (table.columns)"
      ],
      "metadata": {
        "colab": {
          "base_uri": "https://localhost:8080/"
        },
        "id": "yIpjdXTlaUEL",
        "outputId": "f56ede17-c805-4b43-fde2-f7ecb5ca19e2"
      },
      "execution_count": 48,
      "outputs": [
        {
          "output_type": "execute_result",
          "data": {
            "text/plain": [
              "['Abondance Restaurante Bar',\n",
              " 'Arrachela Grill',\n",
              " 'Cabana Huasteca',\n",
              " 'Cafe Chaires',\n",
              " 'Cafeteria cenidet',\n",
              " 'Cafeteria y Restaurant El Pacifico',\n",
              " 'Carls Jr',\n",
              " 'Carnitas Mata  Calle 16 de Septiembre',\n",
              " 'Carreton de Flautas y Migadas',\n",
              " 'Cenaduria El RincÃ³n de Tlaquepaque',\n",
              " 'Chaires',\n",
              " 'Chilis Cuernavaca',\n",
              " 'Dominos Pizza',\n",
              " 'El Club',\n",
              " 'El Herradero Restaurante and Bar',\n",
              " 'El Mundo de la Pasta',\n",
              " 'El Oceano Dorado',\n",
              " 'El Rincon de San Francisco',\n",
              " 'El Rincón de San Francisco',\n",
              " 'El angel Restaurante',\n",
              " 'El cotorreo',\n",
              " 'Giovannis',\n",
              " 'Gordas de morales',\n",
              " 'Gorditas Doa Gloria',\n",
              " 'Gorditas Dona Tota',\n",
              " 'Hamburguesas La perica',\n",
              " 'Hamburguesas Valle Dorado',\n",
              " 'Hamburguesas saul',\n",
              " 'KFC',\n",
              " 'Kiku Cuernavaca',\n",
              " 'Koye Sushi',\n",
              " 'La Cantina Restaurante',\n",
              " 'La Estrella de Dimas',\n",
              " 'La Fontana Pizza Restaurante and Cafe',\n",
              " 'La Posada del Virrey',\n",
              " 'La Virreina',\n",
              " 'Little Cesarz',\n",
              " 'Log Yin',\n",
              " 'Los Vikingos',\n",
              " 'Luna Cafe',\n",
              " 'Mariscos El Pescador',\n",
              " 'Mariscos Tia Licha',\n",
              " 'McDonalds Centro',\n",
              " 'Mcdonalds Parque Tangamanga',\n",
              " 'Michiko Restaurant Japones',\n",
              " 'Mikasa',\n",
              " 'Paniroles',\n",
              " 'Pizzeria Julios',\n",
              " 'Pollo_Frito_Buenos_Aires',\n",
              " 'Potzocalli',\n",
              " 'Preambulo Wifi Zone Cafe',\n",
              " 'Restaurant Bar Coty y Pablo',\n",
              " 'Restaurant Bar Hacienda los Martinez',\n",
              " 'Restaurant El Muladar de Calzada',\n",
              " 'Restaurant Familiar El Chino',\n",
              " 'Restaurant Las Mananitas',\n",
              " 'Restaurant Oriental Express',\n",
              " 'Restaurant Orizatlan',\n",
              " 'Restaurant Teely',\n",
              " 'Restaurant Wu Zhuo Yi',\n",
              " 'Restaurant and Bar and Clothesline Carlos N Charlies',\n",
              " 'Restaurant de Mariscos de Picon',\n",
              " 'Restaurant la Chalita',\n",
              " 'Restaurant los Compadres',\n",
              " 'Restaurant los Pinos',\n",
              " 'Restaurante 75',\n",
              " 'Restaurante Alhondiga',\n",
              " 'Restaurante Bar El Gallinero',\n",
              " 'Restaurante Bar Fu-hao',\n",
              " 'Restaurante Casa de las Flores',\n",
              " 'Restaurante El Chivero S.A. de C.V.',\n",
              " 'Restaurante El Cielo Potosino',\n",
              " 'Restaurante El Reyecito',\n",
              " 'Restaurante Guerra',\n",
              " 'Restaurante Marisco Sam',\n",
              " 'Restaurante Pueblo Bonito',\n",
              " 'Restaurante Tiberius',\n",
              " 'Restaurante Versalles',\n",
              " 'Restaurante de Mariscos la Langosta',\n",
              " 'Restaurante la Cantina',\n",
              " 'Restaurante la Estrella de Dima',\n",
              " 'Restaurante la Gran Via',\n",
              " 'Restaurante la Parroquia Potosina',\n",
              " 'Restaurante y Pescaderia Tampico',\n",
              " 'Rincon Huasteco',\n",
              " 'Rincon del Bife',\n",
              " 'Sanborns Casa Piedra',\n",
              " 'Sirlone',\n",
              " 'Subway',\n",
              " 'Sushi Itto',\n",
              " 'TACOS CORRECAMINOS',\n",
              " 'TACOS EL GUERO',\n",
              " 'Taqueria EL amigo ',\n",
              " 'Tortas Locas Hipocampo',\n",
              " 'Tortas y hamburguesas el gordo',\n",
              " 'Unicols Pizza',\n",
              " 'VIPS',\n",
              " 'Vips',\n",
              " 'cafe ambar',\n",
              " 'cafe punta del cielo',\n",
              " 'carnitas mata calle Emilio Portes Gil',\n",
              " 'carnitas_mata',\n",
              " 'churchs',\n",
              " 'crudalia',\n",
              " 'dairy queen',\n",
              " 'don burguers',\n",
              " 'el lechon potosino ',\n",
              " 'el pueblito',\n",
              " 'emilianos',\n",
              " 'la Cantina',\n",
              " 'la Cochinita Pibil Restaurante Yucateco',\n",
              " 'la Estrella de Dimas',\n",
              " 'la parroquia',\n",
              " 'la perica hamburguesa',\n",
              " 'little pizza Emilio Portes Gil',\n",
              " 'los Toneles',\n",
              " 'palomo tec',\n",
              " 'pizza clasica',\n",
              " 'puesto de gorditas',\n",
              " 'puesto de tacos',\n",
              " 'rockabilly ',\n",
              " 'shi ro ie',\n",
              " 'sirloin stockade',\n",
              " 'tacos abi',\n",
              " 'tacos de barbacoa enfrente del Tec',\n",
              " 'tacos de la estacion',\n",
              " 'tacos los volcanes',\n",
              " 'tortas hawai',\n",
              " 'vips']"
            ]
          },
          "metadata": {},
          "execution_count": 48
        }
      ]
    },
    {
      "cell_type": "code",
      "source": [
        "#Ejercicio 2\n",
        "# obtener dicha factorización SVD utilizando todas las componentes posibles, es decir, usando todos sus valores singulares. En particular indica la cantidad de valores singulares obtenidos.\n",
        "#Como hay muchos datos vacíos, llenamos con cero.\n",
        "table = table.fillna(0)"
      ],
      "metadata": {
        "id": "p75mX1jlaghM"
      },
      "execution_count": 49,
      "outputs": []
    },
    {
      "cell_type": "code",
      "source": [
        "#Aplicamos la factorización SVD utilizando todas las componentes.\n",
        "X = table.values.T\n",
        "SVD = TruncatedSVD(n_components=129, random_state=0)\n",
        "matrix = SVD.fit_transform(X)"
      ],
      "metadata": {
        "id": "ThFtO_Eoaq2T"
      },
      "execution_count": 50,
      "outputs": []
    },
    {
      "cell_type": "code",
      "source": [
        "#Visualizamos el tamaño de la matriz.\n",
        "X.shape"
      ],
      "metadata": {
        "colab": {
          "base_uri": "https://localhost:8080/"
        },
        "id": "sA4SAEWzawRE",
        "outputId": "c5598cbf-55ac-4e0e-bf94-64eceab9d517"
      },
      "execution_count": 51,
      "outputs": [
        {
          "output_type": "execute_result",
          "data": {
            "text/plain": [
              "(129, 138)"
            ]
          },
          "metadata": {},
          "execution_count": 51
        }
      ]
    },
    {
      "cell_type": "code",
      "source": [
        "#Imprimimos la cantidad de valores singulares obtenidos.\n",
        "print(\"La cantidad de valores singulares obtenidos es\", len(SVD.singular_values_))"
      ],
      "metadata": {
        "colab": {
          "base_uri": "https://localhost:8080/"
        },
        "id": "ghGx5HjLazv7",
        "outputId": "4f80dab1-aee9-410b-f030-1d57c80b8a17"
      },
      "execution_count": 52,
      "outputs": [
        {
          "output_type": "stream",
          "name": "stdout",
          "text": [
            "La cantidad de valores singulares obtenidos es 129\n"
          ]
        }
      ]
    },
    {
      "cell_type": "code",
      "source": [
        "#Ejercicio 3\n",
        "# Usando la métrica de correlación de Pearson, obtener las 10 mejores recomendaciones de este modelo no supervisado con base a la información de alguien que evaluó bien de manera general al “Subway”. Despliega también el valor numérico de la correlación de Pearson de cada una de estas 10 recomendaciones. NOTA: No debe estar incluido “Subway” dentro de las recomendaciones.\n",
        "#Obtenemos la corrrelación de cada restaurante respecto a los demás.\n",
        "corr = np.corrcoef(matrix)\n",
        "restaurantes = table.columns\n",
        "print(corr)"
      ],
      "metadata": {
        "colab": {
          "base_uri": "https://localhost:8080/"
        },
        "id": "n_hlvV0Ta3Y7",
        "outputId": "6d23b26f-7f4c-4def-8597-5772fef0d8c9"
      },
      "execution_count": 53,
      "outputs": [
        {
          "output_type": "stream",
          "name": "stdout",
          "text": [
            "[[ 1.00000000e+00 -1.57664581e-04  1.82682174e-04 ...  4.24005739e-04\n",
            "  -7.39742636e-05  2.99028698e-04]\n",
            " [-1.57664581e-04  1.00000000e+00  2.26151235e-03 ...  5.24897529e-03\n",
            "  -9.15763740e-04  3.70182311e-03]\n",
            " [ 1.82682174e-04  2.26151235e-03  1.00000000e+00 ...  1.75573663e-01\n",
            "   1.06107351e-03 -4.28921378e-03]\n",
            " ...\n",
            " [ 4.24005739e-04  5.24897529e-03  1.75573663e-01 ...  1.00000000e+00\n",
            "   2.46275403e-03 -9.95527490e-03]\n",
            " [-7.39742636e-05 -9.15763740e-04  1.06107351e-03 ...  2.46275403e-03\n",
            "   1.00000000e+00  1.73684944e-03]\n",
            " [ 2.99028698e-04  3.70182311e-03 -4.28921378e-03 ... -9.95527490e-03\n",
            "   1.73684944e-03  1.00000000e+00]]\n"
          ]
        }
      ]
    },
    {
      "cell_type": "code",
      "source": [
        "#Hacemos una lista con los restaurantes.\n",
        "restaurantes_list = list(restaurantes)"
      ],
      "metadata": {
        "id": "EL_yMA2Ya7sL"
      },
      "execution_count": 54,
      "outputs": []
    },
    {
      "cell_type": "code",
      "source": [
        "#Buscamos la correlación de los demás restaurantes con \"Subway\".\n",
        "subway = restaurantes_list.index('Subway')\n",
        "corr_subway = corr[subway]"
      ],
      "metadata": {
        "id": "hy9a85MobSIr"
      },
      "execution_count": 55,
      "outputs": []
    },
    {
      "cell_type": "code",
      "source": [
        "#Imprimimos las correlaciones de los demás restaurantes con Subway.\n",
        "print(corr_subway)"
      ],
      "metadata": {
        "colab": {
          "base_uri": "https://localhost:8080/"
        },
        "id": "2NdZB97RbWjL",
        "outputId": "68942434-ada0-4940-b256-11aab9042baa"
      },
      "execution_count": 56,
      "outputs": [
        {
          "output_type": "stream",
          "name": "stdout",
          "text": [
            "[-2.91095724e-04 -3.60361693e-03  4.17542463e-03  5.49600644e-03\n",
            "  8.22025821e-03  9.26584331e-04 -1.84324856e-04  2.08477911e-02\n",
            "  4.16661248e-04  5.49213204e-03 -9.83321202e-03  2.30697829e-01\n",
            " -7.71002964e-04 -7.78964069e-03  4.28478573e-03 -1.96660815e-03\n",
            "  6.46627016e-03  1.22858323e-02  5.23591750e-03 -3.37285475e-03\n",
            "  4.22033518e-03  1.92759594e-01  3.25932626e-03  1.31225788e-02\n",
            "  1.02856131e-02  1.08386707e-02 -2.32136875e-03  9.93522146e-03\n",
            " -8.13035667e-03  1.78740094e-01  1.27492522e-03  4.01749269e-03\n",
            "  9.93395882e-03  1.06861306e-02  1.08193009e-02  6.49374214e-03\n",
            "  2.57816306e-03  1.10159929e-02  1.62133585e-02  9.40455020e-03\n",
            "  1.04115070e-02  1.39761855e-01  4.95429442e-03  1.01065382e-02\n",
            "  7.45513647e-03  1.62758051e-02  3.65933684e-01 -4.53806898e-03\n",
            "  1.94095851e-03  6.28735982e-03  7.08759527e-03  4.35778543e-03\n",
            "  7.61149284e-03  6.86889327e-03  1.82869479e-01  2.26266242e-01\n",
            "  8.41417946e-03 -1.38744406e-02  7.72973139e-01  2.58304203e-04\n",
            "  6.00160625e-01  1.00855481e-02 -8.87397356e-03  5.37102617e-03\n",
            "  9.70530131e-03  7.08173024e-03  8.06957518e-03 -5.45053917e-03\n",
            "  1.25456353e-02  8.27983430e-03  1.25915854e-03  9.13235634e-03\n",
            " -4.90925954e-03 -1.55909907e-03  2.56719712e-04 -6.13210589e-04\n",
            "  2.33141129e-03 -2.84236088e-03  1.34229000e-02  8.54134908e-03\n",
            " -1.95914298e-03 -5.67817255e-03 -1.88379679e-03 -4.53066053e-03\n",
            "  6.90749795e-03  5.18731471e-01  1.27712441e-01  7.79875544e-03\n",
            "  1.00000000e+00  4.34972686e-03  8.04472608e-03  6.45175638e-03\n",
            "  1.22023121e-03 -4.61635454e-03  6.39825008e-03 -3.57085063e-05\n",
            "  1.83854290e-02  4.21199865e-01  1.79626257e-02  1.24610098e-03\n",
            "  1.08222404e-03  4.99735712e-03 -2.30140973e-03  1.04895738e-02\n",
            "  1.77207012e-02  2.00752244e-03  5.47674807e-03  6.21699772e-03\n",
            "  5.79785841e-03  7.94287249e-03 -3.95650667e-03  8.62442429e-04\n",
            "  7.08373006e-03  1.23364795e-02  2.16018684e-04  5.50503399e-03\n",
            "  8.88686634e-03 -2.03244541e-03 -3.76225432e-03 -1.21854452e-03\n",
            "  8.12542032e-03  1.30362979e-02  7.65454017e-03  3.31990513e-03\n",
            "  6.15048940e-03  8.03179308e-03  9.69117004e-03 -1.69077232e-03\n",
            "  6.83466681e-03]\n"
          ]
        }
      ]
    },
    {
      "cell_type": "code",
      "source": [
        "#Generamos las 10 mejores recomendaciones para alguien a quien le gusta Subway\n",
        "recomendaciones = list(restaurantes[(corr_subway > 0.17) & (corr_subway < 0.99)])\n",
        "recomendaciones"
      ],
      "metadata": {
        "colab": {
          "base_uri": "https://localhost:8080/"
        },
        "id": "-hVDR0Bwbauj",
        "outputId": "34118d82-8005-4fb3-9ea2-124d74ce27d8"
      },
      "execution_count": 57,
      "outputs": [
        {
          "output_type": "execute_result",
          "data": {
            "text/plain": [
              "['Chilis Cuernavaca',\n",
              " 'Giovannis',\n",
              " 'Kiku Cuernavaca',\n",
              " 'Paniroles',\n",
              " 'Restaurant Familiar El Chino',\n",
              " 'Restaurant Las Mananitas',\n",
              " 'Restaurant Teely',\n",
              " 'Restaurant and Bar and Clothesline Carlos N Charlies',\n",
              " 'Rincon del Bife',\n",
              " 'Vips']"
            ]
          },
          "metadata": {},
          "execution_count": 57
        }
      ]
    },
    {
      "cell_type": "code",
      "source": [
        "#Imprimimos las correlaciones de los ratings de los uusarios de cada restaurante respecto a Subway\n",
        "for r in recomendaciones:\n",
        "  print(\"El restaurante recomendado es -----\",r)\n",
        "  ind = restaurantes_list.index(r)\n",
        "  c = corr_subway[ind]\n",
        "  print(\"Su correlación es de\", c)"
      ],
      "metadata": {
        "colab": {
          "base_uri": "https://localhost:8080/"
        },
        "id": "6vonMrILbmqj",
        "outputId": "57cd3562-7c9c-4508-e993-d5c89fdfc338"
      },
      "execution_count": 58,
      "outputs": [
        {
          "output_type": "stream",
          "name": "stdout",
          "text": [
            "El restaurante recomendado es ----- Chilis Cuernavaca\n",
            "Su correlación es de 0.23069782868565863\n",
            "El restaurante recomendado es ----- Giovannis\n",
            "Su correlación es de 0.1927595939045879\n",
            "El restaurante recomendado es ----- Kiku Cuernavaca\n",
            "Su correlación es de 0.1787400940303357\n",
            "El restaurante recomendado es ----- Paniroles\n",
            "Su correlación es de 0.3659336842453441\n",
            "El restaurante recomendado es ----- Restaurant Familiar El Chino\n",
            "Su correlación es de 0.18286947897963063\n",
            "El restaurante recomendado es ----- Restaurant Las Mananitas\n",
            "Su correlación es de 0.22626624223425154\n",
            "El restaurante recomendado es ----- Restaurant Teely\n",
            "Su correlación es de 0.7729731386918417\n",
            "El restaurante recomendado es ----- Restaurant and Bar and Clothesline Carlos N Charlies\n",
            "Su correlación es de 0.6001606252966772\n",
            "El restaurante recomendado es ----- Rincon del Bife\n",
            "Su correlación es de 0.518731470656582\n",
            "El restaurante recomendado es ----- Vips\n",
            "Su correlación es de 0.4211998645650437\n"
          ]
        }
      ]
    },
    {
      "cell_type": "code",
      "source": [
        "# Ejercicio 4\n",
        "# Disminuye ahora la dimensión de la factorización con un número de componentes tal, que las recomendaciones con esta menor cantidad de información coincidan en al menos 9 de las 10 recomendaciones dadas con todos los valores singulares. Indica la cantidad de valores singulares encontrado y la cantidad de información que contienen.\n",
        "# Replicamos el ejercicio anterior pero cambiamos el número de componentes de forma tal que solamente 9 de las 10 recomendaciones anteriores se parezcan\n",
        "X = table.values.T\n",
        "SVD = TruncatedSVD(n_components=50, random_state=0)\n",
        "matrix = SVD.fit_transform(X)\n",
        "\n",
        "print(\"La cantidad de valores singulares obtenidos es\", len(SVD.singular_values_))\n",
        "\n",
        "corr = np.corrcoef(matrix)\n",
        "restaurantes = table.columns\n",
        "\n",
        "subway = restaurantes_list.index('Subway')\n",
        "corr_subway = corr[subway]\n",
        "\n",
        "recomendaciones = list(restaurantes[(corr_subway > 0.18) & (corr_subway < 0.99)])\n",
        "recomendaciones\n",
        "\n",
        "print(recomendaciones)"
      ],
      "metadata": {
        "colab": {
          "base_uri": "https://localhost:8080/"
        },
        "id": "oQWOlAuMbsSU",
        "outputId": "54c47ba5-ebde-47b2-ac6e-f927ee77a43f"
      },
      "execution_count": 59,
      "outputs": [
        {
          "output_type": "stream",
          "name": "stdout",
          "text": [
            "La cantidad de valores singulares obtenidos es 50\n",
            "['Chilis Cuernavaca', 'Giovannis', 'Kiku Cuernavaca', 'Mariscos Tia Licha', 'Paniroles', 'Restaurant Las Mananitas', 'Restaurant Teely', 'Restaurant and Bar and Clothesline Carlos N Charlies', 'Rincon del Bife', 'Vips']\n"
          ]
        }
      ]
    },
    {
      "cell_type": "code",
      "source": [
        "for r in recomendaciones:\n",
        "  print(\"El restaurante recomendado es -----\",r)\n",
        "  ind = restaurantes_list.index(r)\n",
        "  c = corr_subway[ind]\n",
        "\n",
        "  print(\"Su correlación es de\", c)"
      ],
      "metadata": {
        "colab": {
          "base_uri": "https://localhost:8080/"
        },
        "id": "1_G8qmfObwr7",
        "outputId": "858c27bf-46ea-4d73-b313-c46a781d73ea"
      },
      "execution_count": 60,
      "outputs": [
        {
          "output_type": "stream",
          "name": "stdout",
          "text": [
            "El restaurante recomendado es ----- Chilis Cuernavaca\n",
            "Su correlación es de 0.2315678504219242\n",
            "El restaurante recomendado es ----- Giovannis\n",
            "Su correlación es de 0.28961454331396647\n",
            "El restaurante recomendado es ----- Kiku Cuernavaca\n",
            "Su correlación es de 0.18541720475273163\n",
            "El restaurante recomendado es ----- Mariscos Tia Licha\n",
            "Su correlación es de 0.1842157212378048\n",
            "El restaurante recomendado es ----- Paniroles\n",
            "Su correlación es de 0.547592046170579\n",
            "El restaurante recomendado es ----- Restaurant Las Mananitas\n",
            "Su correlación es de 0.2340510026848461\n",
            "El restaurante recomendado es ----- Restaurant Teely\n",
            "Su correlación es de 0.9578343893352014\n",
            "El restaurante recomendado es ----- Restaurant and Bar and Clothesline Carlos N Charlies\n",
            "Su correlación es de 0.8762280114848991\n",
            "El restaurante recomendado es ----- Rincon del Bife\n",
            "Su correlación es de 0.6985976698275884\n",
            "El restaurante recomendado es ----- Vips\n",
            "Su correlación es de 0.4520467519722202\n"
          ]
        }
      ]
    },
    {
      "cell_type": "markdown",
      "source": [
        "#Conclusiones:\n",
        "Para este ejercicio donde estamos evaluando \"service_rating\" se tiene un comportamiento distinto que al evaluar \"rating\" o \"food_rating\".\n",
        "\n",
        "Como Científicos de Datos necesitamos primero enfocarnos en que respuesta es la que intentamos resolver con nuestra investigación/modelo, para el ejemplo anterior para cada tipo de variable (columna) hay un tipo de predicción distinta entre sí.\n",
        "\n",
        "También sería importante evaluar el error de acuerdo a nuestro sistema de predicción, aunque una falla de principiante es enfocarse en crear un sistema de recomendación con el \"menor error de predicción posible\", esto no es lo más adecuado, hay que entender la casuística del negocio y tratar de adaptar nuestro sistema de predicción a la realidad. ¡Este es el verdadero trabajo de un Data Scientist!\n",
        "\n",
        "Bibliografia: \n",
        "\n",
        "Rubiales A. (2020). Singular Value Decomposition (SVD) con Python. Creando un sistema de recomendacion. Recuperado de: https://rubialesalberto.medium.com/singular-value-decomposition-svd-con-python-creando-un-sistema-de-recomendacion-640de1b8b002"
      ],
      "metadata": {
        "id": "2GPZVc9qA52_"
      }
    },
    {
      "cell_type": "markdown",
      "source": [
        "# Ejercicio-8.  \n",
        "\n",
        "Incluye tus conclusiones finales. En particular indica la coincidencia o no de estos tres modelos. "
      ],
      "metadata": {
        "id": "LSnIDcQ7Tmcn"
      }
    },
    {
      "cell_type": "markdown",
      "source": [
        "Sistema de Recomendación.\n",
        "\n",
        "Un sistema de recomendación es un sistema inteligente que predice la calificación y las preferencias de los usuarios sobre los productos. La aplicación principal de los sistemas de recomendación es encontrar una relación entre el usuario y los productos para maximizar la interacción entre el usuario y el producto. La principal aplicación de los sistemas de recomendación es sugerir videos o música relacionados para generar una lista de reproducción para el usuario cuando interactúa con un elemento relacionado.\n",
        "\n",
        "Singular Value Decomposition (SVD).\n",
        "\n",
        "La descomposición de valores singulares (SVD), un método clásico del álgebra lineal, se está volviendo popular en el campo de la ciencia de datos y el aprendizaje automático. Esta popularidad se debe a su aplicación en el desarrollo de sistemas de recomendación. Hay muchas aplicaciones en línea centradas en el usuario, como reproductores de video, reproductores de música, aplicaciones de comercio electrónico, etc., donde se recomienda a los usuarios con más elementos para interactuar.\n",
        "\n",
        "Encontrar y recomendar muchos artículos adecuados que sean del agrado y seleccionados por los usuarios siempre es un desafío. Hay muchas técnicas utilizadas para esta tarea y SVD es una de esas técnicas. Este artículo presenta una breve introducción a los sistemas de recomendación, una introducción a la descomposición de valores singulares y su implementación en la recomendación de películas.\n",
        "\n",
        "En el caso de los ejercicios 1 a 4, se creó una tabla que como renglones tenga a los usuarios, como columnas los nombres del restaurante, y como valores la calificación. \n",
        "\n",
        "Referencias\n",
        "\n",
        "KUMAR, VAIBHAV (2020). Singular Value Decomposition (SVD) & Its Application In Recommender System. Recuperado de: https://analyticsindiamag.com/singular-value-decomposition-svd-application-recommender-system/\n",
        "\n",
        "\n",
        "\n",
        "\n"
      ],
      "metadata": {
        "id": "3HcYFTSLMJYc"
      }
    },
    {
      "cell_type": "markdown",
      "source": [
        "Consideramos que las diferencias entre cada modelo son adecuadas a lo que se estaba buscando en cada ejercicio. \n",
        "\n",
        "A diferencia del primer ejercicio donde se utiliza la correlacion de Pearson para obtener las 10 mejores recomendaciones esta se basa en que Subway fue evaluado de manera general y con SVD establece una similaridad entre vectores relacionados entre si. \n",
        "\n",
        "En contraste a los dos ultimos ejercicio los valores analizados son 'food rating'  y 'service rating' en lugar de evaluacion general ' rating' lo cual nos lanza diferentes restaurantes evaluados en mejor rating de comida o mejor servicio, y no en rating general o similar a subway que fue lo mas general analizado. \n",
        "\n",
        "Definitivamente podemos ver que las recomendaciones basadas en rating general cambian al momento de analizar variables como mejor servicio o mejor rating.\n",
        "\n",
        "Podemos definir que el mejor restaurante en rating general es 'El Rinco del Bife' con un coef de correlacion Pearson e 0.93), seguido de 'Restaurante de Teely' con 0.85 y tercer lugar 'Restaurante and Bar and Clothesline Carlos N Charlie con 0.78.\n",
        "\n",
        "Se puede concluir que el mejor restaurante con mejor rating general, rating de comida y servicio es el ' Restaurante de Teely'\n"
      ],
      "metadata": {
        "id": "uVLb0pe1dNuy"
      }
    },
    {
      "cell_type": "markdown",
      "source": [
        "![image.png](data:image/png;base64,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)"
      ],
      "metadata": {
        "id": "hk50qktZq8Lo"
      }
    },
    {
      "cell_type": "markdown",
      "source": [
        "# **Fin de la actividad**"
      ],
      "metadata": {
        "id": "Edy3qGPdsqe3"
      }
    }
  ]
}