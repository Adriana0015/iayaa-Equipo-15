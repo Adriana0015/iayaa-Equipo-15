{
  "cells": [
    {
      "cell_type": "markdown",
      "metadata": {
        "id": "view-in-github",
        "colab_type": "text"
      },
      "source": [
        "<a href=\"https://colab.research.google.com/github/Tecnologico-de-Monterrey-MNA/iayaa-Equipo-15/blob/main/Redneuronal_Equipo15.ipynb\" target=\"_parent\"><img src=\"https://colab.research.google.com/assets/colab-badge.svg\" alt=\"Open In Colab\"/></a>"
      ]
    },
    {
      "cell_type": "markdown",
      "metadata": {
        "id": "4ifafYU3J5D8"
      },
      "source": [
        "#**Maestría en Inteligencia Artificial Aplicada**\n",
        "##**Curso: Inteligencia Artificial y Aprendizaje Automático**\n",
        "###Tecnológico de Monterrey\n",
        "###Prof Luis Eduardo Falcón Morales\n",
        "\n",
        "## **Actividad de la Semana 7**\n",
        "###**Actividad 8. Práctica: red neuronal artificial.**"
      ]
    },
    {
      "cell_type": "markdown",
      "metadata": {
        "id": "-4YGa-irJ5HF"
      },
      "source": [
        "**Nombres y matrículas de los integrantes del equipo:**\n",
        "* Adriana Fernanda Jimenez Avalos - A01087695\n",
        "* Vladimir Salazar Altamirano - A01793118\n",
        "* Pablo Alejandro Colunga Vázquez - A01793671  \n",
        "* Julián Valera Juárez - A01793875\n",
        "* Luis Daniel Rivera Salinas - A01374997\n"
      ]
    },
    {
      "cell_type": "markdown",
      "metadata": {
        "id": "N5MPG99eKC-f"
      },
      "source": [
        "En cada sección deberás incluir todas las líneas de código necesarias para responder a cada uno de los ejercicios."
      ]
    },
    {
      "cell_type": "markdown",
      "metadata": {
        "id": "djSKt15luffv"
      },
      "source": [
        "El archivo se llama dataset_Facebook.csv y contiene 500 registros y 19 columnas.\n",
        "El objetivo es determinar el impacto generado por un anuncio de una marca de cosméticos en Facebook, en el cual se intentaron varias variantes en la manera de mostrar el anuncio. Siguiendo el artículo, deberás considerar como predictores o variables de entrada aquellas que se indican en la Tabla 3. Por otro lado, en la Tabla 2, los autores consideran varios casos para la variable de salida, intentando determinar cuál puede ser el mejor caso para medir el éxito de la campaña. Para este ejercicio deberás considerar únicamente los siguientes tres casos como variable de salida: “Lifetime post consumers”,“Lifetime People who have liked a Page and engaged with a post” y “Likes”. \n"
      ]
    },
    {
      "cell_type": "code",
      "execution_count": 1,
      "metadata": {
        "id": "YFswv-DX_3aV"
      },
      "outputs": [],
      "source": [
        "import numpy as np\n",
        "import pandas as pd\n",
        "import seaborn as sns \n",
        "import matplotlib.pyplot as plt\n",
        "from pandas.core.arrays import categorical\n",
        "from sklearn.pipeline import Pipeline\n",
        "from sklearn.preprocessing import MinMaxScaler, OneHotEncoder, StandardScaler\n",
        "\n",
        "from sklearn.metrics import confusion_matrix\n",
        "from sklearn.metrics import recall_score\n",
        "from sklearn.linear_model import LogisticRegression         \n",
        "\n",
        "from sklearn.metrics import classification_report, make_scorer\n",
        "from imblearn.metrics import geometric_mean_score, classification_report_imbalanced\n",
        "from sklearn.model_selection import  cross_validate,  RepeatedStratifiedKFold\n",
        "from sklearn.pipeline import Pipeline\n",
        "from sklearn.preprocessing import FunctionTransformer\n",
        "from sklearn.impute import SimpleImputer\n",
        "from sklearn.compose import ColumnTransformer\n",
        "from sklearn.model_selection import GridSearchCV\n",
        "from sklearn.linear_model import LogisticRegression\n",
        "from sklearn.tree import DecisionTreeClassifier\n",
        "from sklearn.ensemble import RandomForestClassifier\n",
        "import requests, zipfile, io\n",
        "from sklearn.model_selection import train_test_split\n",
        "from sklearn.model_selection import learning_curve, validation_curve\n",
        "from sklearn import svm, datasets\n",
        "from sklearn.model_selection import GridSearchCV\n",
        "from sklearn.neural_network import MLPRegressor\n",
        "from sklearn.datasets import make_regression\n",
        "from sklearn.metrics import mean_squared_error, mean_absolute_percentage_error\n",
        "\n",
        "from sklearn.model_selection import train_test_split\n",
        "from sklearn.model_selection import  cross_validate,  RepeatedStratifiedKFold, RepeatedKFold\n",
        "import matplotlib.pyplot as plt"
      ]
    },
    {
      "cell_type": "code",
      "execution_count": 2,
      "metadata": {
        "id": "ME9RzttP9Lad"
      },
      "outputs": [],
      "source": [
        "from sklearn.model_selection import train_test_split\n",
        "from sklearn.neural_network import MLPRegressor\n",
        "from sklearn.datasets import make_regression\n",
        "from sklearn.metrics import mean_squared_error, mean_absolute_percentage_error\n",
        "from sklearn.impute import SimpleImputer\n",
        "from sklearn.dummy import DummyRegressor\n",
        "from sklearn.pipeline import Pipeline\n",
        "from sklearn.compose import ColumnTransformer\n",
        "from sklearn.preprocessing import FunctionTransformer\n",
        "from sklearn.preprocessing import MinMaxScaler, OneHotEncoder, StandardScaler\n",
        "from sklearn.metrics import mean_absolute_error\n",
        "from sklearn.preprocessing import QuantileTransformer\n",
        "\n",
        "import pandas as pd\n",
        "import numpy as np\n",
        "import tensorflow as tf\n",
        "import matplotlib.pyplot as plt"
      ]
    },
    {
      "cell_type": "code",
      "execution_count": 3,
      "metadata": {
        "colab": {
          "base_uri": "https://localhost:8080/",
          "height": 502
        },
        "id": "9FvuyeGv_3cy",
        "outputId": "279d1925-f270-4d89-e137-afc174f88fa7"
      },
      "outputs": [
        {
          "output_type": "execute_result",
          "data": {
            "text/plain": [
              "     Page total likes    Type  Category  Post Month  Post Weekday  Post Hour  \\\n",
              "0              139441   Photo         2          12             4          3   \n",
              "1              139441  Status         2          12             3         10   \n",
              "2              139441   Photo         3          12             3          3   \n",
              "3              139441   Photo         2          12             2         10   \n",
              "4              139441   Photo         2          12             2          3   \n",
              "..                ...     ...       ...         ...           ...        ...   \n",
              "495             85093   Photo         3           1             7          2   \n",
              "496             81370   Photo         2           1             5          8   \n",
              "497             81370   Photo         1           1             5          2   \n",
              "498             81370   Photo         3           1             4         11   \n",
              "499             81370   Photo         2           1             4          4   \n",
              "\n",
              "     Paid  Lifetime Post Total Reach  Lifetime Post Total Impressions  \\\n",
              "0     0.0                       2752                             5091   \n",
              "1     0.0                      10460                            19057   \n",
              "2     0.0                       2413                             4373   \n",
              "3     1.0                      50128                            87991   \n",
              "4     0.0                       7244                            13594   \n",
              "..    ...                        ...                              ...   \n",
              "495   0.0                       4684                             7536   \n",
              "496   0.0                       3480                             6229   \n",
              "497   0.0                       3778                             7216   \n",
              "498   0.0                       4156                             7564   \n",
              "499   NaN                       4188                             7292   \n",
              "\n",
              "     Lifetime Engaged Users  Lifetime Post Consumers  \\\n",
              "0                       178                      109   \n",
              "1                      1457                     1361   \n",
              "2                       177                      113   \n",
              "3                      2211                      790   \n",
              "4                       671                      410   \n",
              "..                      ...                      ...   \n",
              "495                     733                      708   \n",
              "496                     537                      508   \n",
              "497                     625                      572   \n",
              "498                     626                      574   \n",
              "499                     564                      524   \n",
              "\n",
              "     Lifetime Post Consumptions  \\\n",
              "0                           159   \n",
              "1                          1674   \n",
              "2                           154   \n",
              "3                          1119   \n",
              "4                           580   \n",
              "..                          ...   \n",
              "495                         985   \n",
              "496                         687   \n",
              "497                         795   \n",
              "498                         832   \n",
              "499                         743   \n",
              "\n",
              "     Lifetime Post Impressions by people who have liked your Page  \\\n",
              "0                                                 3078              \n",
              "1                                                11710              \n",
              "2                                                 2812              \n",
              "3                                                61027              \n",
              "4                                                 6228              \n",
              "..                                                 ...              \n",
              "495                                               4750              \n",
              "496                                               3961              \n",
              "497                                               4742              \n",
              "498                                               4534              \n",
              "499                                               3861              \n",
              "\n",
              "     Lifetime Post reach by people who like your Page  \\\n",
              "0                                                1640   \n",
              "1                                                6112   \n",
              "2                                                1503   \n",
              "3                                               32048   \n",
              "4                                                3200   \n",
              "..                                                ...   \n",
              "495                                              2876   \n",
              "496                                              2104   \n",
              "497                                              2388   \n",
              "498                                              2452   \n",
              "499                                              2200   \n",
              "\n",
              "     Lifetime People who have liked your Page and engaged with your post  \\\n",
              "0                                                  119                     \n",
              "1                                                 1108                     \n",
              "2                                                  132                     \n",
              "3                                                 1386                     \n",
              "4                                                  396                     \n",
              "..                                                 ...                     \n",
              "495                                                392                     \n",
              "496                                                301                     \n",
              "497                                                363                     \n",
              "498                                                370                     \n",
              "499                                                316                     \n",
              "\n",
              "     comment    like  share  Total Interactions  \n",
              "0          4    79.0   17.0                 100  \n",
              "1          5   130.0   29.0                 164  \n",
              "2          0    66.0   14.0                  80  \n",
              "3         58  1572.0  147.0                1777  \n",
              "4         19   325.0   49.0                 393  \n",
              "..       ...     ...    ...                 ...  \n",
              "495        5    53.0   26.0                  84  \n",
              "496        0    53.0   22.0                  75  \n",
              "497        4    93.0   18.0                 115  \n",
              "498        7    91.0   38.0                 136  \n",
              "499        0    91.0   28.0                 119  \n",
              "\n",
              "[500 rows x 19 columns]"
            ],
            "text/html": [
              "\n",
              "  <div id=\"df-3daeb443-ece7-4686-b973-a209deba5674\">\n",
              "    <div class=\"colab-df-container\">\n",
              "      <div>\n",
              "<style scoped>\n",
              "    .dataframe tbody tr th:only-of-type {\n",
              "        vertical-align: middle;\n",
              "    }\n",
              "\n",
              "    .dataframe tbody tr th {\n",
              "        vertical-align: top;\n",
              "    }\n",
              "\n",
              "    .dataframe thead th {\n",
              "        text-align: right;\n",
              "    }\n",
              "</style>\n",
              "<table border=\"1\" class=\"dataframe\">\n",
              "  <thead>\n",
              "    <tr style=\"text-align: right;\">\n",
              "      <th></th>\n",
              "      <th>Page total likes</th>\n",
              "      <th>Type</th>\n",
              "      <th>Category</th>\n",
              "      <th>Post Month</th>\n",
              "      <th>Post Weekday</th>\n",
              "      <th>Post Hour</th>\n",
              "      <th>Paid</th>\n",
              "      <th>Lifetime Post Total Reach</th>\n",
              "      <th>Lifetime Post Total Impressions</th>\n",
              "      <th>Lifetime Engaged Users</th>\n",
              "      <th>Lifetime Post Consumers</th>\n",
              "      <th>Lifetime Post Consumptions</th>\n",
              "      <th>Lifetime Post Impressions by people who have liked your Page</th>\n",
              "      <th>Lifetime Post reach by people who like your Page</th>\n",
              "      <th>Lifetime People who have liked your Page and engaged with your post</th>\n",
              "      <th>comment</th>\n",
              "      <th>like</th>\n",
              "      <th>share</th>\n",
              "      <th>Total Interactions</th>\n",
              "    </tr>\n",
              "  </thead>\n",
              "  <tbody>\n",
              "    <tr>\n",
              "      <th>0</th>\n",
              "      <td>139441</td>\n",
              "      <td>Photo</td>\n",
              "      <td>2</td>\n",
              "      <td>12</td>\n",
              "      <td>4</td>\n",
              "      <td>3</td>\n",
              "      <td>0.0</td>\n",
              "      <td>2752</td>\n",
              "      <td>5091</td>\n",
              "      <td>178</td>\n",
              "      <td>109</td>\n",
              "      <td>159</td>\n",
              "      <td>3078</td>\n",
              "      <td>1640</td>\n",
              "      <td>119</td>\n",
              "      <td>4</td>\n",
              "      <td>79.0</td>\n",
              "      <td>17.0</td>\n",
              "      <td>100</td>\n",
              "    </tr>\n",
              "    <tr>\n",
              "      <th>1</th>\n",
              "      <td>139441</td>\n",
              "      <td>Status</td>\n",
              "      <td>2</td>\n",
              "      <td>12</td>\n",
              "      <td>3</td>\n",
              "      <td>10</td>\n",
              "      <td>0.0</td>\n",
              "      <td>10460</td>\n",
              "      <td>19057</td>\n",
              "      <td>1457</td>\n",
              "      <td>1361</td>\n",
              "      <td>1674</td>\n",
              "      <td>11710</td>\n",
              "      <td>6112</td>\n",
              "      <td>1108</td>\n",
              "      <td>5</td>\n",
              "      <td>130.0</td>\n",
              "      <td>29.0</td>\n",
              "      <td>164</td>\n",
              "    </tr>\n",
              "    <tr>\n",
              "      <th>2</th>\n",
              "      <td>139441</td>\n",
              "      <td>Photo</td>\n",
              "      <td>3</td>\n",
              "      <td>12</td>\n",
              "      <td>3</td>\n",
              "      <td>3</td>\n",
              "      <td>0.0</td>\n",
              "      <td>2413</td>\n",
              "      <td>4373</td>\n",
              "      <td>177</td>\n",
              "      <td>113</td>\n",
              "      <td>154</td>\n",
              "      <td>2812</td>\n",
              "      <td>1503</td>\n",
              "      <td>132</td>\n",
              "      <td>0</td>\n",
              "      <td>66.0</td>\n",
              "      <td>14.0</td>\n",
              "      <td>80</td>\n",
              "    </tr>\n",
              "    <tr>\n",
              "      <th>3</th>\n",
              "      <td>139441</td>\n",
              "      <td>Photo</td>\n",
              "      <td>2</td>\n",
              "      <td>12</td>\n",
              "      <td>2</td>\n",
              "      <td>10</td>\n",
              "      <td>1.0</td>\n",
              "      <td>50128</td>\n",
              "      <td>87991</td>\n",
              "      <td>2211</td>\n",
              "      <td>790</td>\n",
              "      <td>1119</td>\n",
              "      <td>61027</td>\n",
              "      <td>32048</td>\n",
              "      <td>1386</td>\n",
              "      <td>58</td>\n",
              "      <td>1572.0</td>\n",
              "      <td>147.0</td>\n",
              "      <td>1777</td>\n",
              "    </tr>\n",
              "    <tr>\n",
              "      <th>4</th>\n",
              "      <td>139441</td>\n",
              "      <td>Photo</td>\n",
              "      <td>2</td>\n",
              "      <td>12</td>\n",
              "      <td>2</td>\n",
              "      <td>3</td>\n",
              "      <td>0.0</td>\n",
              "      <td>7244</td>\n",
              "      <td>13594</td>\n",
              "      <td>671</td>\n",
              "      <td>410</td>\n",
              "      <td>580</td>\n",
              "      <td>6228</td>\n",
              "      <td>3200</td>\n",
              "      <td>396</td>\n",
              "      <td>19</td>\n",
              "      <td>325.0</td>\n",
              "      <td>49.0</td>\n",
              "      <td>393</td>\n",
              "    </tr>\n",
              "    <tr>\n",
              "      <th>...</th>\n",
              "      <td>...</td>\n",
              "      <td>...</td>\n",
              "      <td>...</td>\n",
              "      <td>...</td>\n",
              "      <td>...</td>\n",
              "      <td>...</td>\n",
              "      <td>...</td>\n",
              "      <td>...</td>\n",
              "      <td>...</td>\n",
              "      <td>...</td>\n",
              "      <td>...</td>\n",
              "      <td>...</td>\n",
              "      <td>...</td>\n",
              "      <td>...</td>\n",
              "      <td>...</td>\n",
              "      <td>...</td>\n",
              "      <td>...</td>\n",
              "      <td>...</td>\n",
              "      <td>...</td>\n",
              "    </tr>\n",
              "    <tr>\n",
              "      <th>495</th>\n",
              "      <td>85093</td>\n",
              "      <td>Photo</td>\n",
              "      <td>3</td>\n",
              "      <td>1</td>\n",
              "      <td>7</td>\n",
              "      <td>2</td>\n",
              "      <td>0.0</td>\n",
              "      <td>4684</td>\n",
              "      <td>7536</td>\n",
              "      <td>733</td>\n",
              "      <td>708</td>\n",
              "      <td>985</td>\n",
              "      <td>4750</td>\n",
              "      <td>2876</td>\n",
              "      <td>392</td>\n",
              "      <td>5</td>\n",
              "      <td>53.0</td>\n",
              "      <td>26.0</td>\n",
              "      <td>84</td>\n",
              "    </tr>\n",
              "    <tr>\n",
              "      <th>496</th>\n",
              "      <td>81370</td>\n",
              "      <td>Photo</td>\n",
              "      <td>2</td>\n",
              "      <td>1</td>\n",
              "      <td>5</td>\n",
              "      <td>8</td>\n",
              "      <td>0.0</td>\n",
              "      <td>3480</td>\n",
              "      <td>6229</td>\n",
              "      <td>537</td>\n",
              "      <td>508</td>\n",
              "      <td>687</td>\n",
              "      <td>3961</td>\n",
              "      <td>2104</td>\n",
              "      <td>301</td>\n",
              "      <td>0</td>\n",
              "      <td>53.0</td>\n",
              "      <td>22.0</td>\n",
              "      <td>75</td>\n",
              "    </tr>\n",
              "    <tr>\n",
              "      <th>497</th>\n",
              "      <td>81370</td>\n",
              "      <td>Photo</td>\n",
              "      <td>1</td>\n",
              "      <td>1</td>\n",
              "      <td>5</td>\n",
              "      <td>2</td>\n",
              "      <td>0.0</td>\n",
              "      <td>3778</td>\n",
              "      <td>7216</td>\n",
              "      <td>625</td>\n",
              "      <td>572</td>\n",
              "      <td>795</td>\n",
              "      <td>4742</td>\n",
              "      <td>2388</td>\n",
              "      <td>363</td>\n",
              "      <td>4</td>\n",
              "      <td>93.0</td>\n",
              "      <td>18.0</td>\n",
              "      <td>115</td>\n",
              "    </tr>\n",
              "    <tr>\n",
              "      <th>498</th>\n",
              "      <td>81370</td>\n",
              "      <td>Photo</td>\n",
              "      <td>3</td>\n",
              "      <td>1</td>\n",
              "      <td>4</td>\n",
              "      <td>11</td>\n",
              "      <td>0.0</td>\n",
              "      <td>4156</td>\n",
              "      <td>7564</td>\n",
              "      <td>626</td>\n",
              "      <td>574</td>\n",
              "      <td>832</td>\n",
              "      <td>4534</td>\n",
              "      <td>2452</td>\n",
              "      <td>370</td>\n",
              "      <td>7</td>\n",
              "      <td>91.0</td>\n",
              "      <td>38.0</td>\n",
              "      <td>136</td>\n",
              "    </tr>\n",
              "    <tr>\n",
              "      <th>499</th>\n",
              "      <td>81370</td>\n",
              "      <td>Photo</td>\n",
              "      <td>2</td>\n",
              "      <td>1</td>\n",
              "      <td>4</td>\n",
              "      <td>4</td>\n",
              "      <td>NaN</td>\n",
              "      <td>4188</td>\n",
              "      <td>7292</td>\n",
              "      <td>564</td>\n",
              "      <td>524</td>\n",
              "      <td>743</td>\n",
              "      <td>3861</td>\n",
              "      <td>2200</td>\n",
              "      <td>316</td>\n",
              "      <td>0</td>\n",
              "      <td>91.0</td>\n",
              "      <td>28.0</td>\n",
              "      <td>119</td>\n",
              "    </tr>\n",
              "  </tbody>\n",
              "</table>\n",
              "<p>500 rows × 19 columns</p>\n",
              "</div>\n",
              "      <button class=\"colab-df-convert\" onclick=\"convertToInteractive('df-3daeb443-ece7-4686-b973-a209deba5674')\"\n",
              "              title=\"Convert this dataframe to an interactive table.\"\n",
              "              style=\"display:none;\">\n",
              "        \n",
              "  <svg xmlns=\"http://www.w3.org/2000/svg\" height=\"24px\"viewBox=\"0 0 24 24\"\n",
              "       width=\"24px\">\n",
              "    <path d=\"M0 0h24v24H0V0z\" fill=\"none\"/>\n",
              "    <path d=\"M18.56 5.44l.94 2.06.94-2.06 2.06-.94-2.06-.94-.94-2.06-.94 2.06-2.06.94zm-11 1L8.5 8.5l.94-2.06 2.06-.94-2.06-.94L8.5 2.5l-.94 2.06-2.06.94zm10 10l.94 2.06.94-2.06 2.06-.94-2.06-.94-.94-2.06-.94 2.06-2.06.94z\"/><path d=\"M17.41 7.96l-1.37-1.37c-.4-.4-.92-.59-1.43-.59-.52 0-1.04.2-1.43.59L10.3 9.45l-7.72 7.72c-.78.78-.78 2.05 0 2.83L4 21.41c.39.39.9.59 1.41.59.51 0 1.02-.2 1.41-.59l7.78-7.78 2.81-2.81c.8-.78.8-2.07 0-2.86zM5.41 20L4 18.59l7.72-7.72 1.47 1.35L5.41 20z\"/>\n",
              "  </svg>\n",
              "      </button>\n",
              "      \n",
              "  <style>\n",
              "    .colab-df-container {\n",
              "      display:flex;\n",
              "      flex-wrap:wrap;\n",
              "      gap: 12px;\n",
              "    }\n",
              "\n",
              "    .colab-df-convert {\n",
              "      background-color: #E8F0FE;\n",
              "      border: none;\n",
              "      border-radius: 50%;\n",
              "      cursor: pointer;\n",
              "      display: none;\n",
              "      fill: #1967D2;\n",
              "      height: 32px;\n",
              "      padding: 0 0 0 0;\n",
              "      width: 32px;\n",
              "    }\n",
              "\n",
              "    .colab-df-convert:hover {\n",
              "      background-color: #E2EBFA;\n",
              "      box-shadow: 0px 1px 2px rgba(60, 64, 67, 0.3), 0px 1px 3px 1px rgba(60, 64, 67, 0.15);\n",
              "      fill: #174EA6;\n",
              "    }\n",
              "\n",
              "    [theme=dark] .colab-df-convert {\n",
              "      background-color: #3B4455;\n",
              "      fill: #D2E3FC;\n",
              "    }\n",
              "\n",
              "    [theme=dark] .colab-df-convert:hover {\n",
              "      background-color: #434B5C;\n",
              "      box-shadow: 0px 1px 3px 1px rgba(0, 0, 0, 0.15);\n",
              "      filter: drop-shadow(0px 1px 2px rgba(0, 0, 0, 0.3));\n",
              "      fill: #FFFFFF;\n",
              "    }\n",
              "  </style>\n",
              "\n",
              "      <script>\n",
              "        const buttonEl =\n",
              "          document.querySelector('#df-3daeb443-ece7-4686-b973-a209deba5674 button.colab-df-convert');\n",
              "        buttonEl.style.display =\n",
              "          google.colab.kernel.accessAllowed ? 'block' : 'none';\n",
              "\n",
              "        async function convertToInteractive(key) {\n",
              "          const element = document.querySelector('#df-3daeb443-ece7-4686-b973-a209deba5674');\n",
              "          const dataTable =\n",
              "            await google.colab.kernel.invokeFunction('convertToInteractive',\n",
              "                                                     [key], {});\n",
              "          if (!dataTable) return;\n",
              "\n",
              "          const docLinkHtml = 'Like what you see? Visit the ' +\n",
              "            '<a target=\"_blank\" href=https://colab.research.google.com/notebooks/data_table.ipynb>data table notebook</a>'\n",
              "            + ' to learn more about interactive tables.';\n",
              "          element.innerHTML = '';\n",
              "          dataTable['output_type'] = 'display_data';\n",
              "          await google.colab.output.renderOutput(dataTable, element);\n",
              "          const docLink = document.createElement('div');\n",
              "          docLink.innerHTML = docLinkHtml;\n",
              "          element.appendChild(docLink);\n",
              "        }\n",
              "      </script>\n",
              "    </div>\n",
              "  </div>\n",
              "  "
            ]
          },
          "metadata": {},
          "execution_count": 3
        }
      ],
      "source": [
        "url = 'https://archive.ics.uci.edu/ml/machine-learning-databases/00368/Facebook_metrics.zip'\n",
        "file_name = 'dataset_Facebook.csv'\n",
        "r = requests.get(url)\n",
        "z = zipfile.ZipFile(io.BytesIO(r.content))\n",
        "z.extractall()\n",
        "df = pd.read_csv(file_name, sep=';')\n",
        "df"
      ]
    },
    {
      "cell_type": "markdown",
      "metadata": {
        "id": "MZgLFiQVuisA"
      },
      "source": [
        "#Ejercicio 1.-\n",
        "En esta tarea considera únicamente la siguiente variable de salida que se concluye que es una de las\n",
        "mejores en el artículo antes citado: ‘Lifetime People who have liked a Page and engaged with a\n",
        "post'. Renombra dicha variable como “LPE” . Como variables de entrada selecciona las 7 variables\n",
        "que indican los autores en la Tabla 3 del artículo citado. "
      ]
    },
    {
      "cell_type": "code",
      "execution_count": 4,
      "metadata": {
        "colab": {
          "base_uri": "https://localhost:8080/",
          "height": 423
        },
        "id": "uKmBIaj1uXLP",
        "outputId": "331db885-8326-4140-c994-11298f692ede"
      },
      "outputs": [
        {
          "output_type": "execute_result",
          "data": {
            "text/plain": [
              "     Page total likes    Type  Category  Post Month  Post Weekday  Post Hour  \\\n",
              "0              139441   Photo         2          12             4          3   \n",
              "1              139441  Status         2          12             3         10   \n",
              "2              139441   Photo         3          12             3          3   \n",
              "3              139441   Photo         2          12             2         10   \n",
              "4              139441   Photo         2          12             2          3   \n",
              "..                ...     ...       ...         ...           ...        ...   \n",
              "495             85093   Photo         3           1             7          2   \n",
              "496             81370   Photo         2           1             5          8   \n",
              "497             81370   Photo         1           1             5          2   \n",
              "498             81370   Photo         3           1             4         11   \n",
              "499             81370   Photo         2           1             4          4   \n",
              "\n",
              "     Paid   LPE  \n",
              "0     0.0   119  \n",
              "1     0.0  1108  \n",
              "2     0.0   132  \n",
              "3     1.0  1386  \n",
              "4     0.0   396  \n",
              "..    ...   ...  \n",
              "495   0.0   392  \n",
              "496   0.0   301  \n",
              "497   0.0   363  \n",
              "498   0.0   370  \n",
              "499   NaN   316  \n",
              "\n",
              "[500 rows x 8 columns]"
            ],
            "text/html": [
              "\n",
              "  <div id=\"df-90afa0a3-96e1-462d-a5ca-189dc852ea1e\">\n",
              "    <div class=\"colab-df-container\">\n",
              "      <div>\n",
              "<style scoped>\n",
              "    .dataframe tbody tr th:only-of-type {\n",
              "        vertical-align: middle;\n",
              "    }\n",
              "\n",
              "    .dataframe tbody tr th {\n",
              "        vertical-align: top;\n",
              "    }\n",
              "\n",
              "    .dataframe thead th {\n",
              "        text-align: right;\n",
              "    }\n",
              "</style>\n",
              "<table border=\"1\" class=\"dataframe\">\n",
              "  <thead>\n",
              "    <tr style=\"text-align: right;\">\n",
              "      <th></th>\n",
              "      <th>Page total likes</th>\n",
              "      <th>Type</th>\n",
              "      <th>Category</th>\n",
              "      <th>Post Month</th>\n",
              "      <th>Post Weekday</th>\n",
              "      <th>Post Hour</th>\n",
              "      <th>Paid</th>\n",
              "      <th>LPE</th>\n",
              "    </tr>\n",
              "  </thead>\n",
              "  <tbody>\n",
              "    <tr>\n",
              "      <th>0</th>\n",
              "      <td>139441</td>\n",
              "      <td>Photo</td>\n",
              "      <td>2</td>\n",
              "      <td>12</td>\n",
              "      <td>4</td>\n",
              "      <td>3</td>\n",
              "      <td>0.0</td>\n",
              "      <td>119</td>\n",
              "    </tr>\n",
              "    <tr>\n",
              "      <th>1</th>\n",
              "      <td>139441</td>\n",
              "      <td>Status</td>\n",
              "      <td>2</td>\n",
              "      <td>12</td>\n",
              "      <td>3</td>\n",
              "      <td>10</td>\n",
              "      <td>0.0</td>\n",
              "      <td>1108</td>\n",
              "    </tr>\n",
              "    <tr>\n",
              "      <th>2</th>\n",
              "      <td>139441</td>\n",
              "      <td>Photo</td>\n",
              "      <td>3</td>\n",
              "      <td>12</td>\n",
              "      <td>3</td>\n",
              "      <td>3</td>\n",
              "      <td>0.0</td>\n",
              "      <td>132</td>\n",
              "    </tr>\n",
              "    <tr>\n",
              "      <th>3</th>\n",
              "      <td>139441</td>\n",
              "      <td>Photo</td>\n",
              "      <td>2</td>\n",
              "      <td>12</td>\n",
              "      <td>2</td>\n",
              "      <td>10</td>\n",
              "      <td>1.0</td>\n",
              "      <td>1386</td>\n",
              "    </tr>\n",
              "    <tr>\n",
              "      <th>4</th>\n",
              "      <td>139441</td>\n",
              "      <td>Photo</td>\n",
              "      <td>2</td>\n",
              "      <td>12</td>\n",
              "      <td>2</td>\n",
              "      <td>3</td>\n",
              "      <td>0.0</td>\n",
              "      <td>396</td>\n",
              "    </tr>\n",
              "    <tr>\n",
              "      <th>...</th>\n",
              "      <td>...</td>\n",
              "      <td>...</td>\n",
              "      <td>...</td>\n",
              "      <td>...</td>\n",
              "      <td>...</td>\n",
              "      <td>...</td>\n",
              "      <td>...</td>\n",
              "      <td>...</td>\n",
              "    </tr>\n",
              "    <tr>\n",
              "      <th>495</th>\n",
              "      <td>85093</td>\n",
              "      <td>Photo</td>\n",
              "      <td>3</td>\n",
              "      <td>1</td>\n",
              "      <td>7</td>\n",
              "      <td>2</td>\n",
              "      <td>0.0</td>\n",
              "      <td>392</td>\n",
              "    </tr>\n",
              "    <tr>\n",
              "      <th>496</th>\n",
              "      <td>81370</td>\n",
              "      <td>Photo</td>\n",
              "      <td>2</td>\n",
              "      <td>1</td>\n",
              "      <td>5</td>\n",
              "      <td>8</td>\n",
              "      <td>0.0</td>\n",
              "      <td>301</td>\n",
              "    </tr>\n",
              "    <tr>\n",
              "      <th>497</th>\n",
              "      <td>81370</td>\n",
              "      <td>Photo</td>\n",
              "      <td>1</td>\n",
              "      <td>1</td>\n",
              "      <td>5</td>\n",
              "      <td>2</td>\n",
              "      <td>0.0</td>\n",
              "      <td>363</td>\n",
              "    </tr>\n",
              "    <tr>\n",
              "      <th>498</th>\n",
              "      <td>81370</td>\n",
              "      <td>Photo</td>\n",
              "      <td>3</td>\n",
              "      <td>1</td>\n",
              "      <td>4</td>\n",
              "      <td>11</td>\n",
              "      <td>0.0</td>\n",
              "      <td>370</td>\n",
              "    </tr>\n",
              "    <tr>\n",
              "      <th>499</th>\n",
              "      <td>81370</td>\n",
              "      <td>Photo</td>\n",
              "      <td>2</td>\n",
              "      <td>1</td>\n",
              "      <td>4</td>\n",
              "      <td>4</td>\n",
              "      <td>NaN</td>\n",
              "      <td>316</td>\n",
              "    </tr>\n",
              "  </tbody>\n",
              "</table>\n",
              "<p>500 rows × 8 columns</p>\n",
              "</div>\n",
              "      <button class=\"colab-df-convert\" onclick=\"convertToInteractive('df-90afa0a3-96e1-462d-a5ca-189dc852ea1e')\"\n",
              "              title=\"Convert this dataframe to an interactive table.\"\n",
              "              style=\"display:none;\">\n",
              "        \n",
              "  <svg xmlns=\"http://www.w3.org/2000/svg\" height=\"24px\"viewBox=\"0 0 24 24\"\n",
              "       width=\"24px\">\n",
              "    <path d=\"M0 0h24v24H0V0z\" fill=\"none\"/>\n",
              "    <path d=\"M18.56 5.44l.94 2.06.94-2.06 2.06-.94-2.06-.94-.94-2.06-.94 2.06-2.06.94zm-11 1L8.5 8.5l.94-2.06 2.06-.94-2.06-.94L8.5 2.5l-.94 2.06-2.06.94zm10 10l.94 2.06.94-2.06 2.06-.94-2.06-.94-.94-2.06-.94 2.06-2.06.94z\"/><path d=\"M17.41 7.96l-1.37-1.37c-.4-.4-.92-.59-1.43-.59-.52 0-1.04.2-1.43.59L10.3 9.45l-7.72 7.72c-.78.78-.78 2.05 0 2.83L4 21.41c.39.39.9.59 1.41.59.51 0 1.02-.2 1.41-.59l7.78-7.78 2.81-2.81c.8-.78.8-2.07 0-2.86zM5.41 20L4 18.59l7.72-7.72 1.47 1.35L5.41 20z\"/>\n",
              "  </svg>\n",
              "      </button>\n",
              "      \n",
              "  <style>\n",
              "    .colab-df-container {\n",
              "      display:flex;\n",
              "      flex-wrap:wrap;\n",
              "      gap: 12px;\n",
              "    }\n",
              "\n",
              "    .colab-df-convert {\n",
              "      background-color: #E8F0FE;\n",
              "      border: none;\n",
              "      border-radius: 50%;\n",
              "      cursor: pointer;\n",
              "      display: none;\n",
              "      fill: #1967D2;\n",
              "      height: 32px;\n",
              "      padding: 0 0 0 0;\n",
              "      width: 32px;\n",
              "    }\n",
              "\n",
              "    .colab-df-convert:hover {\n",
              "      background-color: #E2EBFA;\n",
              "      box-shadow: 0px 1px 2px rgba(60, 64, 67, 0.3), 0px 1px 3px 1px rgba(60, 64, 67, 0.15);\n",
              "      fill: #174EA6;\n",
              "    }\n",
              "\n",
              "    [theme=dark] .colab-df-convert {\n",
              "      background-color: #3B4455;\n",
              "      fill: #D2E3FC;\n",
              "    }\n",
              "\n",
              "    [theme=dark] .colab-df-convert:hover {\n",
              "      background-color: #434B5C;\n",
              "      box-shadow: 0px 1px 3px 1px rgba(0, 0, 0, 0.15);\n",
              "      filter: drop-shadow(0px 1px 2px rgba(0, 0, 0, 0.3));\n",
              "      fill: #FFFFFF;\n",
              "    }\n",
              "  </style>\n",
              "\n",
              "      <script>\n",
              "        const buttonEl =\n",
              "          document.querySelector('#df-90afa0a3-96e1-462d-a5ca-189dc852ea1e button.colab-df-convert');\n",
              "        buttonEl.style.display =\n",
              "          google.colab.kernel.accessAllowed ? 'block' : 'none';\n",
              "\n",
              "        async function convertToInteractive(key) {\n",
              "          const element = document.querySelector('#df-90afa0a3-96e1-462d-a5ca-189dc852ea1e');\n",
              "          const dataTable =\n",
              "            await google.colab.kernel.invokeFunction('convertToInteractive',\n",
              "                                                     [key], {});\n",
              "          if (!dataTable) return;\n",
              "\n",
              "          const docLinkHtml = 'Like what you see? Visit the ' +\n",
              "            '<a target=\"_blank\" href=https://colab.research.google.com/notebooks/data_table.ipynb>data table notebook</a>'\n",
              "            + ' to learn more about interactive tables.';\n",
              "          element.innerHTML = '';\n",
              "          dataTable['output_type'] = 'display_data';\n",
              "          await google.colab.output.renderOutput(dataTable, element);\n",
              "          const docLink = document.createElement('div');\n",
              "          docLink.innerHTML = docLinkHtml;\n",
              "          element.appendChild(docLink);\n",
              "        }\n",
              "      </script>\n",
              "    </div>\n",
              "  </div>\n",
              "  "
            ]
          },
          "metadata": {},
          "execution_count": 4
        }
      ],
      "source": [
        "df2 = df[['Page total likes','Type', 'Category', 'Post Month', 'Post Weekday', 'Post Hour', 'Paid','Lifetime People who have liked your Page and engaged with your post']].copy()\n",
        "df2 = df2.rename(columns={'Lifetime People who have liked your Page and engaged with your post':'LPE'})\n",
        "df2\n",
        "\n"
      ]
    },
    {
      "cell_type": "code",
      "execution_count": 5,
      "metadata": {
        "colab": {
          "base_uri": "https://localhost:8080/"
        },
        "id": "GwNGGIf3uXN4",
        "outputId": "f302fdcf-abbd-44fc-eb63-b8163298bbeb"
      },
      "outputs": [
        {
          "output_type": "execute_result",
          "data": {
            "text/plain": [
              "Page total likes      int64\n",
              "Type                 object\n",
              "Category              int64\n",
              "Post Month            int64\n",
              "Post Weekday          int64\n",
              "Post Hour             int64\n",
              "Paid                float64\n",
              "LPE                   int64\n",
              "dtype: object"
            ]
          },
          "metadata": {},
          "execution_count": 5
        }
      ],
      "source": [
        "df2.dtypes"
      ]
    },
    {
      "cell_type": "code",
      "execution_count": 6,
      "metadata": {
        "colab": {
          "base_uri": "https://localhost:8080/"
        },
        "id": "ice9GtrjuXV5",
        "outputId": "eb25864f-f025-4e51-e3fb-e9fb663e1761"
      },
      "outputs": [
        {
          "output_type": "execute_result",
          "data": {
            "text/plain": [
              "Page total likes    False\n",
              "Type                False\n",
              "Category            False\n",
              "Post Month          False\n",
              "Post Weekday        False\n",
              "Post Hour           False\n",
              "Paid                 True\n",
              "LPE                 False\n",
              "dtype: bool"
            ]
          },
          "metadata": {},
          "execution_count": 6
        }
      ],
      "source": [
        "#identificar estos valores a traves de metodo isna\n",
        "df2.isna().any()"
      ]
    },
    {
      "cell_type": "code",
      "execution_count": 7,
      "metadata": {
        "colab": {
          "base_uri": "https://localhost:8080/"
        },
        "id": "0mb3Lw34uXY1",
        "outputId": "874ef178-1568-463e-ffaf-9d80ea9de764"
      },
      "outputs": [
        {
          "output_type": "execute_result",
          "data": {
            "text/plain": [
              "0.0    360\n",
              "1.0    139\n",
              "Name: Paid, dtype: int64"
            ]
          },
          "metadata": {},
          "execution_count": 7
        }
      ],
      "source": [
        "#Valores fuera de rango en Genero\n",
        "df2['Paid'].value_counts()"
      ]
    },
    {
      "cell_type": "code",
      "execution_count": 8,
      "metadata": {
        "colab": {
          "base_uri": "https://localhost:8080/",
          "height": 423
        },
        "id": "yPMpcN8euXbf",
        "outputId": "aab3e449-da6a-46e9-ea7d-144d1b6f9be0"
      },
      "outputs": [
        {
          "output_type": "execute_result",
          "data": {
            "text/plain": [
              "     Page total likes    Type  Category  Post Month  Post Weekday  Post Hour  \\\n",
              "0              139441   Photo         2          12             4          3   \n",
              "1              139441  Status         2          12             3         10   \n",
              "2              139441   Photo         3          12             3          3   \n",
              "3              139441   Photo         2          12             2         10   \n",
              "4              139441   Photo         2          12             2          3   \n",
              "..                ...     ...       ...         ...           ...        ...   \n",
              "494             85093   Photo         3           1             7         10   \n",
              "495             85093   Photo         3           1             7          2   \n",
              "496             81370   Photo         2           1             5          8   \n",
              "497             81370   Photo         1           1             5          2   \n",
              "498             81370   Photo         3           1             4         11   \n",
              "\n",
              "     Paid   LPE  \n",
              "0     0.0   119  \n",
              "1     0.0  1108  \n",
              "2     0.0   132  \n",
              "3     1.0  1386  \n",
              "4     0.0   396  \n",
              "..    ...   ...  \n",
              "494   0.0   422  \n",
              "495   0.0   392  \n",
              "496   0.0   301  \n",
              "497   0.0   363  \n",
              "498   0.0   370  \n",
              "\n",
              "[499 rows x 8 columns]"
            ],
            "text/html": [
              "\n",
              "  <div id=\"df-279f7e5d-99e5-45e5-96b5-9864c8b8e739\">\n",
              "    <div class=\"colab-df-container\">\n",
              "      <div>\n",
              "<style scoped>\n",
              "    .dataframe tbody tr th:only-of-type {\n",
              "        vertical-align: middle;\n",
              "    }\n",
              "\n",
              "    .dataframe tbody tr th {\n",
              "        vertical-align: top;\n",
              "    }\n",
              "\n",
              "    .dataframe thead th {\n",
              "        text-align: right;\n",
              "    }\n",
              "</style>\n",
              "<table border=\"1\" class=\"dataframe\">\n",
              "  <thead>\n",
              "    <tr style=\"text-align: right;\">\n",
              "      <th></th>\n",
              "      <th>Page total likes</th>\n",
              "      <th>Type</th>\n",
              "      <th>Category</th>\n",
              "      <th>Post Month</th>\n",
              "      <th>Post Weekday</th>\n",
              "      <th>Post Hour</th>\n",
              "      <th>Paid</th>\n",
              "      <th>LPE</th>\n",
              "    </tr>\n",
              "  </thead>\n",
              "  <tbody>\n",
              "    <tr>\n",
              "      <th>0</th>\n",
              "      <td>139441</td>\n",
              "      <td>Photo</td>\n",
              "      <td>2</td>\n",
              "      <td>12</td>\n",
              "      <td>4</td>\n",
              "      <td>3</td>\n",
              "      <td>0.0</td>\n",
              "      <td>119</td>\n",
              "    </tr>\n",
              "    <tr>\n",
              "      <th>1</th>\n",
              "      <td>139441</td>\n",
              "      <td>Status</td>\n",
              "      <td>2</td>\n",
              "      <td>12</td>\n",
              "      <td>3</td>\n",
              "      <td>10</td>\n",
              "      <td>0.0</td>\n",
              "      <td>1108</td>\n",
              "    </tr>\n",
              "    <tr>\n",
              "      <th>2</th>\n",
              "      <td>139441</td>\n",
              "      <td>Photo</td>\n",
              "      <td>3</td>\n",
              "      <td>12</td>\n",
              "      <td>3</td>\n",
              "      <td>3</td>\n",
              "      <td>0.0</td>\n",
              "      <td>132</td>\n",
              "    </tr>\n",
              "    <tr>\n",
              "      <th>3</th>\n",
              "      <td>139441</td>\n",
              "      <td>Photo</td>\n",
              "      <td>2</td>\n",
              "      <td>12</td>\n",
              "      <td>2</td>\n",
              "      <td>10</td>\n",
              "      <td>1.0</td>\n",
              "      <td>1386</td>\n",
              "    </tr>\n",
              "    <tr>\n",
              "      <th>4</th>\n",
              "      <td>139441</td>\n",
              "      <td>Photo</td>\n",
              "      <td>2</td>\n",
              "      <td>12</td>\n",
              "      <td>2</td>\n",
              "      <td>3</td>\n",
              "      <td>0.0</td>\n",
              "      <td>396</td>\n",
              "    </tr>\n",
              "    <tr>\n",
              "      <th>...</th>\n",
              "      <td>...</td>\n",
              "      <td>...</td>\n",
              "      <td>...</td>\n",
              "      <td>...</td>\n",
              "      <td>...</td>\n",
              "      <td>...</td>\n",
              "      <td>...</td>\n",
              "      <td>...</td>\n",
              "    </tr>\n",
              "    <tr>\n",
              "      <th>494</th>\n",
              "      <td>85093</td>\n",
              "      <td>Photo</td>\n",
              "      <td>3</td>\n",
              "      <td>1</td>\n",
              "      <td>7</td>\n",
              "      <td>10</td>\n",
              "      <td>0.0</td>\n",
              "      <td>422</td>\n",
              "    </tr>\n",
              "    <tr>\n",
              "      <th>495</th>\n",
              "      <td>85093</td>\n",
              "      <td>Photo</td>\n",
              "      <td>3</td>\n",
              "      <td>1</td>\n",
              "      <td>7</td>\n",
              "      <td>2</td>\n",
              "      <td>0.0</td>\n",
              "      <td>392</td>\n",
              "    </tr>\n",
              "    <tr>\n",
              "      <th>496</th>\n",
              "      <td>81370</td>\n",
              "      <td>Photo</td>\n",
              "      <td>2</td>\n",
              "      <td>1</td>\n",
              "      <td>5</td>\n",
              "      <td>8</td>\n",
              "      <td>0.0</td>\n",
              "      <td>301</td>\n",
              "    </tr>\n",
              "    <tr>\n",
              "      <th>497</th>\n",
              "      <td>81370</td>\n",
              "      <td>Photo</td>\n",
              "      <td>1</td>\n",
              "      <td>1</td>\n",
              "      <td>5</td>\n",
              "      <td>2</td>\n",
              "      <td>0.0</td>\n",
              "      <td>363</td>\n",
              "    </tr>\n",
              "    <tr>\n",
              "      <th>498</th>\n",
              "      <td>81370</td>\n",
              "      <td>Photo</td>\n",
              "      <td>3</td>\n",
              "      <td>1</td>\n",
              "      <td>4</td>\n",
              "      <td>11</td>\n",
              "      <td>0.0</td>\n",
              "      <td>370</td>\n",
              "    </tr>\n",
              "  </tbody>\n",
              "</table>\n",
              "<p>499 rows × 8 columns</p>\n",
              "</div>\n",
              "      <button class=\"colab-df-convert\" onclick=\"convertToInteractive('df-279f7e5d-99e5-45e5-96b5-9864c8b8e739')\"\n",
              "              title=\"Convert this dataframe to an interactive table.\"\n",
              "              style=\"display:none;\">\n",
              "        \n",
              "  <svg xmlns=\"http://www.w3.org/2000/svg\" height=\"24px\"viewBox=\"0 0 24 24\"\n",
              "       width=\"24px\">\n",
              "    <path d=\"M0 0h24v24H0V0z\" fill=\"none\"/>\n",
              "    <path d=\"M18.56 5.44l.94 2.06.94-2.06 2.06-.94-2.06-.94-.94-2.06-.94 2.06-2.06.94zm-11 1L8.5 8.5l.94-2.06 2.06-.94-2.06-.94L8.5 2.5l-.94 2.06-2.06.94zm10 10l.94 2.06.94-2.06 2.06-.94-2.06-.94-.94-2.06-.94 2.06-2.06.94z\"/><path d=\"M17.41 7.96l-1.37-1.37c-.4-.4-.92-.59-1.43-.59-.52 0-1.04.2-1.43.59L10.3 9.45l-7.72 7.72c-.78.78-.78 2.05 0 2.83L4 21.41c.39.39.9.59 1.41.59.51 0 1.02-.2 1.41-.59l7.78-7.78 2.81-2.81c.8-.78.8-2.07 0-2.86zM5.41 20L4 18.59l7.72-7.72 1.47 1.35L5.41 20z\"/>\n",
              "  </svg>\n",
              "      </button>\n",
              "      \n",
              "  <style>\n",
              "    .colab-df-container {\n",
              "      display:flex;\n",
              "      flex-wrap:wrap;\n",
              "      gap: 12px;\n",
              "    }\n",
              "\n",
              "    .colab-df-convert {\n",
              "      background-color: #E8F0FE;\n",
              "      border: none;\n",
              "      border-radius: 50%;\n",
              "      cursor: pointer;\n",
              "      display: none;\n",
              "      fill: #1967D2;\n",
              "      height: 32px;\n",
              "      padding: 0 0 0 0;\n",
              "      width: 32px;\n",
              "    }\n",
              "\n",
              "    .colab-df-convert:hover {\n",
              "      background-color: #E2EBFA;\n",
              "      box-shadow: 0px 1px 2px rgba(60, 64, 67, 0.3), 0px 1px 3px 1px rgba(60, 64, 67, 0.15);\n",
              "      fill: #174EA6;\n",
              "    }\n",
              "\n",
              "    [theme=dark] .colab-df-convert {\n",
              "      background-color: #3B4455;\n",
              "      fill: #D2E3FC;\n",
              "    }\n",
              "\n",
              "    [theme=dark] .colab-df-convert:hover {\n",
              "      background-color: #434B5C;\n",
              "      box-shadow: 0px 1px 3px 1px rgba(0, 0, 0, 0.15);\n",
              "      filter: drop-shadow(0px 1px 2px rgba(0, 0, 0, 0.3));\n",
              "      fill: #FFFFFF;\n",
              "    }\n",
              "  </style>\n",
              "\n",
              "      <script>\n",
              "        const buttonEl =\n",
              "          document.querySelector('#df-279f7e5d-99e5-45e5-96b5-9864c8b8e739 button.colab-df-convert');\n",
              "        buttonEl.style.display =\n",
              "          google.colab.kernel.accessAllowed ? 'block' : 'none';\n",
              "\n",
              "        async function convertToInteractive(key) {\n",
              "          const element = document.querySelector('#df-279f7e5d-99e5-45e5-96b5-9864c8b8e739');\n",
              "          const dataTable =\n",
              "            await google.colab.kernel.invokeFunction('convertToInteractive',\n",
              "                                                     [key], {});\n",
              "          if (!dataTable) return;\n",
              "\n",
              "          const docLinkHtml = 'Like what you see? Visit the ' +\n",
              "            '<a target=\"_blank\" href=https://colab.research.google.com/notebooks/data_table.ipynb>data table notebook</a>'\n",
              "            + ' to learn more about interactive tables.';\n",
              "          element.innerHTML = '';\n",
              "          dataTable['output_type'] = 'display_data';\n",
              "          await google.colab.output.renderOutput(dataTable, element);\n",
              "          const docLink = document.createElement('div');\n",
              "          docLink.innerHTML = docLinkHtml;\n",
              "          element.appendChild(docLink);\n",
              "        }\n",
              "      </script>\n",
              "    </div>\n",
              "  </div>\n",
              "  "
            ]
          },
          "metadata": {},
          "execution_count": 8
        }
      ],
      "source": [
        "#borrando los valores nulos (1 renglon en paid)\n",
        "df2 = df2.dropna()\n",
        "df2\n",
        "\n"
      ]
    },
    {
      "cell_type": "code",
      "execution_count": 9,
      "metadata": {
        "colab": {
          "base_uri": "https://localhost:8080/",
          "height": 534
        },
        "id": "CN5Pg-lhCP5Z",
        "outputId": "c585221b-683d-4309-8e04-6a5d584ce7fc"
      },
      "outputs": [
        {
          "output_type": "stream",
          "name": "stderr",
          "text": [
            "/usr/local/lib/python3.7/dist-packages/pandas/core/indexing.py:1817: SettingWithCopyWarning: \n",
            "A value is trying to be set on a copy of a slice from a DataFrame.\n",
            "Try using .loc[row_indexer,col_indexer] = value instead\n",
            "\n",
            "See the caveats in the documentation: https://pandas.pydata.org/pandas-docs/stable/user_guide/indexing.html#returning-a-view-versus-a-copy\n",
            "  self._setitem_single_column(loc, value, pi)\n"
          ]
        },
        {
          "output_type": "execute_result",
          "data": {
            "text/plain": [
              "     Page total likes Type  Category  Post Month  Post Weekday  Post Hour  \\\n",
              "0              139441    0         2          12             4          3   \n",
              "1              139441    1         2          12             3         10   \n",
              "2              139441    0         3          12             3          3   \n",
              "3              139441    0         2          12             2         10   \n",
              "4              139441    0         2          12             2          3   \n",
              "..                ...  ...       ...         ...           ...        ...   \n",
              "494             85093    0         3           1             7         10   \n",
              "495             85093    0         3           1             7          2   \n",
              "496             81370    0         2           1             5          8   \n",
              "497             81370    0         1           1             5          2   \n",
              "498             81370    0         3           1             4         11   \n",
              "\n",
              "     Paid   LPE  \n",
              "0     0.0   119  \n",
              "1     0.0  1108  \n",
              "2     0.0   132  \n",
              "3     1.0  1386  \n",
              "4     0.0   396  \n",
              "..    ...   ...  \n",
              "494   0.0   422  \n",
              "495   0.0   392  \n",
              "496   0.0   301  \n",
              "497   0.0   363  \n",
              "498   0.0   370  \n",
              "\n",
              "[499 rows x 8 columns]"
            ],
            "text/html": [
              "\n",
              "  <div id=\"df-929590c4-5500-40c3-9727-9e6b1aef5ad2\">\n",
              "    <div class=\"colab-df-container\">\n",
              "      <div>\n",
              "<style scoped>\n",
              "    .dataframe tbody tr th:only-of-type {\n",
              "        vertical-align: middle;\n",
              "    }\n",
              "\n",
              "    .dataframe tbody tr th {\n",
              "        vertical-align: top;\n",
              "    }\n",
              "\n",
              "    .dataframe thead th {\n",
              "        text-align: right;\n",
              "    }\n",
              "</style>\n",
              "<table border=\"1\" class=\"dataframe\">\n",
              "  <thead>\n",
              "    <tr style=\"text-align: right;\">\n",
              "      <th></th>\n",
              "      <th>Page total likes</th>\n",
              "      <th>Type</th>\n",
              "      <th>Category</th>\n",
              "      <th>Post Month</th>\n",
              "      <th>Post Weekday</th>\n",
              "      <th>Post Hour</th>\n",
              "      <th>Paid</th>\n",
              "      <th>LPE</th>\n",
              "    </tr>\n",
              "  </thead>\n",
              "  <tbody>\n",
              "    <tr>\n",
              "      <th>0</th>\n",
              "      <td>139441</td>\n",
              "      <td>0</td>\n",
              "      <td>2</td>\n",
              "      <td>12</td>\n",
              "      <td>4</td>\n",
              "      <td>3</td>\n",
              "      <td>0.0</td>\n",
              "      <td>119</td>\n",
              "    </tr>\n",
              "    <tr>\n",
              "      <th>1</th>\n",
              "      <td>139441</td>\n",
              "      <td>1</td>\n",
              "      <td>2</td>\n",
              "      <td>12</td>\n",
              "      <td>3</td>\n",
              "      <td>10</td>\n",
              "      <td>0.0</td>\n",
              "      <td>1108</td>\n",
              "    </tr>\n",
              "    <tr>\n",
              "      <th>2</th>\n",
              "      <td>139441</td>\n",
              "      <td>0</td>\n",
              "      <td>3</td>\n",
              "      <td>12</td>\n",
              "      <td>3</td>\n",
              "      <td>3</td>\n",
              "      <td>0.0</td>\n",
              "      <td>132</td>\n",
              "    </tr>\n",
              "    <tr>\n",
              "      <th>3</th>\n",
              "      <td>139441</td>\n",
              "      <td>0</td>\n",
              "      <td>2</td>\n",
              "      <td>12</td>\n",
              "      <td>2</td>\n",
              "      <td>10</td>\n",
              "      <td>1.0</td>\n",
              "      <td>1386</td>\n",
              "    </tr>\n",
              "    <tr>\n",
              "      <th>4</th>\n",
              "      <td>139441</td>\n",
              "      <td>0</td>\n",
              "      <td>2</td>\n",
              "      <td>12</td>\n",
              "      <td>2</td>\n",
              "      <td>3</td>\n",
              "      <td>0.0</td>\n",
              "      <td>396</td>\n",
              "    </tr>\n",
              "    <tr>\n",
              "      <th>...</th>\n",
              "      <td>...</td>\n",
              "      <td>...</td>\n",
              "      <td>...</td>\n",
              "      <td>...</td>\n",
              "      <td>...</td>\n",
              "      <td>...</td>\n",
              "      <td>...</td>\n",
              "      <td>...</td>\n",
              "    </tr>\n",
              "    <tr>\n",
              "      <th>494</th>\n",
              "      <td>85093</td>\n",
              "      <td>0</td>\n",
              "      <td>3</td>\n",
              "      <td>1</td>\n",
              "      <td>7</td>\n",
              "      <td>10</td>\n",
              "      <td>0.0</td>\n",
              "      <td>422</td>\n",
              "    </tr>\n",
              "    <tr>\n",
              "      <th>495</th>\n",
              "      <td>85093</td>\n",
              "      <td>0</td>\n",
              "      <td>3</td>\n",
              "      <td>1</td>\n",
              "      <td>7</td>\n",
              "      <td>2</td>\n",
              "      <td>0.0</td>\n",
              "      <td>392</td>\n",
              "    </tr>\n",
              "    <tr>\n",
              "      <th>496</th>\n",
              "      <td>81370</td>\n",
              "      <td>0</td>\n",
              "      <td>2</td>\n",
              "      <td>1</td>\n",
              "      <td>5</td>\n",
              "      <td>8</td>\n",
              "      <td>0.0</td>\n",
              "      <td>301</td>\n",
              "    </tr>\n",
              "    <tr>\n",
              "      <th>497</th>\n",
              "      <td>81370</td>\n",
              "      <td>0</td>\n",
              "      <td>1</td>\n",
              "      <td>1</td>\n",
              "      <td>5</td>\n",
              "      <td>2</td>\n",
              "      <td>0.0</td>\n",
              "      <td>363</td>\n",
              "    </tr>\n",
              "    <tr>\n",
              "      <th>498</th>\n",
              "      <td>81370</td>\n",
              "      <td>0</td>\n",
              "      <td>3</td>\n",
              "      <td>1</td>\n",
              "      <td>4</td>\n",
              "      <td>11</td>\n",
              "      <td>0.0</td>\n",
              "      <td>370</td>\n",
              "    </tr>\n",
              "  </tbody>\n",
              "</table>\n",
              "<p>499 rows × 8 columns</p>\n",
              "</div>\n",
              "      <button class=\"colab-df-convert\" onclick=\"convertToInteractive('df-929590c4-5500-40c3-9727-9e6b1aef5ad2')\"\n",
              "              title=\"Convert this dataframe to an interactive table.\"\n",
              "              style=\"display:none;\">\n",
              "        \n",
              "  <svg xmlns=\"http://www.w3.org/2000/svg\" height=\"24px\"viewBox=\"0 0 24 24\"\n",
              "       width=\"24px\">\n",
              "    <path d=\"M0 0h24v24H0V0z\" fill=\"none\"/>\n",
              "    <path d=\"M18.56 5.44l.94 2.06.94-2.06 2.06-.94-2.06-.94-.94-2.06-.94 2.06-2.06.94zm-11 1L8.5 8.5l.94-2.06 2.06-.94-2.06-.94L8.5 2.5l-.94 2.06-2.06.94zm10 10l.94 2.06.94-2.06 2.06-.94-2.06-.94-.94-2.06-.94 2.06-2.06.94z\"/><path d=\"M17.41 7.96l-1.37-1.37c-.4-.4-.92-.59-1.43-.59-.52 0-1.04.2-1.43.59L10.3 9.45l-7.72 7.72c-.78.78-.78 2.05 0 2.83L4 21.41c.39.39.9.59 1.41.59.51 0 1.02-.2 1.41-.59l7.78-7.78 2.81-2.81c.8-.78.8-2.07 0-2.86zM5.41 20L4 18.59l7.72-7.72 1.47 1.35L5.41 20z\"/>\n",
              "  </svg>\n",
              "      </button>\n",
              "      \n",
              "  <style>\n",
              "    .colab-df-container {\n",
              "      display:flex;\n",
              "      flex-wrap:wrap;\n",
              "      gap: 12px;\n",
              "    }\n",
              "\n",
              "    .colab-df-convert {\n",
              "      background-color: #E8F0FE;\n",
              "      border: none;\n",
              "      border-radius: 50%;\n",
              "      cursor: pointer;\n",
              "      display: none;\n",
              "      fill: #1967D2;\n",
              "      height: 32px;\n",
              "      padding: 0 0 0 0;\n",
              "      width: 32px;\n",
              "    }\n",
              "\n",
              "    .colab-df-convert:hover {\n",
              "      background-color: #E2EBFA;\n",
              "      box-shadow: 0px 1px 2px rgba(60, 64, 67, 0.3), 0px 1px 3px 1px rgba(60, 64, 67, 0.15);\n",
              "      fill: #174EA6;\n",
              "    }\n",
              "\n",
              "    [theme=dark] .colab-df-convert {\n",
              "      background-color: #3B4455;\n",
              "      fill: #D2E3FC;\n",
              "    }\n",
              "\n",
              "    [theme=dark] .colab-df-convert:hover {\n",
              "      background-color: #434B5C;\n",
              "      box-shadow: 0px 1px 3px 1px rgba(0, 0, 0, 0.15);\n",
              "      filter: drop-shadow(0px 1px 2px rgba(0, 0, 0, 0.3));\n",
              "      fill: #FFFFFF;\n",
              "    }\n",
              "  </style>\n",
              "\n",
              "      <script>\n",
              "        const buttonEl =\n",
              "          document.querySelector('#df-929590c4-5500-40c3-9727-9e6b1aef5ad2 button.colab-df-convert');\n",
              "        buttonEl.style.display =\n",
              "          google.colab.kernel.accessAllowed ? 'block' : 'none';\n",
              "\n",
              "        async function convertToInteractive(key) {\n",
              "          const element = document.querySelector('#df-929590c4-5500-40c3-9727-9e6b1aef5ad2');\n",
              "          const dataTable =\n",
              "            await google.colab.kernel.invokeFunction('convertToInteractive',\n",
              "                                                     [key], {});\n",
              "          if (!dataTable) return;\n",
              "\n",
              "          const docLinkHtml = 'Like what you see? Visit the ' +\n",
              "            '<a target=\"_blank\" href=https://colab.research.google.com/notebooks/data_table.ipynb>data table notebook</a>'\n",
              "            + ' to learn more about interactive tables.';\n",
              "          element.innerHTML = '';\n",
              "          dataTable['output_type'] = 'display_data';\n",
              "          await google.colab.output.renderOutput(dataTable, element);\n",
              "          const docLink = document.createElement('div');\n",
              "          docLink.innerHTML = docLinkHtml;\n",
              "          element.appendChild(docLink);\n",
              "        }\n",
              "      </script>\n",
              "    </div>\n",
              "  </div>\n",
              "  "
            ]
          },
          "metadata": {},
          "execution_count": 9
        }
      ],
      "source": [
        "#Convertir String a numerico, columna Type\n",
        "df2.loc[ df2[\"Type\"] == \"Photo\", \"Type\"] = 0\n",
        "df2.loc[ df2[\"Type\"] == \"Status\", \"Type\"] = 1\n",
        "df2.loc[ df2[\"Type\"] == \"Link\", \"Type\"] = 2\n",
        "df2.loc[ df2[\"Type\"] == \"Video\", \"Type\"] = 3\n",
        "\n",
        "df2"
      ]
    },
    {
      "cell_type": "markdown",
      "metadata": {
        "id": "FM1XVU6ovQCE"
      },
      "source": [
        "#Ejercicio 2.-\n",
        " Realiza una partición de los datos con 100 datos de Prueba y el resto para entrenamiento y\n",
        "validación. "
      ]
    },
    {
      "cell_type": "code",
      "execution_count": 10,
      "metadata": {
        "id": "7W7uXW5qERw1"
      },
      "outputs": [],
      "source": [
        "y = df2['LPE']\n",
        "X = df2.drop('LPE', axis = 1)"
      ]
    },
    {
      "cell_type": "code",
      "execution_count": 11,
      "metadata": {
        "colab": {
          "base_uri": "https://localhost:8080/"
        },
        "id": "FZihWf7pV66j",
        "outputId": "796adc3e-dca4-4216-9e93-8f4ea10cf4ba"
      },
      "outputs": [
        {
          "output_type": "stream",
          "name": "stdout",
          "text": [
            "(399, 7) (100, 7)\n"
          ]
        }
      ],
      "source": [
        "#divide set de datos para prueba y entrenamiento\n",
        "X_train, X_test, y_train, y_test = train_test_split(X, y, test_size = 0.20, random_state=10)\n",
        "print(X_train.shape, X_test.shape)"
      ]
    },
    {
      "cell_type": "markdown",
      "metadata": {
        "id": "ZsbPjj82wEFo"
      },
      "source": [
        "#Ejercicio 3.-\n",
        "Definirás tus propias funciones de errores para este problema de regresión. Los errores que\n",
        "utilizarás son la raíz cuadrada del error cuadrático medio RMSE, el error absoluto medio MAE y el\n",
        "error porcentual absoluto medio MAPE. \n"
      ]
    },
    {
      "cell_type": "code",
      "execution_count": 12,
      "metadata": {
        "id": "ISzmRkl59Zyk"
      },
      "outputs": [],
      "source": [
        "def MAPE(real, pred):\n",
        "\n",
        "  train, y_pred = np.array(real), np.array(pred)\n",
        "  mape = np.mean(np.abs((real - pred) / real)) * 100\n",
        "  return mape"
      ]
    },
    {
      "cell_type": "code",
      "execution_count": 13,
      "metadata": {
        "id": "x0grT8tF9b9r"
      },
      "outputs": [],
      "source": [
        "def MAE(real, pred):\n",
        "    \n",
        "  train, test = np.array(real), np.array(pred)\n",
        "  mae = np.mean(np.abs(real - pred))\n",
        "  return mae"
      ]
    },
    {
      "cell_type": "code",
      "execution_count": 14,
      "metadata": {
        "id": "mhR1H1UU9cAt"
      },
      "outputs": [],
      "source": [
        "def RMSE(real, pred):\n",
        "    \n",
        "  real, pred = np.array(real), np.array(pred)\n",
        "  rmse= np.sqrt((((pred) - real) ** 2).mean())\n",
        "  return rmse"
      ]
    },
    {
      "cell_type": "markdown",
      "metadata": {
        "id": "7cKBq36vOsmV"
      },
      "source": [
        "#Ejercicio 4.-\n",
        "En la página de la UCI, así como en el artículo de los autores previamente citado encuentras\n",
        "información en relación al significado de cada variable. Haz una análisis de tus datos y lleva a cabo\n",
        "las transformaciones que consideres adecuadas tanto en los datos de entrada, como en las de salida.\n",
        "Utiliza un Pipeline para evitar el filtrado de información. \n"
      ]
    },
    {
      "cell_type": "code",
      "execution_count": 15,
      "metadata": {
        "id": "jSZYnpruUcGV"
      },
      "outputs": [],
      "source": [
        "df_cat = ['Category', 'Type']\n",
        "df_num = ['Page total likes'] \n",
        "df_ord = ['Post Month', 'Post Hour','Post Weekday']\n",
        "df_bin = ['Paid']"
      ]
    },
    {
      "cell_type": "code",
      "execution_count": 16,
      "metadata": {
        "colab": {
          "base_uri": "https://localhost:8080/",
          "height": 339
        },
        "id": "V7yfefUAPmhY",
        "outputId": "5b56bd1f-9aae-43e7-fa4a-75383471727a"
      },
      "outputs": [
        {
          "output_type": "display_data",
          "data": {
            "text/plain": [
              "<Figure size 1440x360 with 7 Axes>"
            ],
            "image/png": "[encoded data removed]"
          },
          "metadata": {}
        }
      ],
      "source": [
        "#analizar comportamiento para confirmar clasificación\n",
        "mis_variables = ['Page total likes','Type', 'Category', 'Post Month', 'Post Weekday', 'Post Hour', 'Paid']\n",
        "\n",
        "sns.set(rc = {'figure.figsize':(20, 5)})\n",
        "fig, axes = plt.subplots(1, 7)\n",
        "\n",
        "for k in range(0,7): \n",
        "  plt.subplot(1, 7, k+1)\n",
        "  Transf0 = df[mis_variables[k]]\n",
        "  plt.hist(Transf0, bins=20)\n",
        "\n",
        "  plt.xlabel(mis_variables[k])\n",
        "  if k == 0:\n",
        "    plt.ylabel('Originales')\n"
      ]
    },
    {
      "cell_type": "code",
      "execution_count": 17,
      "metadata": {
        "colab": {
          "base_uri": "https://localhost:8080/",
          "height": 339
        },
        "id": "sghkCktQTm_S",
        "outputId": "cf5a418d-12d5-43e4-bf94-c83eb087ca06"
      },
      "outputs": [
        {
          "output_type": "display_data",
          "data": {
            "text/plain": [
              "<Figure size 1440x360 with 1 Axes>"
            ],
            "image/png": "[encoded data removed]"
          },
          "metadata": {}
        }
      ],
      "source": [
        "#analizar comportamiento para confirmar clasificación\n",
        "mis_variables = ['LPE']\n",
        "\n",
        "sns.set(rc = {'figure.figsize':(20, 5)})\n",
        "fig, axes = plt.subplots(1, 1) \n",
        "\n",
        "for k in range(0,1): \n",
        "  plt.subplot(1, 1, k+1)\n",
        "  Transf0 = df2[mis_variables[k]]\n",
        "  plt.hist(Transf0, bins=20)\n",
        "\n",
        "  plt.xlabel(mis_variables[k])\n",
        "  if k == 0:\n",
        "    plt.ylabel('Originales')"
      ]
    },
    {
      "cell_type": "code",
      "execution_count": 18,
      "metadata": {
        "id": "q6LrLBheSZTi"
      },
      "outputs": [],
      "source": [
        "# Escalando las variables cuantitativas a un rango equiparable\n",
        "pipelineNum = Pipeline(steps = [('imputacionNumerica', SimpleImputer(strategy='median')),('log', FunctionTransformer(np.log))])\n",
        "columnasNum = df_num\n",
        "\n",
        "# Aplicando One-Hot\n",
        "pipelineCategoricas = Pipeline(steps = [('imputacionCategorica', SimpleImputer(strategy='most_frequent')), ('OneHotE', OneHotEncoder(drop='first', handle_unknown = 'ignore'))])\n",
        "columnasCategoricas = df_cat\n",
        "\n",
        "pipelineBinarias = Pipeline(steps = [('imputacionBinaria', SimpleImputer(strategy='most_frequent')), ('OneHotE', OneHotEncoder(drop='first', handle_unknown = 'ignore'))])\n",
        "columnasBinarias = df_bin\n",
        "\n",
        "columnasTransformer = ColumnTransformer(transformers = [('numerical', pipelineNum, columnasNum),\n",
        "                                                        ('categorical', pipelineCategoricas, columnasCategoricas),\n",
        "                                                        ('binaries', pipelineBinarias, columnasBinarias),\n",
        "                                                        ], remainder='passthrough')"
      ]
    },
    {
      "cell_type": "markdown",
      "metadata": {
        "id": "K3mx5_SR89s8"
      },
      "source": [
        "#Ejercicio 5.-\n",
        "Utiliza la función Dummy para modelos de regresión de scikit-learn con el conjunto que tienes de\n",
        "datos de entrenamiento y validación. Para ello particiónalos en 100 para validación y 300 para\n",
        "entrenamiento. Encuentra los errores RMSE, MAE y MAPE para los conjuntos de entrenamiento y\n",
        "validación. Estos serán tus errores máximos que deberás tomar como referencia en el resto de la\n",
        "actividad."
      ]
    },
    {
      "cell_type": "code",
      "execution_count": 19,
      "metadata": {
        "colab": {
          "base_uri": "https://localhost:8080/"
        },
        "id": "YAxR3oS2WoHW",
        "outputId": "982effe1-f89a-4b75-8ed8-f3b3d8728ba5"
      },
      "outputs": [
        {
          "output_type": "stream",
          "name": "stdout",
          "text": [
            "Datos para el entrenamiento  : (299, 7)\n",
            "Datos para la prueba         : (100, 7)\n"
          ]
        }
      ],
      "source": [
        "#Particionar el set de datos entre 100 de validacion y 300 para entrenamiento\n",
        "X_train2, X_val, y_train2, y_val = train_test_split(X_train, y_train, train_size = 0.75, test_size = 0.25, random_state=1)\n",
        "\n",
        "print(\"Datos para el entrenamiento  : \" + str( X_train2.shape ))\n",
        "print(\"Datos para la prueba         : \" + str( X_val.shape ))"
      ]
    },
    {
      "cell_type": "code",
      "execution_count": 20,
      "metadata": {
        "colab": {
          "base_uri": "https://localhost:8080/"
        },
        "id": "FUA2-vGO8-AJ",
        "outputId": "f4b9128d-6f51-49a5-ad77-16b1f1c4b2e0"
      },
      "outputs": [
        {
          "output_type": "stream",
          "name": "stdout",
          "text": [
            "Dummy RMSE Test: 585.5283900684169\n",
            "Dummy MAE Test: 390.77430901220345\n",
            "Dummy MAPE Test: 129.12797817837875\n",
            "Dummy RMSE Validacion: 620.6132234330815\n",
            "Dummy MAE Validacion: 354.3228\n",
            "Dummy MAPE Validacion: 128.23492123413777\n"
          ]
        }
      ],
      "source": [
        "#Modelo Dummy Train\n",
        "modeloDummyT = DummyRegressor(strategy='mean')\n",
        "modeloDummyT.fit(X_train2, y_train2)\n",
        "yhat_t = modeloDummyT.predict(X_train2).ravel()\n",
        "\n",
        "#modelo Dummy validacion\n",
        "modeloDummyV = DummyRegressor(strategy='mean')\n",
        "modeloDummyV.fit(X_val, y_val)\n",
        "yhat_v = modeloDummyV.predict(X_val).ravel()\n",
        "\n",
        "#Aplicando funcion de errores\n",
        "Dummy_RMSE_T = RMSE(y_train2.values,yhat_t)\n",
        "Dummy_MAE_T = MAE(y_train2.values,yhat_t)\n",
        "Dummy_MAPE_T = MAPE(y_train2.values,yhat_t)\n",
        "\n",
        "Dummy_RMSE_V = RMSE(y_val.values,yhat_v)\n",
        "Dummy_MAE_V = MAE(y_val.values,yhat_v)\n",
        "Dummy_MAPE_V = MAPE(y_val.values,yhat_v)\n",
        "\n",
        "#imprime Resultados\n",
        "print('Dummy RMSE Test:', Dummy_RMSE_T)\n",
        "print('Dummy MAE Test:',Dummy_MAE_T)\n",
        "print('Dummy MAPE Test:',Dummy_MAPE_T)\n",
        "print('Dummy RMSE Validacion:', Dummy_RMSE_V)\n",
        "print('Dummy MAE Validacion:',Dummy_MAE_V)\n",
        "print('Dummy MAPE Validacion:',Dummy_MAPE_V)"
      ]
    },
    {
      "cell_type": "markdown",
      "metadata": {
        "id": "GfntxEIQ927R"
      },
      "source": [
        "#Ejercicio 6.- \n",
        "Usando los modelos de regresión lineal múltiple, el bosque aleatorio y el perceptrón multicapa con\n",
        "sus valores predeterminados, lleva a cabo su entrenamiento con repeticiones de validación cruzada\n",
        "(RepeatedKFold) y desplegando los errores RMSE, MAE y MAPE. Recuerda evitar el filtrado de\n",
        "información usando los datos que obtuviste en el ejercicio 2. Incluye las conclusiones sobre el mejor\n",
        "modelo encontrado en esta primera aproximación. En particular ¿hay alguno sobreentrenado o\n",
        "subentrenado? NOTA: Recuerda que puedes aumentar en dado caso el número máximo de\n",
        "iteraciones para que todos los modelos converjan."
      ]
    },
    {
      "cell_type": "code",
      "execution_count": 21,
      "metadata": {
        "id": "gENPi9h1k1jS"
      },
      "outputs": [],
      "source": [
        "from sklearn.linear_model import LinearRegression\n",
        "from sklearn.ensemble import RandomForestClassifier\n",
        "from sklearn.ensemble import RandomForestRegressor\n",
        "from sklearn.neural_network import MLPRegressor\n",
        "from sklearn.neural_network import MLPClassifier\n",
        "import warnings\n",
        "from sklearn.metrics import classification_report, make_scorer\n",
        "from sklearn.model_selection import  cross_validate,  RepeatedStratifiedKFold\n",
        "\n",
        "def get_modelos():\n",
        "    modelos = list()\n",
        "    nombres = list()\n",
        "\n",
        "    #modelos.append(LogisticRegression(solver='liblinear'))\n",
        "    modelos.append(LinearRegression())\n",
        "    nombres.append('LR')\n",
        "    \n",
        "    # Bosque aleatorio\n",
        "    modelos.append(RandomForestRegressor())\n",
        "    nombres.append('Bosque aleatorio')\n",
        "\n",
        "    # Perceptron Multicapa\n",
        "    modelos.append(MLPRegressor(max_iter = 20000))\n",
        "    nombres.append('Perceptron multicapa')\n",
        "                   \n",
        "    return modelos, nombres"
      ]
    },
    {
      "cell_type": "code",
      "execution_count": 22,
      "metadata": {
        "colab": {
          "base_uri": "https://localhost:8080/"
        },
        "id": "tvuZsxZCk1gh",
        "outputId": "0d7b10eb-6d65-44e8-9e09-7d2021b03c3d"
      },
      "outputs": [
        {
          "output_type": "stream",
          "name": "stdout",
          "text": [
            "Validación cruzada para datos de entrenamiento\n",
            "LR:\n",
            "RMSE: 474.830 (34.4615)\n",
            "MAE: 285.309 (16.6276)\n",
            "MAPE: 92.532 (2.7114)\n",
            "\n",
            "LR:\n",
            "RMSE: 492.572 (66.7504)\n",
            "MAE: 301.144 (18.1976)\n",
            "MAPE: 95.855 (7.4249)\n",
            "\n",
            "Bosque aleatorio:\n",
            "RMSE: 205.482 (20.6975)\n",
            "MAE: 124.264 (10.7506)\n",
            "MAPE: 38.348 (2.5840)\n",
            "\n",
            "Bosque aleatorio:\n",
            "RMSE: 554.427 (78.0411)\n",
            "MAE: 334.729 (30.9131)\n",
            "MAPE: 106.206 (7.6215)\n",
            "\n",
            "Perceptron multicapa:\n",
            "RMSE: 483.470 (39.9512)\n",
            "MAE: 299.950 (23.2329)\n",
            "MAPE: 94.676 (4.2648)\n",
            "\n",
            "Perceptron multicapa:\n",
            "RMSE: 511.234 (57.1015)\n",
            "MAE: 323.130 (15.9599)\n",
            "MAPE: 99.855 (9.8042)\n",
            "\n"
          ]
        }
      ],
      "source": [
        "modelos, nombres = get_modelos()\n",
        "resultadosCVTrain = list()\n",
        "resultadosCVTest = list()\n",
        "resultadoMAPETrain = list()\n",
        "resultadoMAPETest = list()\n",
        "\n",
        "warnings.filterwarnings(\"ignore\")\n",
        "\n",
        "mismetricas = {'RMSE':make_scorer(RMSE), 'MAE':make_scorer(MAE), 'MAPE':make_scorer(MAPE)}\n",
        "\n",
        "print( \"Validación cruzada para datos de entrenamiento\" )\n",
        "for i in range(len(modelos)):\n",
        "    cv = RepeatedStratifiedKFold( n_splits=3, n_repeats=5, random_state=10 )  \n",
        "    pipeline = Pipeline(steps=[('ct', columnasTransformer), ('m',modelos[i])])\n",
        "    resultadosCVTrain = cross_validate(pipeline, X_train, y_train, scoring=mismetricas, cv= cv, return_train_score=True)\n",
        "\n",
        "    print('%s:\\nRMSE: %.3f (%.4f)\\nMAE: %.3f (%.4f)\\nMAPE: %.3f (%.4f)\\n' % (nombres[i],\n",
        "                                                                            np.mean(resultadosCVTrain['train_RMSE']),\n",
        "                                                                            np.std(resultadosCVTrain['train_RMSE']),\n",
        "                                                                            np.mean(resultadosCVTrain['train_MAE']),\n",
        "                                                                            np.std(resultadosCVTrain['train_MAE']),                                                                           \n",
        "                                                                            np.mean(resultadosCVTrain['train_MAPE']),\n",
        "                                                                            np.std(resultadosCVTrain['train_MAPE'])\n",
        "                                                                            ))\n",
        "\n",
        "    print('%s:\\nRMSE: %.3f (%.4f)\\nMAE: %.3f (%.4f)\\nMAPE: %.3f (%.4f)\\n' % (nombres[i],\n",
        "                                                                            np.mean(resultadosCVTrain['test_RMSE']),\n",
        "                                                                            np.std(resultadosCVTrain['test_RMSE']),\n",
        "                                                                            np.mean(resultadosCVTrain['test_MAE']),\n",
        "                                                                            np.std(resultadosCVTrain['test_MAE']),                                                                           \n",
        "                                                                            np.mean(resultadosCVTrain['test_MAPE']),\n",
        "                                                                            np.std(resultadosCVTrain['test_MAPE'])\n",
        "                                                                            ))\n",
        "\n",
        "    resultadoMAPETrain.append(resultadosCVTrain['train_MAPE'])  \n",
        "    resultadoMAPETest.append(resultadosCVTrain['test_MAPE'])\n",
        "     "
      ]
    },
    {
      "cell_type": "markdown",
      "metadata": {
        "id": "hKuZzDWQsNXf"
      },
      "source": [
        "**CONCLUSIONES:**\n",
        "\n",
        "Al observar los valores que arrojan los modelos con los datos de entrenamiento y datos de prueba, se observa lo siguiente:\n",
        "\n",
        "**Modelo de regresión lineal**. Se identifica que este modelo está sobre-entrenado, ya que hay una diferencia relativamente grande entre el error de entrenamiento y el error de prueba.\n",
        "\n",
        "**Modelo de Bosque Aleatorio**. Se considera que también está muy sobre-entrenado, ya que el error de entrenamiento es mucho menor que el error de prueba.\n",
        "\n",
        "**Modelo Perceptrón**. Se identifica que este modelo no está sobre-entrenado, ya que hay una diferencia relativamente pequeña entre el error de entrenamiento y el error de prueba."
      ]
    },
    {
      "cell_type": "markdown",
      "metadata": {
        "id": "Olwf1Pmaz2cq"
      },
      "source": [
        "#Ejercicio 7.- \n",
        "Obtener los diagramas de caja y bigote para los errores MAPE de los conjuntos de validación\n",
        "obtenidos. En particular compara estos primeros resultados de MAPE con el mejor resultado que\n",
        "encuentran los autores del artículo citado al inicio. Incluye tus conclusiones."
      ]
    },
    {
      "cell_type": "code",
      "execution_count": 23,
      "metadata": {
        "id": "9EiWJHDdk1d0",
        "colab": {
          "base_uri": "https://localhost:8080/",
          "height": 519
        },
        "outputId": "14b32d3c-0bed-4a06-bc04-ea9695232d14"
      },
      "outputs": [
        {
          "output_type": "display_data",
          "data": {
            "text/plain": [
              "<Figure size 864x288 with 1 Axes>"
            ],
            "image/png": "[encoded data removed]"
          },
          "metadata": {}
        },
        {
          "output_type": "display_data",
          "data": {
            "text/plain": [
              "<Figure size 864x288 with 1 Axes>"
            ],
            "image/png": "[encoded data removed]"
          },
          "metadata": {}
        }
      ],
      "source": [
        "sns.set( rc={\"figure.figsize\": (12, 4)} )\n",
        "\n",
        "# Imprimiendo la métrica recall en diagrama de caja - Datos de entrenamiento\n",
        "plt.boxplot(resultadoMAPETrain, labels=nombres, showmeans=True)\n",
        "plt.show()\n",
        "\n",
        "# Imprimiendo la métrica recall en diagrama de caja - Datos de validación\n",
        "plt.boxplot(resultadoMAPETest, labels=nombres, showmeans=True)\n",
        "plt.show()"
      ]
    },
    {
      "cell_type": "markdown",
      "metadata": {
        "id": "VK80POy_rgPj"
      },
      "source": [
        "**CONCLUSIONES:**\n",
        "\n",
        "**Se osberva que los autores alcanzaron una mejor métrica de MAPE, alcanzando 26.9%. En contraste, los mejores resultados obtenidos respecto al MAPE, se obtuvieron con el modelo de regresión lineal para el conjunto de prueba.**\n",
        "\n",
        "**Entre más angosta la caja es que los valores no variaron tanto, entre más grande la caja es que los valores tienen mayor varianza.**\n",
        "\n",
        "**El bosque aleatorio está muy sobre-entrenado.\n",
        "La red neuronal no experimenta sobre-entrenamiento pero tiene menor rendimiento. También tiene valores atípicos, que no son deseables para este experimento.**"
      ]
    },
    {
      "cell_type": "markdown",
      "metadata": {
        "id": "YxhVoXQp7RPi"
      },
      "source": [
        "#Ejercicio 8.- \n",
        "Usando una búsqueda de malla con validación cruzada (GridSearchCV), busca los mejores\n",
        "hiperparámetros para el modelo MLP. Al menos deberás realizar la búsqueda en los\n",
        "hiperparámetros “hidden_layer_sizes”, “alpha” y “learning_rate_init”. Además aplica la validación\n",
        "cruzada con repeticiones (RepeatedKFold). Muestra los mejores hiperparámetros encontrados."
      ]
    },
    {
      "cell_type": "code",
      "execution_count": 24,
      "metadata": {
        "id": "GT3_xKxOk1bT"
      },
      "outputs": [],
      "source": [
        "\n",
        "#obtener modelos y parámetros\n",
        "modeloMLP_iter = MLPRegressor(max_iter=10000)\n",
        "cvLR = RepeatedKFold(n_splits=5, n_repeats=3, random_state=0)\n",
        "\n",
        "dicc_grid = [{'hidden_layer_sizes': [(5,5),(7,7),(9,9),(11,11),(13,13),(15,15),(17,17),(19,19)],\n",
        "              'alpha':[0.0001, 0.001, 0.005, 0.05 ],\n",
        "              'learning_rate_init': [0.001, 0.005, 0.01]\n",
        "              }]\n",
        "\n",
        "grid = GridSearchCV(estimator=modeloMLP_iter,\n",
        "                    param_grid=dicc_grid,\n",
        "                    cv=cvLR,\n",
        "                    scoring = 'neg_mean_absolute_percentage_error',\n",
        "                    error_score='raise'                    \n",
        "                    )\n"
      ]
    },
    {
      "cell_type": "code",
      "execution_count": 25,
      "metadata": {
        "id": "gVcnixS27X-L",
        "colab": {
          "base_uri": "https://localhost:8080/"
        },
        "outputId": "519ead12-21fc-4279-db10-4566459033dd"
      },
      "outputs": [
        {
          "output_type": "stream",
          "name": "stdout",
          "text": [
            "Mejor valor de MAPE obtenido con la mejor combinacion: -1.1335744564174988\n",
            "Mejor combinacion de valores con hyperparametros: {'alpha': 0.005, 'hidden_layer_sizes': (5, 5), 'learning_rate_init': 0.001}\n",
            "Métrica utilizando:  neg_mean_absolute_percentage_error\n"
          ]
        }
      ],
      "source": [
        "#X y Y transformados previamente\n",
        "grid.fit(X_train, np.ravel(y_train))\n",
        "\n",
        "print('Mejor valor de MAPE obtenido con la mejor combinacion:', grid.best_score_)\n",
        "print('Mejor combinacion de valores con hyperparametros:', grid.best_params_)\n",
        "print('Métrica utilizando: ', grid.scoring)"
      ]
    },
    {
      "cell_type": "markdown",
      "metadata": {
        "id": "ubJHLMuL7YlH"
      },
      "source": [
        "# Ejercicio 9.- \n",
        "\n",
        "Con los mejores valores de los hiperparámetros encontrados realiza un análisis de la importancia de\n",
        "los factores. Muestra un diagrama de barras de los resultados e incluye tus conclusiones."
      ]
    },
    {
      "cell_type": "code",
      "execution_count": 26,
      "metadata": {
        "id": "q93XoWbz7cf6",
        "colab": {
          "base_uri": "https://localhost:8080/",
          "height": 401
        },
        "outputId": "9ada6498-d686-4ee2-84bf-a44f020a1423"
      },
      "outputs": [
        {
          "output_type": "stream",
          "name": "stdout",
          "text": [
            "Feature: 0, Score: 0.01143\n",
            "Feature: 1, Score: 0.00046\n",
            "Feature: 2, Score: -0.00005\n",
            "Feature: 3, Score: 0.00077\n",
            "Feature: 4, Score: -0.00003\n",
            "Feature: 5, Score: -0.00021\n",
            "Feature: 6, Score: -0.00009\n"
          ]
        },
        {
          "output_type": "display_data",
          "data": {
            "text/plain": [
              "<Figure size 864x288 with 1 Axes>"
            ],
            "image/png": "[encoded data removed]"
          },
          "metadata": {}
        }
      ],
      "source": [
        "# Una vez inicializado y entrenada la MLP, veamos qué factores considera más importantes:\n",
        "from sklearn.inspection import permutation_importance\n",
        "modelo_MLP = MLPRegressor(hidden_layer_sizes=(5,5), \n",
        "                            max_iter=20000, \n",
        "                            alpha=0.005,\n",
        "                            learning_rate_init=0.001)  \n",
        "\n",
        "modelo_MLP.fit(X_train, y_train)\n",
        "\n",
        "importance = permutation_importance(modelo_MLP, X_train, y_train, n_repeats=10)\n",
        "\n",
        "# visualicemos la importancia de cada métrica, de las cuales sabemos\n",
        "# cuáles son las más importantes, de acuerdo a como se definieron al inicio:\n",
        "\n",
        "for i,v in enumerate(importance['importances_mean']):\n",
        "\tprint('Feature: %0d, Score: %.5f' % (i,v))\n",
        " \n",
        "plt.bar([x for x in range(len(importance['importances_mean']))], importance['importances_mean'])\n",
        "plt.show()"
      ]
    },
    {
      "cell_type": "markdown",
      "metadata": {
        "id": "NnzgVJi9s3HI"
      },
      "source": [
        "Las características que tienen mayor importancia en el modelo, es la 0, 3 y 5.\n",
        "Las carcaterísticas son ls siguientes: \n",
        "0:'Page total likes'\n",
        "1:'Type'\n",
        "3:'Category'\n",
        "4:'Post Month'\n",
        "5:'Post Weekday'\n",
        "6:'Post Hour', 'Paid'.\n",
        "\n",
        "Se observa que la carcaterística 'Page total likes' es por mucho la más importante de todas para predecir la variable LPE, es la variable que más provee información.\n",
        "\n",
        "Casi que para este ejercicio se podrían eliminar estas caracetísticas que no aportan información al modelo, y se podrían obtener resultados similares."
      ]
    },
    {
      "cell_type": "markdown",
      "metadata": {
        "id": "rFByDct2YNrf"
      },
      "source": [
        "# Ejercicio 10.-\n",
        "\n",
        "Repite el ejercicio 8 y 9 para el modelo de bosque aleatorio para buscar sus mejores hiperparámetros (realiza la búsqueda con aquellos hiperparámetros que consideres más adecuados) y usando el conjunto de Prueba. Y realiza igualmente el análisis de importancia de factores con este modelo con un diagrama de barras. \n"
      ]
    },
    {
      "cell_type": "code",
      "execution_count": 27,
      "metadata": {
        "id": "LbvedVnmYXZV"
      },
      "outputs": [],
      "source": [
        "from sklearn.ensemble import RandomForestRegressor\n",
        "from sklearn.preprocessing import StandardScaler\n",
        "#datos de prueba o etto\n",
        "\n",
        "#obtener modelos y parámetros\n",
        "modelo_RF = RandomForestRegressor()\n",
        "\n",
        "cvLR = RepeatedKFold(n_splits=5, n_repeats=3, random_state=0)\n",
        "\n",
        "dicc_grid = [{\n",
        "    'bootstrap': [True],\n",
        "    'max_depth': [80, 90, 100, 110],\n",
        "    'max_features': [2, 3],\n",
        "    'min_samples_leaf': [3, 4, 5],\n",
        "    'min_samples_split': [8, 10, 12],\n",
        "    'n_estimators': [100, 200, 300, 1000]\n",
        "              }]\n",
        "\n",
        "grid_RF = GridSearchCV(estimator=modelo_RF,\n",
        "                    param_grid=dicc_grid,\n",
        "                    cv=cvLR,\n",
        "                    scoring = 'neg_mean_absolute_percentage_error',\n",
        "                    error_score='raise'                    \n",
        "                    )"
      ]
    },
    {
      "cell_type": "code",
      "execution_count": 28,
      "metadata": {
        "id": "aPUog_NzC587",
        "outputId": "000fc529-8798-4c5d-843d-eab021dd7865",
        "colab": {
          "base_uri": "https://localhost:8080/"
        }
      },
      "outputs": [
        {
          "output_type": "stream",
          "name": "stdout",
          "text": [
            "Mejor valor de MAPE obtenido con la mejor combinacion: -1.8521940498497795\n",
            "Mejor combinacion de valores con hyperparametros: {'bootstrap': True, 'max_depth': 110, 'max_features': 2, 'min_samples_leaf': 4, 'min_samples_split': 10, 'n_estimators': 100}\n",
            "Métrica utilizando:  neg_mean_absolute_percentage_error\n"
          ]
        }
      ],
      "source": [
        "#X y Y transformados previamente\n",
        "grid_RF.fit(X_test, np.ravel(y_test))\n",
        "\n",
        "\n",
        "print('Mejor valor de MAPE obtenido con la mejor combinacion:', grid_RF.best_score_)\n",
        "print('Mejor combinacion de valores con hyperparametros:', grid_RF.best_params_)\n",
        "print('Métrica utilizando: ', grid_RF.scoring)"
      ]
    },
    {
      "cell_type": "code",
      "execution_count": 29,
      "metadata": {
        "id": "Bom6oOpIC82i",
        "outputId": "5f332829-6a69-45e7-8baa-c35b2cbeb34a",
        "colab": {
          "base_uri": "https://localhost:8080/",
          "height": 397
        }
      },
      "outputs": [
        {
          "output_type": "stream",
          "name": "stdout",
          "text": [
            "Feature: 0, Score: 0.25090\n",
            "Feature: 1, Score: 1.20790\n",
            "Feature: 2, Score: 0.03499\n",
            "Feature: 3, Score: 0.04224\n",
            "Feature: 4, Score: 0.40435\n",
            "Feature: 5, Score: 0.14397\n",
            "Feature: 6, Score: 0.06402\n"
          ]
        },
        {
          "output_type": "display_data",
          "data": {
            "text/plain": [
              "<Figure size 864x288 with 1 Axes>"
            ],
            "image/png": "[encoded data removed]"
          },
          "metadata": {}
        }
      ],
      "source": [
        "# Una vez inicializado y entrenada la MLP, veamos qué factores considera más importantes:\n",
        "from sklearn.inspection import permutation_importance\n",
        "\n",
        "modelo_RF.fit(X_test, y_test)\n",
        "\n",
        "importance_RF = permutation_importance(modelo_RF, X_test, y_test, n_repeats=10)\n",
        "\n",
        "# visualicemos la importancia de cada métrica, de las cuales sabemos\n",
        "# cuáles son las más importantes, de acuerdo a como se definieron al inicio:\n",
        "\n",
        "for i,v in enumerate(importance_RF['importances_mean']):\n",
        "\tprint('Feature: %0d, Score: %.5f' % (i,v))\n",
        " \n",
        "plt.bar([x for x in range(len(importance_RF['importances_mean']))], importance_RF['importances_mean'])\n",
        "plt.show()"
      ]
    },
    {
      "cell_type": "markdown",
      "metadata": {
        "id": "FYmzdRYIukVa"
      },
      "source": [
        "**Conclusiones:**\n",
        "Está sobre-entrenado pero tiene relación con el feature importance del artículo."
      ]
    },
    {
      "cell_type": "markdown",
      "metadata": {
        "id": "LAMYHM96YXuv"
      },
      "source": [
        "# Ejercicio 11.-\n",
        "\n",
        "Repite el ejercicio 8 y 9 para el modelo de regresión lineal múltiple para buscar sus mejores hiperparámetros (realiza la búsqueda con aquellos hiperparámetros que consideres más adecuados) y usando el conjunto de Prueba. Y realiza igualmente el análisis de importancia de factores con este modelo con un diagrama de barras."
      ]
    },
    {
      "cell_type": "code",
      "execution_count": 30,
      "metadata": {
        "id": "zp9KQHaXYlJE"
      },
      "outputs": [],
      "source": [
        "from sklearn.linear_model import LinearRegression\n",
        "\n",
        "#obtener modelos y parámetros\n",
        "\n",
        "modelo_LR = LinearRegression()\n",
        "cvLR = RepeatedKFold(n_splits=5, n_repeats=3, random_state=0)\n",
        "\n",
        "dicc_grid = [{'fit_intercept':[True,False],'normalize':[True,False]}]\n",
        "\n",
        "grid_LR = GridSearchCV(estimator=modelo_LR,\n",
        "                    param_grid=dicc_grid,\n",
        "                    cv=cvLR,\n",
        "                    scoring = 'neg_mean_absolute_percentage_error',\n",
        "                    error_score='raise'                    \n",
        "                    )"
      ]
    },
    {
      "cell_type": "code",
      "execution_count": 31,
      "metadata": {
        "id": "SCTZsWo2DCas",
        "outputId": "22f9af81-316f-4c36-eb48-97bc34e152e2",
        "colab": {
          "base_uri": "https://localhost:8080/"
        }
      },
      "outputs": [
        {
          "output_type": "stream",
          "name": "stdout",
          "text": [
            "Mejor valor de MAPE obtenido con la mejor combinacion: -2.064511355025179\n",
            "Mejor combinacion de valores con hyperparametros: {'fit_intercept': True, 'normalize': True}\n",
            "Métrica utilizando:  neg_mean_absolute_percentage_error\n"
          ]
        }
      ],
      "source": [
        "#X y Y transformados previamente\n",
        "grid_LR.fit(X_test, np.ravel(y_test))\n",
        "\n",
        "print('Mejor valor de MAPE obtenido con la mejor combinacion:', grid_LR.best_score_)\n",
        "print('Mejor combinacion de valores con hyperparametros:', grid_LR.best_params_)\n",
        "print('Métrica utilizando: ', grid_LR.scoring)"
      ]
    },
    {
      "cell_type": "code",
      "execution_count": 32,
      "metadata": {
        "id": "YKscWohsDHdU",
        "outputId": "82e7028e-18cd-4a19-f3b8-75ce1bc22753",
        "colab": {
          "base_uri": "https://localhost:8080/",
          "height": 399
        }
      },
      "outputs": [
        {
          "output_type": "stream",
          "name": "stdout",
          "text": [
            "Feature: 0, Score: 0.28802\n",
            "Feature: 1, Score: 0.25959\n",
            "Feature: 2, Score: 0.02580\n",
            "Feature: 3, Score: 0.22564\n",
            "Feature: 4, Score: 0.00731\n",
            "Feature: 5, Score: 0.03696\n",
            "Feature: 6, Score: -0.00007\n"
          ]
        },
        {
          "output_type": "display_data",
          "data": {
            "text/plain": [
              "<Figure size 864x288 with 1 Axes>"
            ],
            "image/png": "[encoded data removed]"
          },
          "metadata": {}
        }
      ],
      "source": [
        "# Una vez inicializado y entrenada la MLP, veamos qué factores considera más importantes:\n",
        "from sklearn.inspection import permutation_importance\n",
        "\n",
        "modelo_LR.fit(X_test, y_test)\n",
        "\n",
        "importance = permutation_importance(modelo_LR, X_test, y_test, n_repeats=10)\n",
        "\n",
        "# visualicemos la importancia de cada métrica, de las cuales sabemos\n",
        "# cuáles son las más importantes, de acuerdo a como se definieron al inicio:\n",
        "\n",
        "for i,v in enumerate(importance['importances_mean']):\n",
        "\tprint('Feature: %0d, Score: %.5f' % (i,v))\n",
        " \n",
        "plt.bar([x for x in range(len(importance['importances_mean']))], importance['importances_mean'])\n",
        "plt.show()"
      ]
    },
    {
      "cell_type": "markdown",
      "metadata": {
        "id": "sljkAmxAYtxX"
      },
      "source": [
        "# Ejercicio 12.-\n",
        "\n",
        "Compara tus resultados con los obtenidos por los autores del artículo de Moro-Rita-Vala con respecto a MAPE. Incluye tus conclusiones finales de la actividad."
      ]
    },
    {
      "cell_type": "markdown",
      "metadata": {
        "id": "KB8SNSFktwn-"
      },
      "source": [
        "**CONCLUSIONES FINALES:**\n",
        "\n",
        "Las características son las siguientes:\n",
        "'Page total likes' (0)\n",
        "'Type' (1)\n",
        "'Category' (2)\n",
        "'Post Month'(3)\n",
        "'Post Weekday' (4)\n",
        "'Post Hour'(5)\n",
        "'Paid' (6)\n",
        "\n",
        "A diferencia de lo obtenido por los autores, la característica que más influye en el modelo es la de \"Page total likes\", mientras que en el modelo de los autores es \"Type\".\n",
        "\n",
        "\n",
        "\n",
        "![Features.jpg](data:image/jpeg;base64,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)\n",
        "\n",
        "Considerando el desempeño de los modelos sin ajustar los hiperparámetros, se osberva que los autores alcanzaron una mejor métrica de MAPE, alcanzando 26.9%. En contraste, los mejores resultados obtenidos en nuestros modelos respecto al MAPE, se obtuvieron con el modelo de regresión lineal para el conjunto de prueba.\n",
        "\n",
        "Las características \"TYPE\" y \"PAGE TOTAL LIKES\" son relevantes tanto para el modelo de los autores como para nuestros modelos, aunque con diferente ponderación.\n",
        "\n",
        "NOTA: REVISAR QUÉ ALGORTIMO UTILIZARON LOS AUTORES PARA IDENTIFICAR LA IMPORTANCIA DE LAS CARACTERÍSTICAS"
      ]
    }
  ],
  "metadata": {
    "colab": {
      "collapsed_sections": [],
      "provenance": [],
      "include_colab_link": true
    },
    "gpuClass": "standard",
    "kernelspec": {
      "display_name": "Python 3",
      "name": "python3"
    },
    "language_info": {
      "name": "python"
    }
  },
  "nbformat": 4,
  "nbformat_minor": 0
}